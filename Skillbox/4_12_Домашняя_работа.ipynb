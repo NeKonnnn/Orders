{
 "cells": [
  {
   "cell_type": "markdown",
   "metadata": {
    "id": "NTvgYjVhnE6h"
   },
   "source": [
    "### Домашняя работа\n",
    "\n",
    "**Задача высокого уровня** В реализацию функции `gradient` добавьте параметр $\\lambda$, чтобы получить регуляризованный градиентный спуск\n",
    "\n",
    "Формула поменяется следующим образом:\n",
    "$$\n",
    "\\left\\{\n",
    "\\begin{array}{cc}\n",
    "\\frac{\\partial L}{\\partial w_0} = \\frac{2}{n}\\cdot(-1)\\cdot \\sum_{i=1}^{n} (1\\cdot \\left(y_i - \\sum_{j=1}^{m}w_jx_j^i\\right) + \\lambda\\cdot 2\\cdot w_0)&\\\\\n",
    "\\frac{\\partial L}{\\partial w_k} = \\frac{2}{n}\\cdot(-1)\\cdot \\sum_{i=1}^{n} (x_k^i \\cdot\\left(y_i - \\sum_{j=1}^{m}w_jx_j^i\\right) + \\lambda\\cdot 2\\cdot w_k)& k\\neq 0 \\\\\n",
    "\\end{array}\n",
    "\\right.\n",
    "$$"
   ]
  },
  {
   "cell_type": "code",
   "execution_count": 1,
   "metadata": {
    "id": "zxpLYBR9PuBe"
   },
   "outputs": [],
   "source": [
    "import numpy as np\n",
    "\n",
    "def custom_regularized_gradient(X, y, weights, lmbda):\n",
    "    n, m = X.shape \n",
    "    gradients = np.zeros_like(weights)\n",
    "    \n",
    "    # Расчет градиента для w0\n",
    "    for i in range(n):\n",
    "        sum_wx = np.sum(weights[1:] * X[i, 1:])\n",
    "        gradients[0] += -2 / n * (1 * (y[i] - sum_wx) + lmbda * 2 * weights[0])\n",
    "    \n",
    "    # Расчет градиентов для остальных весов\n",
    "    for k in range(1, m):\n",
    "        for i in range(n):\n",
    "            sum_wx = np.sum(weights[1:] * X[i, 1:])\n",
    "            gradients[k] += -2 / n * (X[i, k] * (y[i] - sum_wx) + lmbda * 2 * weights[k])\n",
    "    \n",
    "    return gradients"
   ]
  },
  {
   "cell_type": "markdown",
   "metadata": {
    "id": "dQ7gRtDmnE6p"
   },
   "source": [
    "В этом модуле мы узнали, как  обучать линейную регрессию, не \"упираясь\" в аппаратные ресурсы: использовать градиентный спуск.\n",
    "Мы узнали, как детектировать переобучение модели и закрепили свои знания на примере полиномиальной регрессии и выяснили, как увеличить качество решения с помощью механизма регуляризации. Познакомились с двумя видами регуляризации -  Ridge и Lasso."
   ]
  },
  {
   "cell_type": "markdown",
   "metadata": {},
   "source": [
    "Однако, формула не совсем корректная, если мы хотим реализовать гребневую регрессию или L2-регуляризацию, то верные формулы для градиентов выглядят следующим образом:\n",
    "\n",
    "$$\n",
    "\\left\\{\n",
    "\\begin{array}{ll}\n",
    "\\frac{\\partial L}{\\partial w_0} = \\frac{2}{n}\\cdot \\sum_{i=1}^{n} \\left(-\\left(y_i - \\left(\\sum_{j=0}^{m}w_jx_j^i\\right)\\right)\\right)&\\\\\n",
    "\\frac{\\partial L}{\\partial w_k} = \\frac{2}{n}\\cdot \\sum_{i=1}^{n} \\left(-x_k^i \\left(y_i - \\left(\\sum_{j=0}^{m}w_jx_j^i\\right)\\right) + \\lambda\\cdot w_k\\right)& k\\neq 0 \\\\\n",
    "\\end{array}\n",
    "\\right.\n",
    "$$"
   ]
  },
  {
   "cell_type": "code",
   "execution_count": null,
   "metadata": {},
   "outputs": [],
   "source": [
    "def regularized_gradient(X, y, weights, lmbda):\n",
    "    n = len(y)\n",
    "    gradients = np.zeros_like(weights)\n",
    "    \n",
    "    # Расчет градиента для w0\n",
    "    predictions = np.dot(X, weights)\n",
    "    error = y - predictions\n",
    "    gradients[0] = -2 * np.mean(error)\n",
    "    \n",
    "    # Расчет градиентов для остальных весов\n",
    "    for k in range(1, len(weights)):\n",
    "        gradients[k] = -2 * np.mean(X[:, k] * error) + 2 * lmbda * weights[k]\n",
    "    \n",
    "    return gradients"
   ]
  }
 ],
 "metadata": {
  "celltoolbar": "Slideshow",
  "colab": {
   "provenance": []
  },
  "kernelspec": {
   "display_name": "Python 3 (ipykernel)",
   "language": "python",
   "name": "python3"
  },
  "language_info": {
   "codemirror_mode": {
    "name": "ipython",
    "version": 3
   },
   "file_extension": ".py",
   "mimetype": "text/x-python",
   "name": "python",
   "nbconvert_exporter": "python",
   "pygments_lexer": "ipython3",
   "version": "3.11.4"
  }
 },
 "nbformat": 4,
 "nbformat_minor": 1
}
