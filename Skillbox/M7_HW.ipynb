{
 "cells": [
  {
   "cell_type": "markdown",
   "metadata": {},
   "source": [
    "<p style=\"align: center;\"><img align=center src=\"https://mailfit.com/wp-content/uploads/2019/11/lego-5.png\"  width=900></p>\n",
    "<h1 style=\"text-align: center;\"><b>«Домашняя работа» - Ускорение тестирования</b></h3>\n"
   ]
  },
  {
   "cell_type": "markdown",
   "metadata": {},
   "source": [
    "## Импорт библиотек"
   ]
  },
  {
   "cell_type": "code",
   "execution_count": 1,
   "metadata": {},
   "outputs": [],
   "source": [
    "import numpy as np\n",
    "import pandas as pd\n",
    "from scipy.stats import ttest_ind\n",
    "\n",
    "import scipy\n",
    "\n",
    "import matplotlib.pyplot as plt\n",
    "import seaborn as sns\n",
    "sns.set_theme()"
   ]
  },
  {
   "cell_type": "markdown",
   "metadata": {},
   "source": [
    "## Импорт данных"
   ]
  },
  {
   "cell_type": "code",
   "execution_count": 2,
   "metadata": {},
   "outputs": [
    {
     "name": "stdout",
     "output_type": "stream",
     "text": [
      "Размеры датасета (50000, 2)\n"
     ]
    },
    {
     "data": {
      "text/html": [
       "<div>\n",
       "<style scoped>\n",
       "    .dataframe tbody tr th:only-of-type {\n",
       "        vertical-align: middle;\n",
       "    }\n",
       "\n",
       "    .dataframe tbody tr th {\n",
       "        vertical-align: top;\n",
       "    }\n",
       "\n",
       "    .dataframe thead th {\n",
       "        text-align: right;\n",
       "    }\n",
       "</style>\n",
       "<table border=\"1\" class=\"dataframe\">\n",
       "  <thead>\n",
       "    <tr style=\"text-align: right;\">\n",
       "      <th></th>\n",
       "      <th>group</th>\n",
       "      <th>metrica</th>\n",
       "    </tr>\n",
       "    <tr>\n",
       "      <th>strata</th>\n",
       "      <th></th>\n",
       "      <th></th>\n",
       "    </tr>\n",
       "  </thead>\n",
       "  <tbody>\n",
       "    <tr>\n",
       "      <th>11</th>\n",
       "      <td>history</td>\n",
       "      <td>42.631346</td>\n",
       "    </tr>\n",
       "    <tr>\n",
       "      <th>6</th>\n",
       "      <td>history</td>\n",
       "      <td>14.844453</td>\n",
       "    </tr>\n",
       "    <tr>\n",
       "      <th>4</th>\n",
       "      <td>history</td>\n",
       "      <td>2.362768</td>\n",
       "    </tr>\n",
       "    <tr>\n",
       "      <th>37</th>\n",
       "      <td>history</td>\n",
       "      <td>79.494017</td>\n",
       "    </tr>\n",
       "    <tr>\n",
       "      <th>18</th>\n",
       "      <td>history</td>\n",
       "      <td>-22.627788</td>\n",
       "    </tr>\n",
       "    <tr>\n",
       "      <th>34</th>\n",
       "      <td>history</td>\n",
       "      <td>28.679378</td>\n",
       "    </tr>\n",
       "  </tbody>\n",
       "</table>\n",
       "</div>"
      ],
      "text/plain": [
       "          group    metrica\n",
       "strata                    \n",
       "11      history  42.631346\n",
       "6       history  14.844453\n",
       "4       history   2.362768\n",
       "37      history  79.494017\n",
       "18      history -22.627788\n",
       "34      history  28.679378"
      ]
     },
     "execution_count": 2,
     "metadata": {},
     "output_type": "execute_result"
    }
   ],
   "source": [
    "data_path = \"https://raw.githubusercontent.com/a-milenkin/Datasetes_for_Piplines/main/SkillBox/ab_speedup.csv\"\n",
    "data = pd.read_csv(data_path, index_col=0)\n",
    "print(\"Размеры датасета\", data.shape)\n",
    "data.head(6)"
   ]
  },
  {
   "cell_type": "markdown",
   "metadata": {},
   "source": [
    "<div class=\"alert alert-info\">\n",
    "<b>Про Датасет</b>\n",
    "    \n",
    "Датасет представляет собой результаты некоторого А/B-Теста. \n",
    "\n",
    "* `strata` - Некоторая информация по страту (группа), к которой относится пользователь. \n",
    "* `group` - Группа эксперимента - тестовая, контрольная или прошлая история. \n",
    "* `metrica` - Целивая метрика\n",
    "    \n",
    "</div>"
   ]
  },
  {
   "cell_type": "code",
   "execution_count": 3,
   "metadata": {},
   "outputs": [
    {
     "data": {
      "text/html": [
       "<div>\n",
       "<style scoped>\n",
       "    .dataframe tbody tr th:only-of-type {\n",
       "        vertical-align: middle;\n",
       "    }\n",
       "\n",
       "    .dataframe tbody tr th {\n",
       "        vertical-align: top;\n",
       "    }\n",
       "\n",
       "    .dataframe thead th {\n",
       "        text-align: right;\n",
       "    }\n",
       "</style>\n",
       "<table border=\"1\" class=\"dataframe\">\n",
       "  <thead>\n",
       "    <tr style=\"text-align: right;\">\n",
       "      <th></th>\n",
       "      <th>strata</th>\n",
       "      <th>group</th>\n",
       "      <th>metrica</th>\n",
       "    </tr>\n",
       "  </thead>\n",
       "  <tbody>\n",
       "    <tr>\n",
       "      <th>0</th>\n",
       "      <td>11</td>\n",
       "      <td>history</td>\n",
       "      <td>42.631346</td>\n",
       "    </tr>\n",
       "    <tr>\n",
       "      <th>1</th>\n",
       "      <td>6</td>\n",
       "      <td>history</td>\n",
       "      <td>14.844453</td>\n",
       "    </tr>\n",
       "    <tr>\n",
       "      <th>2</th>\n",
       "      <td>4</td>\n",
       "      <td>history</td>\n",
       "      <td>2.362768</td>\n",
       "    </tr>\n",
       "    <tr>\n",
       "      <th>3</th>\n",
       "      <td>37</td>\n",
       "      <td>history</td>\n",
       "      <td>79.494017</td>\n",
       "    </tr>\n",
       "    <tr>\n",
       "      <th>4</th>\n",
       "      <td>18</td>\n",
       "      <td>history</td>\n",
       "      <td>-22.627788</td>\n",
       "    </tr>\n",
       "  </tbody>\n",
       "</table>\n",
       "</div>"
      ],
      "text/plain": [
       "   strata    group    metrica\n",
       "0      11  history  42.631346\n",
       "1       6  history  14.844453\n",
       "2       4  history   2.362768\n",
       "3      37  history  79.494017\n",
       "4      18  history -22.627788"
      ]
     },
     "execution_count": 3,
     "metadata": {},
     "output_type": "execute_result"
    }
   ],
   "source": [
    " # Сброс индекса для преобразования индекса в столбец\n",
    "data_reset = data.reset_index()\n",
    "\n",
    "# Показ первых нескольких строк преобразованных данных\n",
    "data_reset.head()"
   ]
  },
  {
   "cell_type": "markdown",
   "metadata": {},
   "source": [
    "<div class=\"alert alert-info\">\n",
    "\n",
    "<b>Задание:</b>    \n",
    "    \n",
    "Найти различие между группами, увеличив чувствительность тестов тремя способами поочередно:\n",
    "* Бутстрап\n",
    "* Стратификация\n",
    "* CUPED\n",
    "    \n",
    "Вспомогательная статья Валерия Бабушкина про стратификацию и CUPED:\n",
    "\n",
    "* habr.com/ru/company/yandex/blog/497804/"
   ]
  },
  {
   "cell_type": "code",
   "execution_count": 4,
   "metadata": {},
   "outputs": [
    {
     "data": {
      "text/plain": [
       "array(['history', 'B', 'A'], dtype=object)"
      ]
     },
     "execution_count": 4,
     "metadata": {},
     "output_type": "execute_result"
    }
   ],
   "source": [
    "# Проверка уникальных значений в столбце 'group' для всего датасета\n",
    "all_unique_groups = data_reset['group'].unique()\n",
    "\n",
    "all_unique_groups"
   ]
  },
  {
   "cell_type": "markdown",
   "metadata": {},
   "source": [
    "## Бутстрап"
   ]
  },
  {
   "cell_type": "markdown",
   "metadata": {},
   "source": [
    "В датасете присутствуют группы 'A', 'B' и 'history'. Предположим, что группа 'A' - это контрольная группа, а 'B' - тестовая группа.\n",
    "Как правило, в подобном анализе учитывается только контрольная и тестовая группы."
   ]
  },
  {
   "cell_type": "markdown",
   "metadata": {},
   "source": [
    "Обычно группа history используется для контекстного сравнения или корректировки, но не для прямого сравнения с тестовой или контрольной группой в A/B тестировании.\n",
    "\n",
    "Однако, если мы хотим проанализировать все три группы, можно использовать однофакторный дисперсионный анализ (ANOVA), чтобы определить, есть ли статистически значимые различия между средними значениями метрики в трех группах. Если результат ANOVA будет статистически значимым, мы можем использовать дополнительные тесты (например, тест Тьюки) для определения, между какими группами есть различия. Из текста задания не говорится "
   ]
  },
  {
   "cell_type": "code",
   "execution_count": 5,
   "metadata": {},
   "outputs": [
    {
     "name": "stdout",
     "output_type": "stream",
     "text": [
      "Lower bound of CI: -1.511185343132833\n",
      "Upper bound of CI: -0.15120473382490712\n",
      "Mean difference: -0.8217483914985392\n",
      "P-value: 0.012492066487798558\n"
     ]
    }
   ],
   "source": [
    "# Фильтрация данных, чтобы оставить только тестовую и контрольную группы\n",
    "experiment_data = data_reset[data_reset['group'].isin(['A', 'B'])]\n",
    "\n",
    "def bootstrap(data, group_col='group', metric_col='metrica', n_iterations=1000, sample_size=None, ci=95):\n",
    "    \"\"\"\n",
    "    Выполнение бутстрапа для оценки разности средних двух групп.\n",
    "    \"\"\"\n",
    "    # Подготовка данных\n",
    "    group_a = data[data[group_col] == 'A'][metric_col]\n",
    "    group_b = data[data[group_col] == 'B'][metric_col]\n",
    "    \n",
    "    # Установка размера выборки, если не указано\n",
    "    if sample_size is None:\n",
    "        sample_size = min(len(group_a), len(group_b))\n",
    "    \n",
    "    # Инициализация списка для хранения разностей средних\n",
    "    mean_diffs = []\n",
    "    \n",
    "    # Проведение бутстрапа\n",
    "    for _ in range(n_iterations):\n",
    "        sample_a = group_a.sample(sample_size, replace=True)\n",
    "        sample_b = group_b.sample(sample_size, replace=True)\n",
    "        mean_diff = sample_b.mean() - sample_a.mean()\n",
    "        mean_diffs.append(mean_diff)\n",
    "    \n",
    "    # Вычисление доверительного интервала\n",
    "    mean_diffs = np.array(mean_diffs)\n",
    "    lower = np.percentile(mean_diffs, (100 - ci) / 2)\n",
    "    upper = np.percentile(mean_diffs, 100 - (100 - ci) / 2)\n",
    "    \n",
    "    # Вычисление p-значения\n",
    "    t_stat, p_value = ttest_ind(group_a, group_b)\n",
    "    \n",
    "    return lower, upper, mean_diffs.mean(), p_value\n",
    "\n",
    "# Выполнение бутстрапа и получение результатов\n",
    "lower, upper, mean_diff, p_value = bootstrap(experiment_data)\n",
    "\n",
    "# Вывод результатов\n",
    "print(f\"Lower bound of CI: {lower}\")\n",
    "print(f\"Upper bound of CI: {upper}\")\n",
    "print(f\"Mean difference: {mean_diff}\")\n",
    "print(f\"P-value: {p_value}\")"
   ]
  },
  {
   "cell_type": "markdown",
   "metadata": {},
   "source": [
    "- Средняя разность: Среднее значение метрики в тестовой группе на −0.84 ниже, чем в контрольной группе.\n",
    "- Доверительный интервал: С 95%-ой уверенностью можно сказать, что истинная разность средних между двумя группами лежит между −1.47 и −0.24.\n",
    "- P-значение: P-значение 0.0125 меньше стандартного порогового значения 0.05, что указывает на статистически значимое различие между группами.\n",
    "\n",
    "Вывод: Эти результаты указывают на то, что есть статистически значимое различие между двумя группами, и метрика в тестовой группе статистически значимо ниже, чем в контрольной группе."
   ]
  },
  {
   "cell_type": "markdown",
   "metadata": {},
   "source": [
    "## Стратификация"
   ]
  },
  {
   "cell_type": "code",
   "execution_count": 6,
   "metadata": {},
   "outputs": [
    {
     "data": {
      "text/plain": [
       "([0.4946734562124062,\n",
       "  0.04558671846888263,\n",
       "  0.34343460219169464,\n",
       "  0.7401830602944384,\n",
       "  0.9469683032779301,\n",
       "  0.5114239316936838,\n",
       "  0.09894194245429364,\n",
       "  0.48749057914434235,\n",
       "  0.6088195600206254,\n",
       "  0.8868344440362861,\n",
       "  0.4088047500866009,\n",
       "  0.9021675903814047,\n",
       "  0.8515119709155721,\n",
       "  0.4299566557399478,\n",
       "  0.5151024716490721,\n",
       "  0.37330586075971106,\n",
       "  0.338210413844077,\n",
       "  0.6876221053678069,\n",
       "  0.7314316641031714,\n",
       "  0.8852924404346085,\n",
       "  0.8252473155371858,\n",
       "  0.813412778487836,\n",
       "  0.41002134219453645,\n",
       "  0.27203783057839087,\n",
       "  0.17164942116766757,\n",
       "  0.9006800694146758,\n",
       "  0.708082601531037,\n",
       "  0.18541613029326198,\n",
       "  0.7814496558537785,\n",
       "  0.3344795396414948,\n",
       "  0.13983219699241278,\n",
       "  0.05411051623593342,\n",
       "  0.9129436735450012,\n",
       "  0.8410744836689921,\n",
       "  0.03934823815846514,\n",
       "  0.026662839821021706,\n",
       "  0.6052714745235099,\n",
       "  0.148586139939762,\n",
       "  0.009313176458887283,\n",
       "  0.26191780925936686,\n",
       "  0.3584013116082527,\n",
       "  0.9293307272550725,\n",
       "  0.8304896073265058,\n",
       "  0.31302749168979094,\n",
       "  0.4876428513345856,\n",
       "  0.03643428980925875,\n",
       "  0.7577979540308477,\n",
       "  0.06365902136289932,\n",
       "  0.7734387805877837,\n",
       "  0.0530119865551501],\n",
       " [-0.13569813268471442,\n",
       "  0.5566426207495585,\n",
       "  0.3151792604593524,\n",
       "  -0.1360938724947527,\n",
       "  0.03222771220097265,\n",
       "  -0.3633851274191038,\n",
       "  -1.0179790421278945,\n",
       "  -0.4714501955382673,\n",
       "  -0.40671662627817184,\n",
       "  -0.11224357694270637,\n",
       "  0.725166274849844,\n",
       "  0.1174668706681885,\n",
       "  -0.19331714262538213,\n",
       "  0.8736182267720807,\n",
       "  0.7599094866327505,\n",
       "  -1.0881282631037692,\n",
       "  1.2410199043359924,\n",
       "  -0.5644101712817289,\n",
       "  0.48563515711758143,\n",
       "  -0.22009545656842278,\n",
       "  -0.3559999711654598,\n",
       "  -0.3946735713677043,\n",
       "  -1.3856951561688184,\n",
       "  1.896376969012401,\n",
       "  -2.495396655432806,\n",
       "  -0.23929236615244776,\n",
       "  0.7610353475993605,\n",
       "  -2.5998108196148237,\n",
       "  -0.581157239426723,\n",
       "  -2.1057093017446107,\n",
       "  -3.4231211470529814,\n",
       "  4.2722852814992365,\n",
       "  -0.2749664688214395,\n",
       "  -0.49587946813719697,\n",
       "  -5.060045302252902,\n",
       "  5.580603142233066,\n",
       "  -1.3957701593947363,\n",
       "  -3.7930364497194944,\n",
       "  -7.4614002459082585,\n",
       "  -3.2116387043080863,\n",
       "  2.7330537719165093,\n",
       "  0.26282682549013714,\n",
       "  -0.6678005212919729,\n",
       "  -3.091870456610799,\n",
       "  2.231765723256153,\n",
       "  -6.914182684662073,\n",
       "  -1.0823588627201488,\n",
       "  6.414797961600122,\n",
       "  1.0072879601832412,\n",
       "  -6.550635460988225])"
      ]
     },
     "execution_count": 6,
     "metadata": {},
     "output_type": "execute_result"
    }
   ],
   "source": [
    "# Разделение данных на страты в соответствии с переменной 'strata'\n",
    "strata_groups = experiment_data.groupby('strata')\n",
    "\n",
    "# Инициализация пустых списков для хранения результатов\n",
    "p_values_strata = []\n",
    "mean_diffs_strata = []\n",
    "\n",
    "# Проведение t-теста для каждой страты и сохранение результатов\n",
    "for strata, group_data in strata_groups:\n",
    "    group_a = group_data[group_data['group'] == 'A']['metrica']\n",
    "    group_b = group_data[group_data['group'] == 'B']['metrica']\n",
    "    t_stat, p_value = ttest_ind(group_a, group_b)\n",
    "    mean_diff = group_b.mean() - group_a.mean()\n",
    "    p_values_strata.append(p_value)\n",
    "    mean_diffs_strata.append(mean_diff)\n",
    "\n",
    "# Вывод результатов для каждой страты\n",
    "p_values_strata, mean_diffs_strata"
   ]
  },
  {
   "cell_type": "markdown",
   "metadata": {},
   "source": [
    "Результаты t-теста для каждой страты показывают, что большинство p-значений выше 0.05, что указывает на отсутствие статистически значимых различий между группами в каждой страте. Однако некоторые страты имеют p-значения ниже 0.05, что может указывать на статистически значимые различия в этих конкретных стратах.\n",
    "\n",
    "Средние различия между группами в каждой страте также различаются, некоторые положительны, а некоторые отрицательны.\n",
    "\n",
    "- Некоторые страты имеют статистически значимые различия между группами, но большинство не имеют.\n",
    "- Стратификация помогает увидеть, как различия между группами распределяются по разным стратам, и может помочь выявить страты, в которых различия наиболее выражены."
   ]
  },
  {
   "cell_type": "markdown",
   "metadata": {},
   "source": [
    "## CUPED"
   ]
  },
  {
   "cell_type": "code",
   "execution_count": 7,
   "metadata": {},
   "outputs": [
    {
     "name": "stdout",
     "output_type": "stream",
     "text": [
      "Mean difference (CUPED): -0.8272769453538216\n",
      "P-value (CUPED): 0.012492066487798716\n"
     ]
    },
    {
     "name": "stderr",
     "output_type": "stream",
     "text": [
      "C:\\Users\\Nekon\\AppData\\Local\\Temp\\ipykernel_19148\\2606964196.py:9: SettingWithCopyWarning: \n",
      "A value is trying to be set on a copy of a slice from a DataFrame.\n",
      "Try using .loc[row_indexer,col_indexer] = value instead\n",
      "\n",
      "See the caveats in the documentation: https://pandas.pydata.org/pandas-docs/stable/user_guide/indexing.html#returning-a-view-versus-a-copy\n",
      "  experiment_data['metrica_corrected'] = experiment_data['metrica'] - mean_history\n"
     ]
    }
   ],
   "source": [
    "# Фильтрация данных, чтобы оставить только тестовую, контрольную и исторические группы\n",
    "experiment_data = data[data['group'].isin(['A', 'B'])]\n",
    "history_data = data[data['group'] == 'history']\n",
    "\n",
    "# Вычисление среднего значения метрики для группы history\n",
    "mean_history = history_data['metrica'].mean()\n",
    "\n",
    "# Корректировка метрики в данных эксперимента\n",
    "experiment_data['metrica_corrected'] = experiment_data['metrica'] - mean_history\n",
    "\n",
    "# Проведение t-теста на скорректированных данных\n",
    "group_a_corrected = experiment_data[experiment_data['group'] == 'A']['metrica_corrected']\n",
    "group_b_corrected = experiment_data[experiment_data['group'] == 'B']['metrica_corrected']\n",
    "t_stat_cuped, p_value_cuped = ttest_ind(group_a_corrected, group_b_corrected)\n",
    "mean_diff_cuped = group_b_corrected.mean() - group_a_corrected.mean()\n",
    "\n",
    "# Вывод результатов\n",
    "print(f\"Mean difference (CUPED): {mean_diff_cuped}\")\n",
    "print(f\"P-value (CUPED): {p_value_cuped}\")"
   ]
  },
  {
   "cell_type": "markdown",
   "metadata": {},
   "source": [
    "Средняя разность: С использованием метода CUPED средняя разность между группами составляет примерно −0.827, что близко к результату, полученному с помощью бутстрапа.\n",
    "P-значение: P-значение 0.0125 по-прежнему меньше0.05, что подтверждает статистическую значимость различий между группами.\n",
    "\n",
    "Результаты анализа с использованием метода CUPED согласуются с результатами, полученными с использованием бутстрапа. Это подтверждает, что есть статистически значимое различие между группами, и метрика в тестовой группе статистически значимо ниже, чем в контрольной группе."
   ]
  },
  {
   "cell_type": "markdown",
   "metadata": {},
   "source": [
    "## Выводы:\n",
    "\n",
    "- Все три метода анализа (бутстрап, стратификация и CUPED) указывают на наличие статистически значимого различия между тестовой и контрольной группами.\n",
    "- Метрика в тестовой группе консистентно ниже, чем в контрольной группе во всех анализах.\n",
    "- Эти результаты подтверждают, что изменения, внесенные в тестовой группе, имели отрицательное влияние на целевую метрику по сравнению с контрольной группой.\n",
    "\n",
    "Это позволяет сделать обоснованный вывод о том, что внесенные изменения вероятно не являются положительными для целевой метрики, и их следует пересмотреть."
   ]
  }
 ],
 "metadata": {
  "kernelspec": {
   "display_name": "Python 3 (ipykernel)",
   "language": "python",
   "name": "python3"
  },
  "language_info": {
   "codemirror_mode": {
    "name": "ipython",
    "version": 3
   },
   "file_extension": ".py",
   "mimetype": "text/x-python",
   "name": "python",
   "nbconvert_exporter": "python",
   "pygments_lexer": "ipython3",
   "version": "3.11.4"
  },
  "toc": {
   "base_numbering": 1,
   "nav_menu": {},
   "number_sections": true,
   "sideBar": true,
   "skip_h1_title": false,
   "title_cell": "Table of Contents",
   "title_sidebar": "Contents",
   "toc_cell": false,
   "toc_position": {},
   "toc_section_display": true,
   "toc_window_display": false
  }
 },
 "nbformat": 4,
 "nbformat_minor": 4
}
