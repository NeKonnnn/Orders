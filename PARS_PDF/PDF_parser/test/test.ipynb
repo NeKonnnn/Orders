{
 "cells": [
  {
   "cell_type": "code",
   "execution_count": 1,
   "id": "8c898ac0",
   "metadata": {},
   "outputs": [],
   "source": [
    "import PyPDF2\n",
    "import os\n",
    "\n",
    "# Функция для конвертации PDF-файлов в текст\n",
    "def pdf_to_txt(pdf_path, txt_path):\n",
    "    with open(pdf_path, 'rb') as pdf_file:\n",
    "        reader = PyPDF2.PdfReader(pdf_file)\n",
    "        with open(txt_path, 'w', encoding='utf-8') as txt_file:\n",
    "            for page_number in range(len(reader.pages)):\n",
    "                page = reader.pages[page_number]\n",
    "                text = page.extract_text()\n",
    "                txt_file.write(text)\n",
    "\n",
    "# Основная функция для обработки всех PDF-файлов в папке PDF\n",
    "def process_all_pdfs():\n",
    "    # Путь к папке с PDF-файлами\n",
    "    pdf_folder_path = 'PDF'\n",
    "    # Путь к папке для сохранения текстовых файлов\n",
    "    txt_folder_path = 'TEXT'\n",
    "\n",
    "    # Создание папки TEXT, если она не существует\n",
    "    if not os.path.exists(txt_folder_path):\n",
    "        os.makedirs(txt_folder_path)\n",
    "\n",
    "    # Перебор всех файлов в папке PDF\n",
    "    for filename in os.listdir(pdf_folder_path):\n",
    "        if filename.lower().endswith('.pdf'):\n",
    "            pdf_path = os.path.join(pdf_folder_path, filename)\n",
    "            txt_filename = os.path.splitext(filename)[0] + '.txt'\n",
    "            txt_path = os.path.join(txt_folder_path, txt_filename)\n",
    "            pdf_to_txt(pdf_path, txt_path)\n",
    "\n",
    "# Запуск обработки\n",
    "process_all_pdfs()"
   ]
  }
 ],
 "metadata": {
  "kernelspec": {
   "display_name": "Python 3 (ipykernel)",
   "language": "python",
   "name": "python3"
  },
  "language_info": {
   "codemirror_mode": {
    "name": "ipython",
    "version": 3
   },
   "file_extension": ".py",
   "mimetype": "text/x-python",
   "name": "python",
   "nbconvert_exporter": "python",
   "pygments_lexer": "ipython3",
   "version": "3.11.5"
  }
 },
 "nbformat": 4,
 "nbformat_minor": 5
}
