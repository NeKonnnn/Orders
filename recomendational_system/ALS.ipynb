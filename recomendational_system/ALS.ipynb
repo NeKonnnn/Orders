{
 "cells": [
  {
   "cell_type": "code",
   "execution_count": 1,
   "id": "e5747a50",
   "metadata": {},
   "outputs": [],
   "source": [
    "from pathlib import Path\n",
    "from typing import Any, Protocol, List, TypeVar, Generic, Optional\n",
    "\n",
    "import polars as pl\n",
    "import numpy as np\n",
    "from scipy.sparse import coo_matrix, csr_matrix\n",
    "from implicit.als import AlternatingLeastSquares\n",
    "\n",
    "from my_recsys_metrics import compute_metrics\n",
    "from my_utils import make_submission"
   ]
  },
  {
   "cell_type": "code",
   "execution_count": 11,
   "id": "4a16e119",
   "metadata": {},
   "outputs": [],
   "source": [
    "train_events = pl.read_parquet(\"train_events.parquet\")\n",
    "users_for_submission = pl.read_parquet(\"users_for_submission.parquet\")\n",
    "ground_truth = pl.read_parquet(\"ground_truth.parquet\")"
   ]
  },
  {
   "cell_type": "code",
   "execution_count": 3,
   "id": "c8a964f8",
   "metadata": {},
   "outputs": [
    {
     "name": "stdout",
     "output_type": "stream",
     "text": [
      "Fit-transform with OrdinalEncoder\n",
      "Fit-transform with OrdinalEncoder\n",
      "Fit-transform with FrequencyEncoder\n",
      "Fit-transform with CSRConverter\n"
     ]
    },
    {
     "data": {
      "text/plain": [
       "<24196x118430 sparse matrix of type '<class 'numpy.float32'>'\n",
       "\twith 6432526 stored elements in Compressed Sparse Row format>"
      ]
     },
     "execution_count": 3,
     "metadata": {},
     "output_type": "execute_result"
    }
   ],
   "source": [
    "_T = TypeVar(\"_T\")\n",
    "_U = TypeVar(\"_U\")\n",
    "\n",
    "class TransformerLike(Protocol):\n",
    "    def fit_transform(self, input: Any) -> Any: ...\n",
    "\n",
    "\n",
    "class Pipeline(Generic[_T, _U]):\n",
    "    def __init__(self, transformers: List[TransformerLike]) -> None:\n",
    "        self.transformers = transformers\n",
    "\n",
    "    def fit_transform(self, x: _T) -> _U:\n",
    "        y: Any = x\n",
    "        for t in self.transformers:\n",
    "            print(f\"Fit-transform with {t.__class__.__name__}\")\n",
    "            y = t.fit_transform(y)\n",
    "        return y\n",
    "\n",
    "class OrdinalEncoder:\n",
    "    def __init__(self, column: str) -> None:\n",
    "        self.column = column\n",
    "\n",
    "    def fit(self, df: pl.DataFrame) -> \"OrdinalEncoder\":\n",
    "        self._mapper = (\n",
    "            df[[self.column]].unique()\n",
    "            .sort(self.column)\n",
    "            .with_row_count(\"__index__\")\n",
    "            .with_columns(pl.col(\"__index__\").cast(pl.Int32))\n",
    "        )\n",
    "        return self\n",
    "\n",
    "    def transform(self, df: pl.DataFrame) -> pl.DataFrame:\n",
    "        df = (\n",
    "            df\n",
    "            .join(self._mapper, on=self.column, how=\"left\")\n",
    "            .drop(self.column)\n",
    "            .rename({\"__index__\": self.column})\n",
    "        )\n",
    "        return df\n",
    "\n",
    "    def inverse_transform(self, df: pl.DataFrame) -> pl.DataFrame:\n",
    "        df = (\n",
    "            df\n",
    "            .rename({self.column: \"__index__\"})\n",
    "            .join(\n",
    "                self._mapper,\n",
    "                on=\"__index__\",\n",
    "                how=\"left\",\n",
    "            )\n",
    "            .drop(f\"__index__\")\n",
    "        )\n",
    "        return df\n",
    "\n",
    "    def fit_transform(self, df: pl.DataFrame) -> pl.DataFrame:\n",
    "        return self.fit(df).transform(df)\n",
    "\n",
    "\n",
    "class FilterByPlayRatio:\n",
    "    def __init__(self, min_ratio: float) -> None:\n",
    "        self.min_ratio = min_ratio\n",
    "\n",
    "    def fit_transform(self, events: pl.DataFrame) -> pl.DataFrame:\n",
    "        return events.filter(pl.col(\"play_ratio\") > self.min_ratio)\n",
    "\n",
    "\n",
    "class FrequencyEncoder:\n",
    "    def __init__(self, user_column: str, item_column: str, value_column: str) -> None:\n",
    "        self.user_column = user_column\n",
    "        self.item_column = item_column\n",
    "        self.value_column = value_column\n",
    "\n",
    "    def fit_transform(self, events: pl.DataFrame) -> pl.DataFrame:\n",
    "        frequency_scores = (\n",
    "            events\n",
    "            .group_by(self.user_column, self.item_column)\n",
    "            .agg(pl.col(self.item_column).count().alias(\"n_interactions_per_user\"))\n",
    "            .with_columns(\n",
    "                pl.col(\"n_interactions_per_user\").sum().over(self.user_column).alias(\"n_interactions_total\"),\n",
    "            )\n",
    "            .with_columns(\n",
    "                (pl.col(\"n_interactions_per_user\") / pl.col(\"n_interactions_total\")).alias(self.value_column),\n",
    "            )\n",
    "            .drop(\"n_interactions_per_user\", \"n_interactions_total\")\n",
    "        )\n",
    "        return frequency_scores\n",
    "\n",
    "\n",
    "class TFIDFEncoder:\n",
    "    def __init__(self, user_column: str, item_column: str, value_column: str) -> None:\n",
    "        self.user_column = user_column\n",
    "        self.item_column = item_column\n",
    "        self.value_column = value_column\n",
    "\n",
    "    def fit_transform(self, events: pl.DataFrame) -> pl.DataFrame:\n",
    "        n_users = events[\"user_id\"].n_unique()\n",
    "\n",
    "        def idf_fn(track_occurrences):\n",
    "            return 1 + np.log(1 + 0.001 * (n_users / track_occurrences))\n",
    "\n",
    "        idf_scores = (\n",
    "            events\n",
    "            .group_by(self.item_column)\n",
    "            .agg(pl.col(self.user_column).count().alias(\"n_user_per_item\"))\n",
    "            .with_columns(idf_fn(pl.col(\"n_user_per_item\")).alias(\"idf\"))\n",
    "            .drop(\"n_user_per_item\")\n",
    "        )\n",
    "\n",
    "        tf_scores = (\n",
    "            events\n",
    "            .group_by(self.user_column, self.item_column)\n",
    "            .agg(pl.count().alias(\"n_user_item\"))\n",
    "            .with_columns(\n",
    "                pl.col(\"n_user_item\").sum().over(self.user_column).alias(\"n_total\"),\n",
    "            )\n",
    "            .with_columns(\n",
    "                (pl.col(\"n_user_item\") / pl.col(\"n_total\")).alias(\"tf\"),\n",
    "            )\n",
    "            .drop(\"n_user_item\", \"n_total\")\n",
    "        )\n",
    "\n",
    "        scores = (\n",
    "            tf_scores\n",
    "            .join(\n",
    "                idf_scores,\n",
    "                on=self.item_column,\n",
    "                how=\"left\"\n",
    "            )\n",
    "            .with_columns((pl.col(\"tf\") * pl.col(\"idf\")).alias(self.value_column))\n",
    "            .drop(\"tf\", \"idf\")\n",
    "        )\n",
    "\n",
    "        return scores\n",
    "\n",
    "\n",
    "class CSRConverter:\n",
    "    def __init__(self, user_column: str, item_column: str, value_column: str) -> None:\n",
    "        self.user_column = user_column\n",
    "        self.item_column = item_column\n",
    "        self.value_column = value_column\n",
    "\n",
    "    def fit_transform(self, coo: pl.DataFrame) -> csr_matrix:\n",
    "        user_idx = coo[self.user_column].to_numpy()\n",
    "        item_idx = coo[self.item_column].to_numpy()\n",
    "        values = coo[self.value_column].to_numpy()\n",
    "\n",
    "        n_users = user_idx.max() + 1\n",
    "        n_items = item_idx.max() + 1\n",
    "\n",
    "        user_item_coo = coo_matrix(\n",
    "            (\n",
    "                values.astype(np.float32),\n",
    "                (user_idx, item_idx),\n",
    "            ),\n",
    "            shape=(n_users, n_items),\n",
    "            dtype=np.float32,\n",
    "        )\n",
    "\n",
    "        user_item_coo.sum_duplicates()\n",
    "\n",
    "        user_item_csr = user_item_coo.tocsr()\n",
    "        return user_item_csr\n",
    "events_preprocessing_pipeline: Pipeline[pl.DataFrame, csr_matrix] = Pipeline([\n",
    "    OrdinalEncoder(column=\"user_id\"),\n",
    "    OrdinalEncoder(column=\"track_id\"),\n",
    "    FrequencyEncoder(user_column=\"user_id\", item_column=\"track_id\", value_column=\"freq\"),\n",
    "    CSRConverter(user_column=\"user_id\", item_column=\"track_id\", value_column=\"freq\"),\n",
    "])\n",
    "\n",
    "user_item_csr = events_preprocessing_pipeline.fit_transform(train_events)\n",
    "user_item_csr"
   ]
  },
  {
   "cell_type": "code",
   "execution_count": 4,
   "id": "3ff019bf",
   "metadata": {},
   "outputs": [
    {
     "name": "stderr",
     "output_type": "stream",
     "text": [
      "C:\\Users\\NeKonn\\anaconda3\\Lib\\site-packages\\implicit\\cpu\\als.py:95: RuntimeWarning: Intel MKL BLAS is configured to use 16 threads. It is highly recommended to disable its internal threadpool by setting the environment variable 'MKL_NUM_THREADS=1' or by callng 'threadpoolctl.threadpool_limits(1, \"blas\")'. Having MKL use a threadpool can lead to severe performance issues\n",
      "  check_blas_config()\n",
      "C:\\Users\\NeKonn\\anaconda3\\Lib\\site-packages\\implicit\\cpu\\als.py:95: RuntimeWarning: OpenBLAS is configured to use 24 threads. It is highly recommended to disable its internal threadpool by setting the environment variable 'OPENBLAS_NUM_THREADS=1' or by calling 'threadpoolctl.threadpool_limits(1, \"blas\")'. Having OpenBLAS use a threadpool can lead to severe performance issues here.\n",
      "  check_blas_config()\n"
     ]
    },
    {
     "data": {
      "application/vnd.jupyter.widget-view+json": {
       "model_id": "c9eba4be435d42f1bf6944227cacf6f2",
       "version_major": 2,
       "version_minor": 0
      },
      "text/plain": [
       "  0%|          | 0/10 [00:00<?, ?it/s]"
      ]
     },
     "metadata": {},
     "output_type": "display_data"
    }
   ],
   "source": [
    "class ALS:\n",
    "    def __init__(\n",
    "        self,\n",
    "        user_column: str,\n",
    "        item_column: str,\n",
    "        score_column: str,\n",
    "        n_factors: int,\n",
    "        n_iterations: int,\n",
    "        top_k: int,\n",
    "    ) -> None:\n",
    "        self.user_column = user_column\n",
    "        self.item_column = item_column\n",
    "        self.score_column = score_column\n",
    "        self.n_factors = n_factors\n",
    "        self.n_iterations = n_iterations\n",
    "        self.top_k = top_k\n",
    "\n",
    "    def fit_predict(\n",
    "        self,\n",
    "        user_item: csr_matrix,\n",
    "        user_item_filter: Optional[csr_matrix] = None,\n",
    "    ) -> pl.DataFrame:\n",
    "        als = AlternatingLeastSquares(\n",
    "            factors=self.n_factors,\n",
    "            iterations=self.n_iterations,\n",
    "            alpha=40.0,\n",
    "            regularization=0.001,\n",
    "            calculate_training_loss=True,\n",
    "        )\n",
    "        als.fit(user_item)\n",
    "\n",
    "        user_ids = np.arange(user_item_csr.shape[0])\n",
    "        recommended_item_indices, recommended_scores = als.recommend(\n",
    "            user_ids,\n",
    "            (user_item_filter if user_item_filter is not None else user_item),\n",
    "            N=self.top_k,\n",
    "            filter_already_liked_items=True,\n",
    "        )\n",
    "\n",
    "        scores_df = pl.DataFrame({\n",
    "            self.user_column: pl.Series(user_ids, dtype=pl.Int32),\n",
    "            self.item_column: pl.Series(recommended_item_indices, dtype=pl.List(pl.Int32)),\n",
    "            self.score_column: pl.Series(recommended_scores, dtype=pl.List(pl.Float32)),\n",
    "        })\n",
    "\n",
    "        scores_df = scores_df.explode(self.item_column, self.score_column)\n",
    "\n",
    "        return scores_df\n",
    "\n",
    "\n",
    "als = ALS(\n",
    "    user_column=\"user_id\",\n",
    "    item_column=\"track_id\",\n",
    "    score_column=\"score\",\n",
    "    n_factors=128,\n",
    "    n_iterations=10,\n",
    "    top_k=10,\n",
    ")\n",
    "als_recommendations = als.fit_predict(user_item_csr)"
   ]
  },
  {
   "cell_type": "code",
   "execution_count": 5,
   "id": "c559e1de",
   "metadata": {},
   "outputs": [],
   "source": [
    "user_encoder: OrdinalEncoder = events_preprocessing_pipeline.transformers[0]\n",
    "item_encoder: OrdinalEncoder = events_preprocessing_pipeline.transformers[1]\n",
    "\n",
    "als_recommendations_decoded = als_recommendations\n",
    "als_recommendations_decoded = user_encoder.inverse_transform(als_recommendations_decoded)\n",
    "als_recommendations_decoded = item_encoder.inverse_transform(als_recommendations_decoded)"
   ]
  },
  {
   "cell_type": "code",
   "execution_count": 7,
   "id": "815f0549",
   "metadata": {},
   "outputs": [
    {
     "data": {
      "text/plain": [
       "{'ndcg@10': 0.0072625363441447734, 'recall@10': 0.010132499079867501}"
      ]
     },
     "execution_count": 7,
     "metadata": {},
     "output_type": "execute_result"
    }
   ],
   "source": [
    "als_submission = make_submission(als_recommendations_decoded)\n",
    "compute_metrics(als_submission, pl.read_parquet(\"ground_truth.parquet\"))"
   ]
  },
  {
   "cell_type": "markdown",
   "id": "a7ca4a50",
   "metadata": {},
   "source": [
    "# Подбор гипперпараметров для ALS"
   ]
  },
  {
   "cell_type": "code",
   "execution_count": 12,
   "id": "6c0d2746",
   "metadata": {},
   "outputs": [
    {
     "data": {
      "application/vnd.jupyter.widget-view+json": {
       "model_id": "9062bee5a9334c3d8263299a2a2ccc40",
       "version_major": 2,
       "version_minor": 0
      },
      "text/plain": [
       "  0%|          | 0/10 [00:00<?, ?it/s]"
      ]
     },
     "metadata": {},
     "output_type": "display_data"
    },
    {
     "name": "stdout",
     "output_type": "stream",
     "text": [
      "Factors: 64, Iterations: 10, Alpha: 1, Regularization: 0.01, NDCG@10: 0.006133042995123495, Recall@10: 0.00888847994111152\n"
     ]
    },
    {
     "data": {
      "application/vnd.jupyter.widget-view+json": {
       "model_id": "a219ef436c3942b5894f37da1ca661d2",
       "version_major": 2,
       "version_minor": 0
      },
      "text/plain": [
       "  0%|          | 0/10 [00:00<?, ?it/s]"
      ]
     },
     "metadata": {},
     "output_type": "display_data"
    },
    {
     "name": "stdout",
     "output_type": "stream",
     "text": [
      "Factors: 64, Iterations: 10, Alpha: 1, Regularization: 0.1, NDCG@10: 0.005963884732156992, Recall@10: 0.008828364617838303\n"
     ]
    },
    {
     "data": {
      "application/vnd.jupyter.widget-view+json": {
       "model_id": "aabac31f73134bd5902afb4d72088375",
       "version_major": 2,
       "version_minor": 0
      },
      "text/plain": [
       "  0%|          | 0/10 [00:00<?, ?it/s]"
      ]
     },
     "metadata": {},
     "output_type": "display_data"
    },
    {
     "name": "stdout",
     "output_type": "stream",
     "text": [
      "Factors: 64, Iterations: 10, Alpha: 10, Regularization: 0.01, NDCG@10: 0.0061428536836633145, Recall@10: 0.009061464850938535\n"
     ]
    },
    {
     "data": {
      "application/vnd.jupyter.widget-view+json": {
       "model_id": "94f7bacf8d6543d79d3ee700079d4cc9",
       "version_major": 2,
       "version_minor": 0
      },
      "text/plain": [
       "  0%|          | 0/10 [00:00<?, ?it/s]"
      ]
     },
     "metadata": {},
     "output_type": "display_data"
    },
    {
     "name": "stdout",
     "output_type": "stream",
     "text": [
      "Factors: 64, Iterations: 10, Alpha: 10, Regularization: 0.1, NDCG@10: 0.006064978716076885, Recall@10: 0.008893387314439945\n"
     ]
    },
    {
     "data": {
      "application/vnd.jupyter.widget-view+json": {
       "model_id": "ad7c24d2ea99422b8ede27ab5a626254",
       "version_major": 2,
       "version_minor": 0
      },
      "text/plain": [
       "  0%|          | 0/10 [00:00<?, ?it/s]"
      ]
     },
     "metadata": {},
     "output_type": "display_data"
    },
    {
     "name": "stdout",
     "output_type": "stream",
     "text": [
      "Factors: 64, Iterations: 10, Alpha: 40, Regularization: 0.01, NDCG@10: 0.005782728082006948, Recall@10: 0.008665194454668138\n"
     ]
    },
    {
     "data": {
      "application/vnd.jupyter.widget-view+json": {
       "model_id": "14b1fef59a734085ba3bd65a2fde375a",
       "version_major": 2,
       "version_minor": 0
      },
      "text/plain": [
       "  0%|          | 0/10 [00:00<?, ?it/s]"
      ]
     },
     "metadata": {},
     "output_type": "display_data"
    },
    {
     "name": "stdout",
     "output_type": "stream",
     "text": [
      "Factors: 64, Iterations: 10, Alpha: 40, Regularization: 0.1, NDCG@10: 0.005990948313129777, Recall@10: 0.008731443994601889\n"
     ]
    },
    {
     "data": {
      "application/vnd.jupyter.widget-view+json": {
       "model_id": "9550a4a2686d4ca09daa661ce1b27229",
       "version_major": 2,
       "version_minor": 0
      },
      "text/plain": [
       "  0%|          | 0/20 [00:00<?, ?it/s]"
      ]
     },
     "metadata": {},
     "output_type": "display_data"
    },
    {
     "name": "stdout",
     "output_type": "stream",
     "text": [
      "Factors: 64, Iterations: 20, Alpha: 1, Regularization: 0.01, NDCG@10: 0.006199777118688295, Recall@10: 0.008850447797816218\n"
     ]
    },
    {
     "data": {
      "application/vnd.jupyter.widget-view+json": {
       "model_id": "454d0c414c724fa9acbc73f9f36c609e",
       "version_major": 2,
       "version_minor": 0
      },
      "text/plain": [
       "  0%|          | 0/20 [00:00<?, ?it/s]"
      ]
     },
     "metadata": {},
     "output_type": "display_data"
    },
    {
     "name": "stdout",
     "output_type": "stream",
     "text": [
      "Factors: 64, Iterations: 20, Alpha: 1, Regularization: 0.1, NDCG@10: 0.006255350673273133, Recall@10: 0.00886394307446939\n"
     ]
    },
    {
     "data": {
      "application/vnd.jupyter.widget-view+json": {
       "model_id": "5d5a3910045549418ff86a7af81a2914",
       "version_major": 2,
       "version_minor": 0
      },
      "text/plain": [
       "  0%|          | 0/20 [00:00<?, ?it/s]"
      ]
     },
     "metadata": {},
     "output_type": "display_data"
    },
    {
     "name": "stdout",
     "output_type": "stream",
     "text": [
      "Factors: 64, Iterations: 20, Alpha: 10, Regularization: 0.01, NDCG@10: 0.006254128552113572, Recall@10: 0.008928965771071032\n"
     ]
    },
    {
     "data": {
      "application/vnd.jupyter.widget-view+json": {
       "model_id": "6c8a81fdc16c47d982aa61a88f5e73df",
       "version_major": 2,
       "version_minor": 0
      },
      "text/plain": [
       "  0%|          | 0/20 [00:00<?, ?it/s]"
      ]
     },
     "metadata": {},
     "output_type": "display_data"
    },
    {
     "name": "stdout",
     "output_type": "stream",
     "text": [
      "Factors: 64, Iterations: 20, Alpha: 10, Regularization: 0.1, NDCG@10: 0.006274122519925612, Recall@10: 0.008844313581155687\n"
     ]
    },
    {
     "data": {
      "application/vnd.jupyter.widget-view+json": {
       "model_id": "5b516d88d2534a36bb1765389cf6fd2c",
       "version_major": 2,
       "version_minor": 0
      },
      "text/plain": [
       "  0%|          | 0/20 [00:00<?, ?it/s]"
      ]
     },
     "metadata": {},
     "output_type": "display_data"
    },
    {
     "name": "stdout",
     "output_type": "stream",
     "text": [
      "Factors: 64, Iterations: 20, Alpha: 40, Regularization: 0.01, NDCG@10: 0.006308878946684863, Recall@10: 0.009182922340817077\n"
     ]
    },
    {
     "data": {
      "application/vnd.jupyter.widget-view+json": {
       "model_id": "2aab73fa485943c7a31e32039042e39a",
       "version_major": 2,
       "version_minor": 0
      },
      "text/plain": [
       "  0%|          | 0/20 [00:00<?, ?it/s]"
      ]
     },
     "metadata": {},
     "output_type": "display_data"
    },
    {
     "name": "stdout",
     "output_type": "stream",
     "text": [
      "Factors: 64, Iterations: 20, Alpha: 40, Regularization: 0.1, NDCG@10: 0.006419418660926421, Recall@10: 0.009281069807385595\n"
     ]
    },
    {
     "data": {
      "application/vnd.jupyter.widget-view+json": {
       "model_id": "86e23dbfa1d9442d90555860212dfafb",
       "version_major": 2,
       "version_minor": 0
      },
      "text/plain": [
       "  0%|          | 0/30 [00:00<?, ?it/s]"
      ]
     },
     "metadata": {},
     "output_type": "display_data"
    },
    {
     "name": "stdout",
     "output_type": "stream",
     "text": [
      "Factors: 64, Iterations: 30, Alpha: 1, Regularization: 0.01, NDCG@10: 0.0063785211757917595, Recall@10: 0.008993988467672678\n"
     ]
    },
    {
     "data": {
      "application/vnd.jupyter.widget-view+json": {
       "model_id": "642a2831cd00426d9e541ba3173988a3",
       "version_major": 2,
       "version_minor": 0
      },
      "text/plain": [
       "  0%|          | 0/30 [00:00<?, ?it/s]"
      ]
     },
     "metadata": {},
     "output_type": "display_data"
    },
    {
     "name": "stdout",
     "output_type": "stream",
     "text": [
      "Factors: 64, Iterations: 30, Alpha: 1, Regularization: 0.1, NDCG@10: 0.006131454386734204, Recall@10: 0.008719175561280825\n"
     ]
    },
    {
     "data": {
      "application/vnd.jupyter.widget-view+json": {
       "model_id": "b3e01e90563d40bcb46e0fa0aa065b92",
       "version_major": 2,
       "version_minor": 0
      },
      "text/plain": [
       "  0%|          | 0/30 [00:00<?, ?it/s]"
      ]
     },
     "metadata": {},
     "output_type": "display_data"
    },
    {
     "name": "stdout",
     "output_type": "stream",
     "text": [
      "Factors: 64, Iterations: 30, Alpha: 10, Regularization: 0.01, NDCG@10: 0.006276783503891613, Recall@10: 0.008964544227702122\n"
     ]
    },
    {
     "data": {
      "application/vnd.jupyter.widget-view+json": {
       "model_id": "f71e2f8a6cde45f78e5149f305c270cb",
       "version_major": 2,
       "version_minor": 0
      },
      "text/plain": [
       "  0%|          | 0/30 [00:00<?, ?it/s]"
      ]
     },
     "metadata": {},
     "output_type": "display_data"
    },
    {
     "name": "stdout",
     "output_type": "stream",
     "text": [
      "Factors: 64, Iterations: 30, Alpha: 10, Regularization: 0.1, NDCG@10: 0.006204229134556531, Recall@10: 0.008911789964421544\n"
     ]
    },
    {
     "data": {
      "application/vnd.jupyter.widget-view+json": {
       "model_id": "9454c984dea54a89af472dbd076d2ae3",
       "version_major": 2,
       "version_minor": 0
      },
      "text/plain": [
       "  0%|          | 0/30 [00:00<?, ?it/s]"
      ]
     },
     "metadata": {},
     "output_type": "display_data"
    },
    {
     "name": "stdout",
     "output_type": "stream",
     "text": [
      "Factors: 64, Iterations: 30, Alpha: 40, Regularization: 0.01, NDCG@10: 0.006204022754421042, Recall@10: 0.008890933627775733\n"
     ]
    },
    {
     "data": {
      "application/vnd.jupyter.widget-view+json": {
       "model_id": "47b324fd52a34e6eae1a81bdde5f4ad4",
       "version_major": 2,
       "version_minor": 0
      },
      "text/plain": [
       "  0%|          | 0/30 [00:00<?, ?it/s]"
      ]
     },
     "metadata": {},
     "output_type": "display_data"
    },
    {
     "name": "stdout",
     "output_type": "stream",
     "text": [
      "Factors: 64, Iterations: 30, Alpha: 40, Regularization: 0.1, NDCG@10: 0.006339214801030656, Recall@10: 0.00892037786774629\n"
     ]
    },
    {
     "data": {
      "application/vnd.jupyter.widget-view+json": {
       "model_id": "4c4af3478e4341bebf0243bd377091fd",
       "version_major": 2,
       "version_minor": 0
      },
      "text/plain": [
       "  0%|          | 0/10 [00:00<?, ?it/s]"
      ]
     },
     "metadata": {},
     "output_type": "display_data"
    },
    {
     "name": "stdout",
     "output_type": "stream",
     "text": [
      "Factors: 128, Iterations: 10, Alpha: 1, Regularization: 0.01, NDCG@10: 0.007317327951618565, Recall@10: 0.010197521776469145\n"
     ]
    },
    {
     "data": {
      "application/vnd.jupyter.widget-view+json": {
       "model_id": "6f820c5d7a384d9e8d4be858aa167150",
       "version_major": 2,
       "version_minor": 0
      },
      "text/plain": [
       "  0%|          | 0/10 [00:00<?, ?it/s]"
      ]
     },
     "metadata": {},
     "output_type": "display_data"
    },
    {
     "name": "stdout",
     "output_type": "stream",
     "text": [
      "Factors: 128, Iterations: 10, Alpha: 1, Regularization: 0.1, NDCG@10: 0.007516046590696677, Recall@10: 0.010314071893019262\n"
     ]
    },
    {
     "data": {
      "application/vnd.jupyter.widget-view+json": {
       "model_id": "79d4d61df77e4bdd9c07dbdcd0033e80",
       "version_major": 2,
       "version_minor": 0
      },
      "text/plain": [
       "  0%|          | 0/10 [00:00<?, ?it/s]"
      ]
     },
     "metadata": {},
     "output_type": "display_data"
    },
    {
     "name": "stdout",
     "output_type": "stream",
     "text": [
      "Factors: 128, Iterations: 10, Alpha: 10, Regularization: 0.01, NDCG@10: 0.007215156332197186, Recall@10: 0.0098675009201325\n"
     ]
    },
    {
     "data": {
      "application/vnd.jupyter.widget-view+json": {
       "model_id": "e0022b3c0d66447d991a673ad7af4036",
       "version_major": 2,
       "version_minor": 0
      },
      "text/plain": [
       "  0%|          | 0/10 [00:00<?, ?it/s]"
      ]
     },
     "metadata": {},
     "output_type": "display_data"
    },
    {
     "name": "stdout",
     "output_type": "stream",
     "text": [
      "Factors: 128, Iterations: 10, Alpha: 10, Regularization: 0.1, NDCG@10: 0.007403006971833426, Recall@10: 0.010155809103177524\n"
     ]
    },
    {
     "data": {
      "application/vnd.jupyter.widget-view+json": {
       "model_id": "e432b2900f2747efa7b6fe89bd99176f",
       "version_major": 2,
       "version_minor": 0
      },
      "text/plain": [
       "  0%|          | 0/10 [00:00<?, ?it/s]"
      ]
     },
     "metadata": {},
     "output_type": "display_data"
    },
    {
     "name": "stdout",
     "output_type": "stream",
     "text": [
      "Factors: 128, Iterations: 10, Alpha: 40, Regularization: 0.01, NDCG@10: 0.007377541055010991, Recall@10: 0.010526315789473684\n"
     ]
    },
    {
     "data": {
      "application/vnd.jupyter.widget-view+json": {
       "model_id": "13736231b25d4df4aa7c71eaf088f1dc",
       "version_major": 2,
       "version_minor": 0
      },
      "text/plain": [
       "  0%|          | 0/10 [00:00<?, ?it/s]"
      ]
     },
     "metadata": {},
     "output_type": "display_data"
    },
    {
     "name": "stdout",
     "output_type": "stream",
     "text": [
      "Factors: 128, Iterations: 10, Alpha: 40, Regularization: 0.1, NDCG@10: 0.00744567457081526, Recall@10: 0.01039872408293461\n"
     ]
    },
    {
     "data": {
      "application/vnd.jupyter.widget-view+json": {
       "model_id": "2a3711a88dd6483f89de2c4f21dbc3e1",
       "version_major": 2,
       "version_minor": 0
      },
      "text/plain": [
       "  0%|          | 0/20 [00:00<?, ?it/s]"
      ]
     },
     "metadata": {},
     "output_type": "display_data"
    },
    {
     "name": "stdout",
     "output_type": "stream",
     "text": [
      "Factors: 128, Iterations: 20, Alpha: 1, Regularization: 0.01, NDCG@10: 0.007224674020229262, Recall@10: 0.01013617960986382\n"
     ]
    },
    {
     "data": {
      "application/vnd.jupyter.widget-view+json": {
       "model_id": "2d02c04d6c234079a04535115175331a",
       "version_major": 2,
       "version_minor": 0
      },
      "text/plain": [
       "  0%|          | 0/20 [00:00<?, ?it/s]"
      ]
     },
     "metadata": {},
     "output_type": "display_data"
    },
    {
     "name": "stdout",
     "output_type": "stream",
     "text": [
      "Factors: 128, Iterations: 20, Alpha: 1, Regularization: 0.1, NDCG@10: 0.007383619947530668, Recall@10: 0.0103778677462888\n"
     ]
    },
    {
     "data": {
      "application/vnd.jupyter.widget-view+json": {
       "model_id": "f9c647cdc86544ad83724afedb773e83",
       "version_major": 2,
       "version_minor": 0
      },
      "text/plain": [
       "  0%|          | 0/20 [00:00<?, ?it/s]"
      ]
     },
     "metadata": {},
     "output_type": "display_data"
    },
    {
     "name": "stdout",
     "output_type": "stream",
     "text": [
      "Factors: 128, Iterations: 20, Alpha: 10, Regularization: 0.01, NDCG@10: 0.007254574676893634, Recall@10: 0.010008587903324744\n"
     ]
    },
    {
     "data": {
      "application/vnd.jupyter.widget-view+json": {
       "model_id": "5c36a7fe77414c1eb6eaa144dea00374",
       "version_major": 2,
       "version_minor": 0
      },
      "text/plain": [
       "  0%|          | 0/20 [00:00<?, ?it/s]"
      ]
     },
     "metadata": {},
     "output_type": "display_data"
    },
    {
     "name": "stdout",
     "output_type": "stream",
     "text": [
      "Factors: 128, Iterations: 20, Alpha: 10, Regularization: 0.1, NDCG@10: 0.0073677489214321445, Recall@10: 0.010336155072997177\n"
     ]
    },
    {
     "data": {
      "application/vnd.jupyter.widget-view+json": {
       "model_id": "03ae1fa35f244a468046eaa9fd19eaa3",
       "version_major": 2,
       "version_minor": 0
      },
      "text/plain": [
       "  0%|          | 0/20 [00:00<?, ?it/s]"
      ]
     },
     "metadata": {},
     "output_type": "display_data"
    },
    {
     "name": "stdout",
     "output_type": "stream",
     "text": [
      "Factors: 128, Iterations: 20, Alpha: 40, Regularization: 0.01, NDCG@10: 0.007505723214739103, Recall@10: 0.010559440559440561\n"
     ]
    },
    {
     "data": {
      "application/vnd.jupyter.widget-view+json": {
       "model_id": "2c3b277b39ce4af09bb9ff62d63ab0e2",
       "version_major": 2,
       "version_minor": 0
      },
      "text/plain": [
       "  0%|          | 0/20 [00:00<?, ?it/s]"
      ]
     },
     "metadata": {},
     "output_type": "display_data"
    },
    {
     "name": "stdout",
     "output_type": "stream",
     "text": [
      "Factors: 128, Iterations: 20, Alpha: 40, Regularization: 0.1, NDCG@10: 0.007435263782583675, Recall@10: 0.010505459452827874\n"
     ]
    },
    {
     "data": {
      "application/vnd.jupyter.widget-view+json": {
       "model_id": "24034949a0a24dee928f7ef0d1bcd33f",
       "version_major": 2,
       "version_minor": 0
      },
      "text/plain": [
       "  0%|          | 0/30 [00:00<?, ?it/s]"
      ]
     },
     "metadata": {},
     "output_type": "display_data"
    },
    {
     "name": "stdout",
     "output_type": "stream",
     "text": [
      "Factors: 128, Iterations: 30, Alpha: 1, Regularization: 0.01, NDCG@10: 0.007265478801592718, Recall@10: 0.010272359219727642\n"
     ]
    },
    {
     "data": {
      "application/vnd.jupyter.widget-view+json": {
       "model_id": "3175ef325c7047f686b1e4b2b8fe72ee",
       "version_major": 2,
       "version_minor": 0
      },
      "text/plain": [
       "  0%|          | 0/30 [00:00<?, ?it/s]"
      ]
     },
     "metadata": {},
     "output_type": "display_data"
    },
    {
     "name": "stdout",
     "output_type": "stream",
     "text": [
      "Factors: 128, Iterations: 30, Alpha: 1, Regularization: 0.1, NDCG@10: 0.007627828530317832, Recall@10: 0.010706661759293338\n"
     ]
    },
    {
     "data": {
      "application/vnd.jupyter.widget-view+json": {
       "model_id": "6faeb2aef4794f95bb09cd9cc6d69951",
       "version_major": 2,
       "version_minor": 0
      },
      "text/plain": [
       "  0%|          | 0/30 [00:00<?, ?it/s]"
      ]
     },
     "metadata": {},
     "output_type": "display_data"
    },
    {
     "name": "stdout",
     "output_type": "stream",
     "text": [
      "Factors: 128, Iterations: 30, Alpha: 10, Regularization: 0.01, NDCG@10: 0.0070468987446332, Recall@10: 0.009849098270150902\n"
     ]
    },
    {
     "data": {
      "application/vnd.jupyter.widget-view+json": {
       "model_id": "7551b5f9804d43cd80f09ce5d7381744",
       "version_major": 2,
       "version_minor": 0
      },
      "text/plain": [
       "  0%|          | 0/30 [00:00<?, ?it/s]"
      ]
     },
     "metadata": {},
     "output_type": "display_data"
    },
    {
     "name": "stdout",
     "output_type": "stream",
     "text": [
      "Factors: 128, Iterations: 30, Alpha: 10, Regularization: 0.1, NDCG@10: 0.007313654041796777, Recall@10: 0.010317752423015582\n"
     ]
    },
    {
     "data": {
      "application/vnd.jupyter.widget-view+json": {
       "model_id": "8a1c0ffb68094d4394a813f51c78c151",
       "version_major": 2,
       "version_minor": 0
      },
      "text/plain": [
       "  0%|          | 0/30 [00:00<?, ?it/s]"
      ]
     },
     "metadata": {},
     "output_type": "display_data"
    },
    {
     "name": "stdout",
     "output_type": "stream",
     "text": [
      "Factors: 128, Iterations: 30, Alpha: 40, Regularization: 0.01, NDCG@10: 0.007577872769905436, Recall@10: 0.010668629615998038\n"
     ]
    },
    {
     "data": {
      "application/vnd.jupyter.widget-view+json": {
       "model_id": "5e40a9b7908a4e3881a334c3992d733f",
       "version_major": 2,
       "version_minor": 0
      },
      "text/plain": [
       "  0%|          | 0/30 [00:00<?, ?it/s]"
      ]
     },
     "metadata": {},
     "output_type": "display_data"
    },
    {
     "name": "stdout",
     "output_type": "stream",
     "text": [
      "Factors: 128, Iterations: 30, Alpha: 40, Regularization: 0.1, NDCG@10: 0.007356932319358643, Recall@10: 0.010354557722978774\n"
     ]
    },
    {
     "data": {
      "application/vnd.jupyter.widget-view+json": {
       "model_id": "3e6b89b29f754e18aa8bd9ddd394ba8e",
       "version_major": 2,
       "version_minor": 0
      },
      "text/plain": [
       "  0%|          | 0/10 [00:00<?, ?it/s]"
      ]
     },
     "metadata": {},
     "output_type": "display_data"
    },
    {
     "name": "stdout",
     "output_type": "stream",
     "text": [
      "Factors: 256, Iterations: 10, Alpha: 1, Regularization: 0.01, NDCG@10: 0.008269206699175646, Recall@10: 0.011643970065022697\n"
     ]
    },
    {
     "data": {
      "application/vnd.jupyter.widget-view+json": {
       "model_id": "b1f53b7dc6a14a3db761390ccad9da9d",
       "version_major": 2,
       "version_minor": 0
      },
      "text/plain": [
       "  0%|          | 0/10 [00:00<?, ?it/s]"
      ]
     },
     "metadata": {},
     "output_type": "display_data"
    },
    {
     "name": "stdout",
     "output_type": "stream",
     "text": [
      "Factors: 256, Iterations: 10, Alpha: 1, Regularization: 0.1, NDCG@10: 0.008379312474181609, Recall@10: 0.012107716844558952\n"
     ]
    },
    {
     "data": {
      "application/vnd.jupyter.widget-view+json": {
       "model_id": "6eca4c06e780401bb5f4aeec839d83bc",
       "version_major": 2,
       "version_minor": 0
      },
      "text/plain": [
       "  0%|          | 0/10 [00:00<?, ?it/s]"
      ]
     },
     "metadata": {},
     "output_type": "display_data"
    },
    {
     "name": "stdout",
     "output_type": "stream",
     "text": [
      "Factors: 256, Iterations: 10, Alpha: 10, Regularization: 0.01, NDCG@10: 0.008402126811267853, Recall@10: 0.01190774138142559\n"
     ]
    },
    {
     "data": {
      "application/vnd.jupyter.widget-view+json": {
       "model_id": "1dfbb1ca1d874ef08e017c10c4dcca7a",
       "version_major": 2,
       "version_minor": 0
      },
      "text/plain": [
       "  0%|          | 0/10 [00:00<?, ?it/s]"
      ]
     },
     "metadata": {},
     "output_type": "display_data"
    },
    {
     "name": "stdout",
     "output_type": "stream",
     "text": [
      "Factors: 256, Iterations: 10, Alpha: 10, Regularization: 0.1, NDCG@10: 0.008544937109009896, Recall@10: 0.01210035578456631\n"
     ]
    },
    {
     "data": {
      "application/vnd.jupyter.widget-view+json": {
       "model_id": "cdaab04dba314637b259d7ff68644fef",
       "version_major": 2,
       "version_minor": 0
      },
      "text/plain": [
       "  0%|          | 0/10 [00:00<?, ?it/s]"
      ]
     },
     "metadata": {},
     "output_type": "display_data"
    },
    {
     "name": "stdout",
     "output_type": "stream",
     "text": [
      "Factors: 256, Iterations: 10, Alpha: 40, Regularization: 0.01, NDCG@10: 0.008413151876488239, Recall@10: 0.012135934241197398\n"
     ]
    },
    {
     "data": {
      "application/vnd.jupyter.widget-view+json": {
       "model_id": "2cd528fc8ab649f7b638fc6c33896f74",
       "version_major": 2,
       "version_minor": 0
      },
      "text/plain": [
       "  0%|          | 0/10 [00:00<?, ?it/s]"
      ]
     },
     "metadata": {},
     "output_type": "display_data"
    },
    {
     "name": "stdout",
     "output_type": "stream",
     "text": [
      "Factors: 256, Iterations: 10, Alpha: 40, Regularization: 0.1, NDCG@10: 0.008426360488020668, Recall@10: 0.01198871304134462\n"
     ]
    },
    {
     "data": {
      "application/vnd.jupyter.widget-view+json": {
       "model_id": "0042f205f8604261b8a20d5c040eeaa1",
       "version_major": 2,
       "version_minor": 0
      },
      "text/plain": [
       "  0%|          | 0/20 [00:00<?, ?it/s]"
      ]
     },
     "metadata": {},
     "output_type": "display_data"
    },
    {
     "name": "stdout",
     "output_type": "stream",
     "text": [
      "Factors: 256, Iterations: 20, Alpha: 1, Regularization: 0.01, NDCG@10: 0.008686190553863915, Recall@10: 0.012250030671083302\n"
     ]
    },
    {
     "data": {
      "application/vnd.jupyter.widget-view+json": {
       "model_id": "3f66183161f148a6903c66c72799456d",
       "version_major": 2,
       "version_minor": 0
      },
      "text/plain": [
       "  0%|          | 0/20 [00:00<?, ?it/s]"
      ]
     },
     "metadata": {},
     "output_type": "display_data"
    },
    {
     "name": "stdout",
     "output_type": "stream",
     "text": [
      "Factors: 256, Iterations: 20, Alpha: 1, Regularization: 0.1, NDCG@10: 0.008767893334234318, Recall@10: 0.012183781131149552\n"
     ]
    },
    {
     "data": {
      "application/vnd.jupyter.widget-view+json": {
       "model_id": "c8f41de185424953ab6981a474f1a8eb",
       "version_major": 2,
       "version_minor": 0
      },
      "text/plain": [
       "  0%|          | 0/20 [00:00<?, ?it/s]"
      ]
     },
     "metadata": {},
     "output_type": "display_data"
    },
    {
     "name": "stdout",
     "output_type": "stream",
     "text": [
      "Factors: 256, Iterations: 20, Alpha: 10, Regularization: 0.01, NDCG@10: 0.00859743311259763, Recall@10: 0.011880750828119247\n"
     ]
    },
    {
     "data": {
      "application/vnd.jupyter.widget-view+json": {
       "model_id": "489b17a879974f93913711fca170ba62",
       "version_major": 2,
       "version_minor": 0
      },
      "text/plain": [
       "  0%|          | 0/20 [00:00<?, ?it/s]"
      ]
     },
     "metadata": {},
     "output_type": "display_data"
    },
    {
     "name": "stdout",
     "output_type": "stream",
     "text": [
      "Factors: 256, Iterations: 20, Alpha: 10, Regularization: 0.1, NDCG@10: 0.00863526481318357, Recall@10: 0.012162924794503741\n"
     ]
    },
    {
     "data": {
      "application/vnd.jupyter.widget-view+json": {
       "model_id": "c846497fe6af490298e6fbf1bf439d0a",
       "version_major": 2,
       "version_minor": 0
      },
      "text/plain": [
       "  0%|          | 0/20 [00:00<?, ?it/s]"
      ]
     },
     "metadata": {},
     "output_type": "display_data"
    },
    {
     "name": "stdout",
     "output_type": "stream",
     "text": [
      "Factors: 256, Iterations: 20, Alpha: 40, Regularization: 0.01, NDCG@10: 0.008642146846446817, Recall@10: 0.012105263157894735\n"
     ]
    },
    {
     "data": {
      "application/vnd.jupyter.widget-view+json": {
       "model_id": "4f68b33f5f01465f9dab7a10930f1c14",
       "version_major": 2,
       "version_minor": 0
      },
      "text/plain": [
       "  0%|          | 0/20 [00:00<?, ?it/s]"
      ]
     },
     "metadata": {},
     "output_type": "display_data"
    },
    {
     "name": "stdout",
     "output_type": "stream",
     "text": [
      "Factors: 256, Iterations: 20, Alpha: 40, Regularization: 0.1, NDCG@10: 0.008613083353651126, Recall@10: 0.012235308551098027\n"
     ]
    },
    {
     "data": {
      "application/vnd.jupyter.widget-view+json": {
       "model_id": "b4ecea7127de4e2fbd95c6c8f1752bb3",
       "version_major": 2,
       "version_minor": 0
      },
      "text/plain": [
       "  0%|          | 0/30 [00:00<?, ?it/s]"
      ]
     },
     "metadata": {},
     "output_type": "display_data"
    },
    {
     "name": "stdout",
     "output_type": "stream",
     "text": [
      "Factors: 256, Iterations: 30, Alpha: 1, Regularization: 0.01, NDCG@10: 0.008819925065375557, Recall@10: 0.012267206477732794\n"
     ]
    },
    {
     "data": {
      "application/vnd.jupyter.widget-view+json": {
       "model_id": "f12786dfa7bf4a0385a5f591bf66a8aa",
       "version_major": 2,
       "version_minor": 0
      },
      "text/plain": [
       "  0%|          | 0/30 [00:00<?, ?it/s]"
      ]
     },
     "metadata": {},
     "output_type": "display_data"
    },
    {
     "name": "stdout",
     "output_type": "stream",
     "text": [
      "Factors: 256, Iterations: 30, Alpha: 1, Regularization: 0.1, NDCG@10: 0.008702430302371954, Recall@10: 0.012138387927861613\n"
     ]
    },
    {
     "data": {
      "application/vnd.jupyter.widget-view+json": {
       "model_id": "1ed9df5cba8c4372bfec6b7df1295ee6",
       "version_major": 2,
       "version_minor": 0
      },
      "text/plain": [
       "  0%|          | 0/30 [00:00<?, ?it/s]"
      ]
     },
     "metadata": {},
     "output_type": "display_data"
    },
    {
     "name": "stdout",
     "output_type": "stream",
     "text": [
      "Factors: 256, Iterations: 30, Alpha: 10, Regularization: 0.01, NDCG@10: 0.008678498756747763, Recall@10: 0.012064777327935223\n"
     ]
    },
    {
     "data": {
      "application/vnd.jupyter.widget-view+json": {
       "model_id": "f2cd4f7f2fbe4007afeb2a32b8dc8e06",
       "version_major": 2,
       "version_minor": 0
      },
      "text/plain": [
       "  0%|          | 0/30 [00:00<?, ?it/s]"
      ]
     },
     "metadata": {},
     "output_type": "display_data"
    },
    {
     "name": "stdout",
     "output_type": "stream",
     "text": [
      "Factors: 256, Iterations: 30, Alpha: 10, Regularization: 0.1, NDCG@10: 0.008780218007348548, Recall@10: 0.01213225371120108\n"
     ]
    },
    {
     "data": {
      "application/vnd.jupyter.widget-view+json": {
       "model_id": "91c70bbc986e41d58bbf145065fe15a2",
       "version_major": 2,
       "version_minor": 0
      },
      "text/plain": [
       "  0%|          | 0/30 [00:00<?, ?it/s]"
      ]
     },
     "metadata": {},
     "output_type": "display_data"
    },
    {
     "name": "stdout",
     "output_type": "stream",
     "text": [
      "Factors: 256, Iterations: 30, Alpha: 40, Regularization: 0.01, NDCG@10: 0.008800508511233679, Recall@10: 0.012180100601153232\n"
     ]
    },
    {
     "data": {
      "application/vnd.jupyter.widget-view+json": {
       "model_id": "3467958bd0ba4149a6f9d00ba9ddc6ab",
       "version_major": 2,
       "version_minor": 0
      },
      "text/plain": [
       "  0%|          | 0/30 [00:00<?, ?it/s]"
      ]
     },
     "metadata": {},
     "output_type": "display_data"
    },
    {
     "name": "stdout",
     "output_type": "stream",
     "text": [
      "Factors: 256, Iterations: 30, Alpha: 40, Regularization: 0.1, NDCG@10: 0.008648432669520806, Recall@10: 0.012145748987854251\n",
      "Лучшие параметры для ALS: (256, 30, 1, 0.01)\n"
     ]
    }
   ],
   "source": [
    "# Гиперпараметры для тестирования\n",
    "factors_options = [64, 128, 256]\n",
    "iterations_options = [10, 20, 30]\n",
    "alpha_options = [1, 10, 40]\n",
    "regularization_options = [0.01, 0.1]\n",
    "\n",
    "best_score = 0\n",
    "best_params = None\n",
    "\n",
    "# Перебор комбинаций гиперпараметров\n",
    "for factors in factors_options:\n",
    "    for iterations in iterations_options:\n",
    "        for alpha_val in alpha_options:\n",
    "            for reg in regularization_options:\n",
    "                # Инициализация и обучение модели ALS с текущими гиперпараметрами\n",
    "                als_model = ALS(\n",
    "                    user_column=\"user_id\",\n",
    "                    item_column=\"track_id\",\n",
    "                    score_column=\"score\",\n",
    "                    n_factors=factors,\n",
    "                    n_iterations=iterations,\n",
    "                    top_k=10\n",
    "                )\n",
    "                als_recommendations = als_model.fit_predict(user_item_csr)\n",
    "\n",
    "                # Обратное преобразование идентификаторов\n",
    "                als_recommendations_decoded = user_encoder.inverse_transform(als_recommendations)\n",
    "                als_recommendations_decoded = item_encoder.inverse_transform(als_recommendations_decoded)\n",
    "\n",
    "                # Создание предсказаний и вычисление метрик\n",
    "                als_submission = make_submission(als_recommendations_decoded)\n",
    "                metrics = compute_metrics(als_submission, ground_truth)\n",
    "\n",
    "                # Оценка качества модели\n",
    "                ndcg_score = metrics['ndcg@10']\n",
    "                recall_score = metrics['recall@10']\n",
    "                current_score = ndcg_score  # Можно выбрать другую метрику или комбинацию метрик\n",
    "\n",
    "                print(f\"Factors: {factors}, Iterations: {iterations}, Alpha: {alpha_val}, Regularization: {reg}, NDCG@10: {ndcg_score}, Recall@10: {recall_score}\")\n",
    "\n",
    "                # Обновление лучших параметров, если текущая модель лучше\n",
    "                if current_score > best_score:\n",
    "                    best_score = current_score\n",
    "                    best_params = (factors, iterations, alpha_val, reg)\n",
    "\n",
    "print(\"Лучшие параметры для ALS:\", best_params)"
   ]
  },
  {
   "cell_type": "code",
   "execution_count": 13,
   "id": "018e4b87",
   "metadata": {},
   "outputs": [
    {
     "data": {
      "application/vnd.jupyter.widget-view+json": {
       "model_id": "35de5ffac4b84e12a9af671c9b8814a9",
       "version_major": 2,
       "version_minor": 0
      },
      "text/plain": [
       "  0%|          | 0/30 [00:00<?, ?it/s]"
      ]
     },
     "metadata": {},
     "output_type": "display_data"
    },
    {
     "ename": "KeyboardInterrupt",
     "evalue": "",
     "output_type": "error",
     "traceback": [
      "\u001b[1;31m---------------------------------------------------------------------------\u001b[0m",
      "\u001b[1;31mKeyboardInterrupt\u001b[0m                         Traceback (most recent call last)",
      "Cell \u001b[1;32mIn[13], line 24\u001b[0m\n\u001b[0;32m     14\u001b[0m \u001b[38;5;28;01mfor\u001b[39;00m reg \u001b[38;5;129;01min\u001b[39;00m regularization_options:\n\u001b[0;32m     15\u001b[0m     \u001b[38;5;66;03m# Инициализация и обучение модели ALS с текущими гиперпараметрами\u001b[39;00m\n\u001b[0;32m     16\u001b[0m     als_model \u001b[38;5;241m=\u001b[39m ALS(\n\u001b[0;32m     17\u001b[0m         user_column\u001b[38;5;241m=\u001b[39m\u001b[38;5;124m\"\u001b[39m\u001b[38;5;124muser_id\u001b[39m\u001b[38;5;124m\"\u001b[39m,\n\u001b[0;32m     18\u001b[0m         item_column\u001b[38;5;241m=\u001b[39m\u001b[38;5;124m\"\u001b[39m\u001b[38;5;124mtrack_id\u001b[39m\u001b[38;5;124m\"\u001b[39m,\n\u001b[1;32m   (...)\u001b[0m\n\u001b[0;32m     22\u001b[0m         top_k\u001b[38;5;241m=\u001b[39m\u001b[38;5;241m10\u001b[39m\n\u001b[0;32m     23\u001b[0m     )\n\u001b[1;32m---> 24\u001b[0m     als_recommendations \u001b[38;5;241m=\u001b[39m als_model\u001b[38;5;241m.\u001b[39mfit_predict(user_item_csr)\n\u001b[0;32m     26\u001b[0m     \u001b[38;5;66;03m# Обратное преобразование идентификаторов\u001b[39;00m\n\u001b[0;32m     27\u001b[0m     als_recommendations_decoded \u001b[38;5;241m=\u001b[39m user_encoder\u001b[38;5;241m.\u001b[39minverse_transform(als_recommendations)\n",
      "Cell \u001b[1;32mIn[4], line 30\u001b[0m, in \u001b[0;36mALS.fit_predict\u001b[1;34m(self, user_item, user_item_filter)\u001b[0m\n\u001b[0;32m     18\u001b[0m \u001b[38;5;28;01mdef\u001b[39;00m \u001b[38;5;21mfit_predict\u001b[39m(\n\u001b[0;32m     19\u001b[0m     \u001b[38;5;28mself\u001b[39m,\n\u001b[0;32m     20\u001b[0m     user_item: csr_matrix,\n\u001b[0;32m     21\u001b[0m     user_item_filter: Optional[csr_matrix] \u001b[38;5;241m=\u001b[39m \u001b[38;5;28;01mNone\u001b[39;00m,\n\u001b[0;32m     22\u001b[0m ) \u001b[38;5;241m-\u001b[39m\u001b[38;5;241m>\u001b[39m pl\u001b[38;5;241m.\u001b[39mDataFrame:\n\u001b[0;32m     23\u001b[0m     als \u001b[38;5;241m=\u001b[39m AlternatingLeastSquares(\n\u001b[0;32m     24\u001b[0m         factors\u001b[38;5;241m=\u001b[39m\u001b[38;5;28mself\u001b[39m\u001b[38;5;241m.\u001b[39mn_factors,\n\u001b[0;32m     25\u001b[0m         iterations\u001b[38;5;241m=\u001b[39m\u001b[38;5;28mself\u001b[39m\u001b[38;5;241m.\u001b[39mn_iterations,\n\u001b[1;32m   (...)\u001b[0m\n\u001b[0;32m     28\u001b[0m         calculate_training_loss\u001b[38;5;241m=\u001b[39m\u001b[38;5;28;01mTrue\u001b[39;00m,\n\u001b[0;32m     29\u001b[0m     )\n\u001b[1;32m---> 30\u001b[0m     als\u001b[38;5;241m.\u001b[39mfit(user_item)\n\u001b[0;32m     32\u001b[0m     user_ids \u001b[38;5;241m=\u001b[39m np\u001b[38;5;241m.\u001b[39marange(user_item_csr\u001b[38;5;241m.\u001b[39mshape[\u001b[38;5;241m0\u001b[39m])\n\u001b[0;32m     33\u001b[0m     recommended_item_indices, recommended_scores \u001b[38;5;241m=\u001b[39m als\u001b[38;5;241m.\u001b[39mrecommend(\n\u001b[0;32m     34\u001b[0m         user_ids,\n\u001b[0;32m     35\u001b[0m         (user_item_filter \u001b[38;5;28;01mif\u001b[39;00m user_item_filter \u001b[38;5;129;01mis\u001b[39;00m \u001b[38;5;129;01mnot\u001b[39;00m \u001b[38;5;28;01mNone\u001b[39;00m \u001b[38;5;28;01melse\u001b[39;00m user_item),\n\u001b[0;32m     36\u001b[0m         N\u001b[38;5;241m=\u001b[39m\u001b[38;5;28mself\u001b[39m\u001b[38;5;241m.\u001b[39mtop_k,\n\u001b[0;32m     37\u001b[0m         filter_already_liked_items\u001b[38;5;241m=\u001b[39m\u001b[38;5;28;01mTrue\u001b[39;00m,\n\u001b[0;32m     38\u001b[0m     )\n",
      "File \u001b[1;32m~\\anaconda3\\Lib\\site-packages\\implicit\\cpu\\als.py:170\u001b[0m, in \u001b[0;36mAlternatingLeastSquares.fit\u001b[1;34m(self, user_items, show_progress, callback)\u001b[0m\n\u001b[0;32m    162\u001b[0m s \u001b[38;5;241m=\u001b[39m time\u001b[38;5;241m.\u001b[39mtime()\n\u001b[0;32m    163\u001b[0m solver(\n\u001b[0;32m    164\u001b[0m     Cui,\n\u001b[0;32m    165\u001b[0m     \u001b[38;5;28mself\u001b[39m\u001b[38;5;241m.\u001b[39muser_factors,\n\u001b[1;32m   (...)\u001b[0m\n\u001b[0;32m    168\u001b[0m     num_threads\u001b[38;5;241m=\u001b[39m\u001b[38;5;28mself\u001b[39m\u001b[38;5;241m.\u001b[39mnum_threads,\n\u001b[0;32m    169\u001b[0m )\n\u001b[1;32m--> 170\u001b[0m solver(\n\u001b[0;32m    171\u001b[0m     Ciu,\n\u001b[0;32m    172\u001b[0m     \u001b[38;5;28mself\u001b[39m\u001b[38;5;241m.\u001b[39mitem_factors,\n\u001b[0;32m    173\u001b[0m     \u001b[38;5;28mself\u001b[39m\u001b[38;5;241m.\u001b[39muser_factors,\n\u001b[0;32m    174\u001b[0m     \u001b[38;5;28mself\u001b[39m\u001b[38;5;241m.\u001b[39mregularization,\n\u001b[0;32m    175\u001b[0m     num_threads\u001b[38;5;241m=\u001b[39m\u001b[38;5;28mself\u001b[39m\u001b[38;5;241m.\u001b[39mnum_threads,\n\u001b[0;32m    176\u001b[0m )\n\u001b[0;32m    177\u001b[0m progress\u001b[38;5;241m.\u001b[39mupdate(\u001b[38;5;241m1\u001b[39m)\n\u001b[0;32m    179\u001b[0m \u001b[38;5;28;01mif\u001b[39;00m \u001b[38;5;28mself\u001b[39m\u001b[38;5;241m.\u001b[39mcalculate_training_loss:\n",
      "\u001b[1;31mKeyboardInterrupt\u001b[0m: "
     ]
    }
   ],
   "source": [
    "# Гиперпараметры для тестирования\n",
    "factors_options = [256]\n",
    "iterations_options = [30, 40]\n",
    "alpha_options = [40]\n",
    "regularization_options = [0.5]\n",
    "\n",
    "best_score = 0\n",
    "best_params = None\n",
    "\n",
    "# Перебор комбинаций гиперпараметров\n",
    "for factors in factors_options:\n",
    "    for iterations in iterations_options:\n",
    "        for alpha_val in alpha_options:\n",
    "            for reg in regularization_options:\n",
    "                # Инициализация и обучение модели ALS с текущими гиперпараметрами\n",
    "                als_model = ALS(\n",
    "                    user_column=\"user_id\",\n",
    "                    item_column=\"track_id\",\n",
    "                    score_column=\"score\",\n",
    "                    n_factors=factors,\n",
    "                    n_iterations=iterations,\n",
    "                    top_k=10\n",
    "                )\n",
    "                als_recommendations = als_model.fit_predict(user_item_csr)\n",
    "\n",
    "                # Обратное преобразование идентификаторов\n",
    "                als_recommendations_decoded = user_encoder.inverse_transform(als_recommendations)\n",
    "                als_recommendations_decoded = item_encoder.inverse_transform(als_recommendations_decoded)\n",
    "\n",
    "                # Создание предсказаний и вычисление метрик\n",
    "                als_submission = make_submission(als_recommendations_decoded)\n",
    "                metrics = compute_metrics(als_submission, ground_truth)\n",
    "\n",
    "                # Оценка качества модели\n",
    "                ndcg_score = metrics['ndcg@10']\n",
    "                recall_score = metrics['recall@10']\n",
    "                current_score = ndcg_score  # Можно выбрать другую метрику или комбинацию метрик\n",
    "\n",
    "                print(f\"Factors: {factors}, Iterations: {iterations}, Alpha: {alpha_val}, Regularization: {reg}, NDCG@10: {ndcg_score}, Recall@10: {recall_score}\")\n",
    "\n",
    "                # Обновление лучших параметров, если текущая модель лучше\n",
    "                if current_score > best_score:\n",
    "                    best_score = current_score\n",
    "                    best_params = (factors, iterations, alpha_val, reg)\n",
    "\n",
    "print(\"Лучшие параметры для ALS:\", best_params)"
   ]
  }
 ],
 "metadata": {
  "kernelspec": {
   "display_name": "Python 3 (ipykernel)",
   "language": "python",
   "name": "python3"
  },
  "language_info": {
   "codemirror_mode": {
    "name": "ipython",
    "version": 3
   },
   "file_extension": ".py",
   "mimetype": "text/x-python",
   "name": "python",
   "nbconvert_exporter": "python",
   "pygments_lexer": "ipython3",
   "version": "3.11.5"
  }
 },
 "nbformat": 4,
 "nbformat_minor": 5
}
