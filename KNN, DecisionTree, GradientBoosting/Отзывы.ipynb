{
 "cells": [
  {
   "cell_type": "markdown",
   "id": "5c9d230c",
   "metadata": {},
   "source": [
    "# Датасет был взят с kaggle, а также в рамках задания был обрезан, для составления моделей.\n",
    "\n",
    "Ссылка на сам даатсет: https://www.kaggle.com/datasets/theovall/phonereviews"
   ]
  },
  {
   "cell_type": "code",
   "execution_count": 1,
   "id": "21fbd066",
   "metadata": {},
   "outputs": [],
   "source": [
    "import pandas as pd\n",
    "\n",
    "import matplotlib.pyplot as plt\n",
    "import seaborn as sns\n",
    "\n",
    "from tqdm import tqdm\n",
    "import time\n",
    "\n",
    "from sklearn.pipeline import Pipeline\n",
    "from sklearn.feature_extraction.text import TfidfVectorizer\n",
    "from sklearn.model_selection import train_test_split\n",
    "from sklearn.model_selection import GridSearchCV\n",
    "\n",
    "from sklearn.neighbors import KNeighborsClassifier\n",
    "from sklearn.tree import DecisionTreeClassifier\n",
    "from sklearn.ensemble import GradientBoostingClassifier\n",
    "\n",
    "from sklearn.metrics import (accuracy_score\n",
    "                             , precision_score\n",
    "                             , recall_score\n",
    "                             , f1_score\n",
    "                             , roc_auc_score)\n",
    "\n",
    "from skopt import BayesSearchCV\n",
    "\n",
    "import nltk\n",
    "from nltk.corpus import stopwords\n",
    "from nltk.tokenize import word_tokenize\n",
    "import string\n",
    "import pymorphy2\n",
    "from pymorphy2 import MorphAnalyzer\n",
    "import re\n",
    "\n",
    "import pickle"
   ]
  },
  {
   "cell_type": "code",
   "execution_count": 2,
   "id": "845c88ef",
   "metadata": {},
   "outputs": [
    {
     "data": {
      "text/html": [
       "<div>\n",
       "<style scoped>\n",
       "    .dataframe tbody tr th:only-of-type {\n",
       "        vertical-align: middle;\n",
       "    }\n",
       "\n",
       "    .dataframe tbody tr th {\n",
       "        vertical-align: top;\n",
       "    }\n",
       "\n",
       "    .dataframe thead th {\n",
       "        text-align: right;\n",
       "    }\n",
       "</style>\n",
       "<table border=\"1\" class=\"dataframe\">\n",
       "  <thead>\n",
       "    <tr style=\"text-align: right;\">\n",
       "      <th></th>\n",
       "      <th>Review</th>\n",
       "      <th>Rating</th>\n",
       "    </tr>\n",
       "  </thead>\n",
       "  <tbody>\n",
       "    <tr>\n",
       "      <th>0</th>\n",
       "      <td>3D Touch просто восхитительная вещь! Заряд дер...</td>\n",
       "      <td>5</td>\n",
       "    </tr>\n",
       "    <tr>\n",
       "      <th>1</th>\n",
       "      <td>Отключается при температуре близкой к нулю, не...</td>\n",
       "      <td>4</td>\n",
       "    </tr>\n",
       "    <tr>\n",
       "      <th>2</th>\n",
       "      <td>В Apple окончательно решили не заморачиваться,...</td>\n",
       "      <td>3</td>\n",
       "    </tr>\n",
       "    <tr>\n",
       "      <th>3</th>\n",
       "      <td>Постарался наиболее ёмко и коротко описать все...</td>\n",
       "      <td>4</td>\n",
       "    </tr>\n",
       "    <tr>\n",
       "      <th>4</th>\n",
       "      <td>Достойный телефон. Пользоваться одно удовольст...</td>\n",
       "      <td>5</td>\n",
       "    </tr>\n",
       "    <tr>\n",
       "      <th>...</th>\n",
       "      <td>...</td>\n",
       "      <td>...</td>\n",
       "    </tr>\n",
       "    <tr>\n",
       "      <th>458424</th>\n",
       "      <td>удобный, всё работает отлично, звонит, играет,...</td>\n",
       "      <td>5</td>\n",
       "    </tr>\n",
       "    <tr>\n",
       "      <th>458425</th>\n",
       "      <td>прошло больше года, притензий нет, при моей на...</td>\n",
       "      <td>5</td>\n",
       "    </tr>\n",
       "    <tr>\n",
       "      <th>458426</th>\n",
       "      <td>мой первый аппарат на андроиде. На данный моме...</td>\n",
       "      <td>5</td>\n",
       "    </tr>\n",
       "    <tr>\n",
       "      <th>458427</th>\n",
       "      <td>Разбил iphone и не было желания покупать новый...</td>\n",
       "      <td>5</td>\n",
       "    </tr>\n",
       "    <tr>\n",
       "      <th>458428</th>\n",
       "      <td>Очень доволен покупкой и всем советую...</td>\n",
       "      <td>5</td>\n",
       "    </tr>\n",
       "  </tbody>\n",
       "</table>\n",
       "<p>458429 rows × 2 columns</p>\n",
       "</div>"
      ],
      "text/plain": [
       "                                                   Review  Rating\n",
       "0       3D Touch просто восхитительная вещь! Заряд дер...       5\n",
       "1       Отключается при температуре близкой к нулю, не...       4\n",
       "2       В Apple окончательно решили не заморачиваться,...       3\n",
       "3       Постарался наиболее ёмко и коротко описать все...       4\n",
       "4       Достойный телефон. Пользоваться одно удовольст...       5\n",
       "...                                                   ...     ...\n",
       "458424  удобный, всё работает отлично, звонит, играет,...       5\n",
       "458425  прошло больше года, притензий нет, при моей на...       5\n",
       "458426  мой первый аппарат на андроиде. На данный моме...       5\n",
       "458427  Разбил iphone и не было желания покупать новый...       5\n",
       "458428           Очень доволен покупкой и всем советую...       5\n",
       "\n",
       "[458429 rows x 2 columns]"
      ]
     },
     "execution_count": 2,
     "metadata": {},
     "output_type": "execute_result"
    }
   ],
   "source": [
    "df_first = pd.read_csv('reviews.csv')\n",
    "df_first"
   ]
  },
  {
   "cell_type": "code",
   "execution_count": 3,
   "id": "b0482054",
   "metadata": {},
   "outputs": [
    {
     "data": {
      "text/html": [
       "<div>\n",
       "<style scoped>\n",
       "    .dataframe tbody tr th:only-of-type {\n",
       "        vertical-align: middle;\n",
       "    }\n",
       "\n",
       "    .dataframe tbody tr th {\n",
       "        vertical-align: top;\n",
       "    }\n",
       "\n",
       "    .dataframe thead th {\n",
       "        text-align: right;\n",
       "    }\n",
       "</style>\n",
       "<table border=\"1\" class=\"dataframe\">\n",
       "  <thead>\n",
       "    <tr style=\"text-align: right;\">\n",
       "      <th></th>\n",
       "      <th>Количество пропущеннных значений</th>\n",
       "      <th>Общее количество данных</th>\n",
       "      <th>Пропущенных значений в %</th>\n",
       "    </tr>\n",
       "  </thead>\n",
       "  <tbody>\n",
       "    <tr>\n",
       "      <th>Review</th>\n",
       "      <td>596</td>\n",
       "      <td>458429</td>\n",
       "      <td>0.13</td>\n",
       "    </tr>\n",
       "    <tr>\n",
       "      <th>Rating</th>\n",
       "      <td>0</td>\n",
       "      <td>458429</td>\n",
       "      <td>0.00</td>\n",
       "    </tr>\n",
       "  </tbody>\n",
       "</table>\n",
       "</div>"
      ],
      "text/plain": [
       "        Количество пропущеннных значений  Общее количество данных  \\\n",
       "Review                               596                   458429   \n",
       "Rating                                 0                   458429   \n",
       "\n",
       "        Пропущенных значений в %  \n",
       "Review                      0.13  \n",
       "Rating                      0.00  "
      ]
     },
     "execution_count": 3,
     "metadata": {},
     "output_type": "execute_result"
    }
   ],
   "source": [
    "# узнаем количество пропусков\n",
    "def count_missing_values(df):\n",
    "    missing_values = df_first.isnull().sum()\n",
    "    missing_df = pd.DataFrame(missing_values, columns=['Количество пропущеннных значений'])\n",
    "    missing_df['Общее количество данных'] = len(df_first)\n",
    "    missing_df['Пропущенных значений в %'] = round((missing_df['Количество пропущеннных значений'] / missing_df['Общее количество данных']) * 100, 2)\n",
    "    return missing_df\n",
    "\n",
    "# Проверяем количество пропущенных значений\n",
    "missing_df = count_missing_values(df_first)\n",
    "missing_df"
   ]
  },
  {
   "cell_type": "code",
   "execution_count": 4,
   "id": "16593555",
   "metadata": {},
   "outputs": [
    {
     "data": {
      "text/plain": [
       "array([5, 4, 3, 2, 1], dtype=int64)"
      ]
     },
     "execution_count": 4,
     "metadata": {},
     "output_type": "execute_result"
    }
   ],
   "source": [
    "# узнаем уникальные значения.\n",
    "def get_unique_values(df_first, column_name):\n",
    "    unique_values = df_first[column_name].unique()\n",
    "    return unique_values\n",
    "\n",
    "# Получаем уникальные значения в столбце 'Rating'\n",
    "unique_values = get_unique_values(df_first, 'Rating')\n",
    "unique_values"
   ]
  },
  {
   "cell_type": "code",
   "execution_count": 5,
   "id": "e5637fe3",
   "metadata": {},
   "outputs": [
    {
     "data": {
      "image/png": "[encoded data removed]",
      "text/plain": [
       "<Figure size 640x480 with 1 Axes>"
      ]
     },
     "metadata": {},
     "output_type": "display_data"
    }
   ],
   "source": [
    "# Получаем количество значений для каждого рейтинга от 1 до 5\n",
    "rating_counts = df_first[df_first['Rating'].between(1, 5)].groupby('Rating').size()\n",
    "\n",
    "# Создаем диаграмму\n",
    "plt.bar(rating_counts.index, rating_counts.values)\n",
    "plt.xlabel('Рейтинг')\n",
    "plt.ylabel('Количество')\n",
    "plt.title('Распределение рейтингов')\n",
    "plt.show()"
   ]
  },
  {
   "cell_type": "markdown",
   "id": "f2453419",
   "metadata": {},
   "source": [
    "У нас идут отметки рейтин от 1 до 5 поэтому мы можем сделать разметку следующим образом:\n",
    "1. Диапазон отметок от `1 до 2` обозначить как - **плохие отзывы**\n",
    "2. Диапазон отметок `3` обозначить - как **нейтральные отзывы**\n",
    "3. Диапазон отметок от `4 до 5` обозначаить как - **хорошие отзывы**"
   ]
  },
  {
   "cell_type": "code",
   "execution_count": 6,
   "id": "456036ec",
   "metadata": {},
   "outputs": [],
   "source": [
    "def classify_review(rating):\n",
    "    if rating in [1, 2]:\n",
    "        return 'Плохие'\n",
    "    elif rating == 3:\n",
    "        return 'Нейтральные'\n",
    "    elif rating in [4, 5]:\n",
    "        return 'Хорошие'\n",
    "\n",
    "df_first['label'] = df_first['Rating'].apply(classify_review)"
   ]
  },
  {
   "cell_type": "code",
   "execution_count": 7,
   "id": "ad83e215",
   "metadata": {
    "scrolled": true
   },
   "outputs": [
    {
     "data": {
      "text/html": [
       "<div>\n",
       "<style scoped>\n",
       "    .dataframe tbody tr th:only-of-type {\n",
       "        vertical-align: middle;\n",
       "    }\n",
       "\n",
       "    .dataframe tbody tr th {\n",
       "        vertical-align: top;\n",
       "    }\n",
       "\n",
       "    .dataframe thead th {\n",
       "        text-align: right;\n",
       "    }\n",
       "</style>\n",
       "<table border=\"1\" class=\"dataframe\">\n",
       "  <thead>\n",
       "    <tr style=\"text-align: right;\">\n",
       "      <th></th>\n",
       "      <th>Review</th>\n",
       "      <th>Rating</th>\n",
       "      <th>label</th>\n",
       "    </tr>\n",
       "  </thead>\n",
       "  <tbody>\n",
       "    <tr>\n",
       "      <th>0</th>\n",
       "      <td>3D Touch просто восхитительная вещь! Заряд дер...</td>\n",
       "      <td>5</td>\n",
       "      <td>Хорошие</td>\n",
       "    </tr>\n",
       "    <tr>\n",
       "      <th>1</th>\n",
       "      <td>Отключается при температуре близкой к нулю, не...</td>\n",
       "      <td>4</td>\n",
       "      <td>Хорошие</td>\n",
       "    </tr>\n",
       "    <tr>\n",
       "      <th>2</th>\n",
       "      <td>В Apple окончательно решили не заморачиваться,...</td>\n",
       "      <td>3</td>\n",
       "      <td>Нейтральные</td>\n",
       "    </tr>\n",
       "    <tr>\n",
       "      <th>3</th>\n",
       "      <td>Постарался наиболее ёмко и коротко описать все...</td>\n",
       "      <td>4</td>\n",
       "      <td>Хорошие</td>\n",
       "    </tr>\n",
       "    <tr>\n",
       "      <th>4</th>\n",
       "      <td>Достойный телефон. Пользоваться одно удовольст...</td>\n",
       "      <td>5</td>\n",
       "      <td>Хорошие</td>\n",
       "    </tr>\n",
       "  </tbody>\n",
       "</table>\n",
       "</div>"
      ],
      "text/plain": [
       "                                              Review  Rating        label\n",
       "0  3D Touch просто восхитительная вещь! Заряд дер...       5      Хорошие\n",
       "1  Отключается при температуре близкой к нулю, не...       4      Хорошие\n",
       "2  В Apple окончательно решили не заморачиваться,...       3  Нейтральные\n",
       "3  Постарался наиболее ёмко и коротко описать все...       4      Хорошие\n",
       "4  Достойный телефон. Пользоваться одно удовольст...       5      Хорошие"
      ]
     },
     "execution_count": 7,
     "metadata": {},
     "output_type": "execute_result"
    }
   ],
   "source": [
    "df_first.head()"
   ]
  },
  {
   "cell_type": "markdown",
   "id": "652a9b52",
   "metadata": {},
   "source": [
    "Столбец Rating нам больше не понадобится, можно спокойно его удалять"
   ]
  },
  {
   "cell_type": "code",
   "execution_count": 8,
   "id": "cbc1d405",
   "metadata": {},
   "outputs": [
    {
     "data": {
      "text/html": [
       "<div>\n",
       "<style scoped>\n",
       "    .dataframe tbody tr th:only-of-type {\n",
       "        vertical-align: middle;\n",
       "    }\n",
       "\n",
       "    .dataframe tbody tr th {\n",
       "        vertical-align: top;\n",
       "    }\n",
       "\n",
       "    .dataframe thead th {\n",
       "        text-align: right;\n",
       "    }\n",
       "</style>\n",
       "<table border=\"1\" class=\"dataframe\">\n",
       "  <thead>\n",
       "    <tr style=\"text-align: right;\">\n",
       "      <th></th>\n",
       "      <th>Review</th>\n",
       "      <th>label</th>\n",
       "    </tr>\n",
       "  </thead>\n",
       "  <tbody>\n",
       "    <tr>\n",
       "      <th>0</th>\n",
       "      <td>3D Touch просто восхитительная вещь! Заряд дер...</td>\n",
       "      <td>Хорошие</td>\n",
       "    </tr>\n",
       "    <tr>\n",
       "      <th>1</th>\n",
       "      <td>Отключается при температуре близкой к нулю, не...</td>\n",
       "      <td>Хорошие</td>\n",
       "    </tr>\n",
       "    <tr>\n",
       "      <th>2</th>\n",
       "      <td>В Apple окончательно решили не заморачиваться,...</td>\n",
       "      <td>Нейтральные</td>\n",
       "    </tr>\n",
       "    <tr>\n",
       "      <th>3</th>\n",
       "      <td>Постарался наиболее ёмко и коротко описать все...</td>\n",
       "      <td>Хорошие</td>\n",
       "    </tr>\n",
       "    <tr>\n",
       "      <th>4</th>\n",
       "      <td>Достойный телефон. Пользоваться одно удовольст...</td>\n",
       "      <td>Хорошие</td>\n",
       "    </tr>\n",
       "    <tr>\n",
       "      <th>...</th>\n",
       "      <td>...</td>\n",
       "      <td>...</td>\n",
       "    </tr>\n",
       "    <tr>\n",
       "      <th>458424</th>\n",
       "      <td>удобный, всё работает отлично, звонит, играет,...</td>\n",
       "      <td>Хорошие</td>\n",
       "    </tr>\n",
       "    <tr>\n",
       "      <th>458425</th>\n",
       "      <td>прошло больше года, притензий нет, при моей на...</td>\n",
       "      <td>Хорошие</td>\n",
       "    </tr>\n",
       "    <tr>\n",
       "      <th>458426</th>\n",
       "      <td>мой первый аппарат на андроиде. На данный моме...</td>\n",
       "      <td>Хорошие</td>\n",
       "    </tr>\n",
       "    <tr>\n",
       "      <th>458427</th>\n",
       "      <td>Разбил iphone и не было желания покупать новый...</td>\n",
       "      <td>Хорошие</td>\n",
       "    </tr>\n",
       "    <tr>\n",
       "      <th>458428</th>\n",
       "      <td>Очень доволен покупкой и всем советую...</td>\n",
       "      <td>Хорошие</td>\n",
       "    </tr>\n",
       "  </tbody>\n",
       "</table>\n",
       "<p>458429 rows × 2 columns</p>\n",
       "</div>"
      ],
      "text/plain": [
       "                                                   Review        label\n",
       "0       3D Touch просто восхитительная вещь! Заряд дер...      Хорошие\n",
       "1       Отключается при температуре близкой к нулю, не...      Хорошие\n",
       "2       В Apple окончательно решили не заморачиваться,...  Нейтральные\n",
       "3       Постарался наиболее ёмко и коротко описать все...      Хорошие\n",
       "4       Достойный телефон. Пользоваться одно удовольст...      Хорошие\n",
       "...                                                   ...          ...\n",
       "458424  удобный, всё работает отлично, звонит, играет,...      Хорошие\n",
       "458425  прошло больше года, притензий нет, при моей на...      Хорошие\n",
       "458426  мой первый аппарат на андроиде. На данный моме...      Хорошие\n",
       "458427  Разбил iphone и не было желания покупать новый...      Хорошие\n",
       "458428           Очень доволен покупкой и всем советую...      Хорошие\n",
       "\n",
       "[458429 rows x 2 columns]"
      ]
     },
     "execution_count": 8,
     "metadata": {},
     "output_type": "execute_result"
    }
   ],
   "source": [
    "df_first = df_first.drop(['Rating'],axis=1)\n",
    "df_first"
   ]
  },
  {
   "cell_type": "code",
   "execution_count": 9,
   "id": "f0fa6da6",
   "metadata": {
    "scrolled": false
   },
   "outputs": [
    {
     "name": "stdout",
     "output_type": "stream",
     "text": [
      "Хорошие        335085\n",
      "Плохие          70253\n",
      "Нейтральные     53091\n",
      "Name: label, dtype: int64\n"
     ]
    },
    {
     "data": {
      "image/png": "[encoded data removed]",
      "text/plain": [
       "<Figure size 640x480 with 1 Axes>"
      ]
     },
     "metadata": {},
     "output_type": "display_data"
    }
   ],
   "source": [
    "# смотрим на распределение наших классов\n",
    "classes = pd.value_counts(df_first[\"label\"])\n",
    "\n",
    "print(classes)\n",
    "\n",
    "classes.plot(kind = 'pie',  autopct='%0.f%%') \n",
    "\n",
    "plt.title(\"Classes distribution\")\n",
    "\n",
    "plt.ylabel('')\n",
    "\n",
    "plt.show()"
   ]
  },
  {
   "cell_type": "markdown",
   "id": "c2918984",
   "metadata": {},
   "source": [
    "В идеале можно было бы удалить нейтральные отзывы, и поработать только с двумя классами: \"Хорошие\" и \"Плохие\" отзывы, но так как задача учебная и к тому же у нас нет данных для валидации, то попробуем поработать с тремя классами."
   ]
  },
  {
   "cell_type": "markdown",
   "id": "f4be669b",
   "metadata": {},
   "source": [
    "Датасет получается слишком большой и исходя из ограниченности вычислительных ресурсов, мы вынуждены его сократить до 50 000 строк для дальнейшего обучения. В целях соблюдения схожести данных изначальных мы сохранили процентовку хороших, плохих и нейтральных данных как была изначальна, а также оставили возможность попадания пропущенных значений засчет параметра random_state"
   ]
  },
  {
   "cell_type": "code",
   "execution_count": 10,
   "id": "aa68fdb2",
   "metadata": {},
   "outputs": [
    {
     "data": {
      "text/html": [
       "<div>\n",
       "<style scoped>\n",
       "    .dataframe tbody tr th:only-of-type {\n",
       "        vertical-align: middle;\n",
       "    }\n",
       "\n",
       "    .dataframe tbody tr th {\n",
       "        vertical-align: top;\n",
       "    }\n",
       "\n",
       "    .dataframe thead th {\n",
       "        text-align: right;\n",
       "    }\n",
       "</style>\n",
       "<table border=\"1\" class=\"dataframe\">\n",
       "  <thead>\n",
       "    <tr style=\"text-align: right;\">\n",
       "      <th></th>\n",
       "      <th>Review</th>\n",
       "      <th>label</th>\n",
       "    </tr>\n",
       "  </thead>\n",
       "  <tbody>\n",
       "    <tr>\n",
       "      <th>0</th>\n",
       "      <td>Лучшее творение от самсунг</td>\n",
       "      <td>Хорошие</td>\n",
       "    </tr>\n",
       "    <tr>\n",
       "      <th>1</th>\n",
       "      <td>В целом за такую цену отличный смартфон, взял ...</td>\n",
       "      <td>Хорошие</td>\n",
       "    </tr>\n",
       "    <tr>\n",
       "      <th>2</th>\n",
       "      <td>До этого пользовался Sony xperia Z3 compact ок...</td>\n",
       "      <td>Хорошие</td>\n",
       "    </tr>\n",
       "    <tr>\n",
       "      <th>3</th>\n",
       "      <td>Многие жалуются что телефон постоянно сам откл...</td>\n",
       "      <td>Хорошие</td>\n",
       "    </tr>\n",
       "    <tr>\n",
       "      <th>4</th>\n",
       "      <td>Отличный телефон. Все сделано очень круто. Кам...</td>\n",
       "      <td>Хорошие</td>\n",
       "    </tr>\n",
       "    <tr>\n",
       "      <th>...</th>\n",
       "      <td>...</td>\n",
       "      <td>...</td>\n",
       "    </tr>\n",
       "    <tr>\n",
       "      <th>49995</th>\n",
       "      <td>Покупал ребенку первый телефон, выбирал не дор...</td>\n",
       "      <td>Плохие</td>\n",
       "    </tr>\n",
       "    <tr>\n",
       "      <th>49996</th>\n",
       "      <td>Приобрёл в Связной данный девайс но через 10 д...</td>\n",
       "      <td>Хорошие</td>\n",
       "    </tr>\n",
       "    <tr>\n",
       "      <th>49997</th>\n",
       "      <td>И вот уже прошло 9 месяцев-за это время все со...</td>\n",
       "      <td>Хорошие</td>\n",
       "    </tr>\n",
       "    <tr>\n",
       "      <th>49998</th>\n",
       "      <td>хороший телефон для звонков для остального мож...</td>\n",
       "      <td>Хорошие</td>\n",
       "    </tr>\n",
       "    <tr>\n",
       "      <th>49999</th>\n",
       "      <td>Телефоном в принципе доволен, правдо упал и ст...</td>\n",
       "      <td>Хорошие</td>\n",
       "    </tr>\n",
       "  </tbody>\n",
       "</table>\n",
       "<p>50000 rows × 2 columns</p>\n",
       "</div>"
      ],
      "text/plain": [
       "                                                  Review    label\n",
       "0                             Лучшее творение от самсунг  Хорошие\n",
       "1      В целом за такую цену отличный смартфон, взял ...  Хорошие\n",
       "2      До этого пользовался Sony xperia Z3 compact ок...  Хорошие\n",
       "3      Многие жалуются что телефон постоянно сам откл...  Хорошие\n",
       "4      Отличный телефон. Все сделано очень круто. Кам...  Хорошие\n",
       "...                                                  ...      ...\n",
       "49995  Покупал ребенку первый телефон, выбирал не дор...   Плохие\n",
       "49996  Приобрёл в Связной данный девайс но через 10 д...  Хорошие\n",
       "49997  И вот уже прошло 9 месяцев-за это время все со...  Хорошие\n",
       "49998  хороший телефон для звонков для остального мож...  Хорошие\n",
       "49999  Телефоном в принципе доволен, правдо упал и ст...  Хорошие\n",
       "\n",
       "[50000 rows x 2 columns]"
      ]
     },
     "execution_count": 10,
     "metadata": {},
     "output_type": "execute_result"
    }
   ],
   "source": [
    "# Берем случайные подмножества для каждой метки\n",
    "df_good = df_first[df_first['label'] == 'Хорошие'].sample(n=int(50000*0.73), random_state=1)\n",
    "df_neutral = df_first[df_first['label'] == 'Нейтральные'].sample(n=int(50000*0.12), random_state=1)\n",
    "df_bad = df_first[df_first['label'] == 'Плохие'].sample(n=int(50000*0.15), random_state=1)\n",
    "\n",
    "# Объединяем все подмножества в один DataFrame\n",
    "df_sample = pd.concat([df_good, df_neutral, df_bad])\n",
    "\n",
    "# Перемешиваем строки, чтобы обеспечить случайность порядка\n",
    "df_sample = df_sample.sample(frac=1, random_state=1).reset_index(drop=True)\n",
    "df_sample"
   ]
  },
  {
   "cell_type": "code",
   "execution_count": 11,
   "id": "d0cb419b",
   "metadata": {},
   "outputs": [],
   "source": [
    "# сохраняем наш датасет\n",
    "df_sample.to_csv('sample.csv', index=False)"
   ]
  },
  {
   "cell_type": "code",
   "execution_count": 12,
   "id": "0c5d8bf3",
   "metadata": {},
   "outputs": [],
   "source": [
    "# # можно просто прочитать готовый датасет (раскоментить если нужно использовать повторно)\n",
    "# df_sample = pd.read_csv('sample.csv')"
   ]
  },
  {
   "cell_type": "code",
   "execution_count": 13,
   "id": "7ebfcded",
   "metadata": {},
   "outputs": [
    {
     "name": "stdout",
     "output_type": "stream",
     "text": [
      "Хорошие        36500\n",
      "Плохие          7500\n",
      "Нейтральные     6000\n",
      "Name: label, dtype: int64\n"
     ]
    },
    {
     "data": {
      "image/png": "[encoded data removed]",
      "text/plain": [
       "<Figure size 640x480 with 1 Axes>"
      ]
     },
     "metadata": {},
     "output_type": "display_data"
    }
   ],
   "source": [
    "# смотрим на распределение наших классов\n",
    "classes = pd.value_counts(df_sample[\"label\"])\n",
    "\n",
    "print(classes)\n",
    "\n",
    "classes.plot(kind = 'pie',  autopct='%0.f%%') \n",
    "\n",
    "plt.title(\"Classes distribution\")\n",
    "\n",
    "plt.ylabel('')\n",
    "\n",
    "plt.show()"
   ]
  },
  {
   "cell_type": "markdown",
   "id": "82607715",
   "metadata": {},
   "source": [
    "# Предобработка данных"
   ]
  },
  {
   "cell_type": "code",
   "execution_count": 14,
   "id": "0779d782",
   "metadata": {},
   "outputs": [],
   "source": [
    "df = df_sample.copy()"
   ]
  },
  {
   "cell_type": "markdown",
   "id": "aef7aa41",
   "metadata": {},
   "source": [
    "Пропущенные комментарии восстановить мы, к сожалению, никак не сможем. В реальных условиях можно воспользоваться экспертной оценкой, а при иных обстоятельствах пропуски можно заменить, например, на среднее или медианное значение, но в данном случае, т.к. у нас незначительное количество пропусков в датасете, нами было принято решение удалить строки с пропущенными комментариями."
   ]
  },
  {
   "cell_type": "code",
   "execution_count": 15,
   "id": "a820077b",
   "metadata": {},
   "outputs": [],
   "source": [
    "# Удаление строк с пропущенными значениями\n",
    "df = df.dropna(subset=['Review'])"
   ]
  },
  {
   "cell_type": "code",
   "execution_count": 16,
   "id": "1c3077ef",
   "metadata": {},
   "outputs": [
    {
     "name": "stderr",
     "output_type": "stream",
     "text": [
      "100%|███████████████████████████████████████████████████████████████████████████| 49939/49939 [02:23<00:00, 348.10it/s]\n"
     ]
    }
   ],
   "source": [
    "# nltk.download('punkt')\n",
    "# nltk.download('stopwords')\n",
    "\n",
    "stop_words = set(stopwords.words('russian'))\n",
    "morph = pymorphy2.MorphAnalyzer()\n",
    "\n",
    "def preprocess_text_with_progress(text):\n",
    "    text = text.lower()\n",
    "    text = \"\".join([char for char in text if char not in string.punctuation])\n",
    "    words = word_tokenize(text)\n",
    "    words = [morph.parse(word)[0].normal_form for word in words if word not in stop_words]\n",
    "    return \" \".join(words)\n",
    "\n",
    "# примените функцию предобработки ко всем обзорам с отслеживанием прогресса\n",
    "tqdm.pandas()\n",
    "df['Review'] = df['Review'].progress_apply(preprocess_text_with_progress)"
   ]
  },
  {
   "cell_type": "markdown",
   "id": "a5686b4d",
   "metadata": {},
   "source": [
    "### Векторизация текстов"
   ]
  },
  {
   "cell_type": "code",
   "execution_count": 17,
   "id": "5b88342b",
   "metadata": {},
   "outputs": [],
   "source": [
    "# создаем векторизатор\n",
    "vectorizer = TfidfVectorizer()\n",
    "\n",
    "# обучаем векторизатор и преобразуем наши данные\n",
    "X = vectorizer.fit_transform(df['Review'])\n",
    "\n",
    "# Мы также преобразуем наши метки в численный формат\n",
    "label_mapping = {\"Хорошие\": 0, \"Нейтральные\": 1, \"Плохие\": 2}\n",
    "y = df['label'].replace(label_mapping)"
   ]
  },
  {
   "cell_type": "code",
   "execution_count": 18,
   "id": "04f9ae75",
   "metadata": {},
   "outputs": [
    {
     "data": {
      "text/plain": [
       "(49939, 92809)"
      ]
     },
     "metadata": {},
     "output_type": "display_data"
    }
   ],
   "source": [
    "# размер матриц\n",
    "display(X.shape)"
   ]
  },
  {
   "cell_type": "code",
   "execution_count": 19,
   "id": "4fb8d640",
   "metadata": {},
   "outputs": [],
   "source": [
    "# разделяем данные на тренировочную и тестовую выборки\n",
    "X_train, X_test, y_train, y_test = train_test_split(X, y, test_size=0.2, random_state=42)"
   ]
  },
  {
   "cell_type": "markdown",
   "id": "b23c878e",
   "metadata": {},
   "source": [
    "# Создание моделей"
   ]
  },
  {
   "cell_type": "code",
   "execution_count": 20,
   "id": "6dcb6eb4",
   "metadata": {},
   "outputs": [],
   "source": [
    "# Получаем метрики\n",
    "def get_metrics(model, X_test, y_test):\n",
    "    y_pred = model.predict(X_test)\n",
    "    accuracy = accuracy_score(y_test, y_pred)\n",
    "    precision = precision_score(y_test, y_pred, average='weighted')\n",
    "    recall = recall_score(y_test, y_pred, average='weighted')\n",
    "    f1 = f1_score(y_test, y_pred, average='weighted')\n",
    "    \n",
    "    return {\"Accuracy\": accuracy, \"Precision\": precision, \"Recall\": recall, \"F1 score\": f1}"
   ]
  },
  {
   "cell_type": "code",
   "execution_count": 21,
   "id": "b3d75444",
   "metadata": {},
   "outputs": [],
   "source": [
    "# Узнаем время обучения моделей\n",
    "def train_and_time_model(model, X_train, y_train):\n",
    "    start_time = time.time()\n",
    "    model.fit(X_train, y_train)\n",
    "    end_time = time.time()\n",
    "    training_time = round(end_time - start_time, 4)\n",
    "    return model, training_time"
   ]
  },
  {
   "cell_type": "markdown",
   "id": "7752b8d5",
   "metadata": {},
   "source": [
    "## Создаем модель KNN"
   ]
  },
  {
   "cell_type": "code",
   "execution_count": 22,
   "id": "e02524dd",
   "metadata": {},
   "outputs": [],
   "source": [
    "# # Создаем и обучаем модель KNN\n",
    "# knn_model = KNeighborsClassifier()\n",
    "# knn_model, knn_training_time = train_and_time_model(knn_model, X_train, y_train)\n",
    "\n",
    "# # Получаем метрики модели\n",
    "# knn_metrics = get_metrics(knn_model, X_test, y_test)\n",
    "\n",
    "# print(f\"Время обучения модели KNN: {knn_training_time} секунд\")"
   ]
  },
  {
   "cell_type": "markdown",
   "id": "70e5e43f",
   "metadata": {},
   "source": [
    "## Создаем модель Decision Tree"
   ]
  },
  {
   "cell_type": "code",
   "execution_count": 23,
   "id": "d6de0de4",
   "metadata": {},
   "outputs": [],
   "source": [
    "# # Создаем и обучаем модель Decision Tree\n",
    "# decision_tree_model = DecisionTreeClassifier(random_state=42)\n",
    "# decision_tree_model, decision_tree_training_time = train_and_time_model(decision_tree_model, X_train, y_train)\n",
    "\n",
    "# # Получаем метрики модели\n",
    "# decision_tree_metrics = get_metrics(decision_tree_model, X_test, y_test)\n",
    "\n",
    "# print(f\"Время обучения модели DecisionTree: {decision_tree_training_time} секунд\")"
   ]
  },
  {
   "cell_type": "markdown",
   "id": "ce334bcf",
   "metadata": {},
   "source": [
    "# Создаем модель на основе Gradient Boosting"
   ]
  },
  {
   "cell_type": "code",
   "execution_count": 24,
   "id": "050ef766",
   "metadata": {},
   "outputs": [],
   "source": [
    "# # Создаем и обучаем модель Decision Gradient Boosting Classifier\n",
    "# boosting_model = GradientBoostingClassifier(random_state=42)\n",
    "# boosting_model, boosting_training_time = train_and_time_model(boosting_model, X_train, y_train)\n",
    "\n",
    "# # Получаем метрики модели\n",
    "# boosting_metrics = get_metrics(boosting_model, X_test, y_test)\n",
    "\n",
    "# print(f\"Время обучения модели Gradient Boosting: {boosting_training_time} секунд\")"
   ]
  },
  {
   "cell_type": "code",
   "execution_count": 25,
   "id": "799e4528",
   "metadata": {},
   "outputs": [],
   "source": [
    "# # Создадим датафрейм, содержащий все метрики\n",
    "# all_metrics = pd.DataFrame([knn_metrics, decision_tree_metrics, boosting_metrics],\n",
    "#                           index=[\"KNN\", \"Decision Tree\", \"Gradient Boosting\"])\n",
    "# # сортируем по accuracy\n",
    "# all_metrics.sort_values(by=\"Accuracy\", ascending=False)"
   ]
  },
  {
   "cell_type": "markdown",
   "id": "cf7a7341",
   "metadata": {},
   "source": [
    "#### Заметка: Также можно создать pipline, включив сразу все модели."
   ]
  },
  {
   "cell_type": "code",
   "execution_count": 27,
   "id": "81dfc9dc",
   "metadata": {},
   "outputs": [
    {
     "data": {
      "text/html": [
       "<div>\n",
       "<style scoped>\n",
       "    .dataframe tbody tr th:only-of-type {\n",
       "        vertical-align: middle;\n",
       "    }\n",
       "\n",
       "    .dataframe tbody tr th {\n",
       "        vertical-align: top;\n",
       "    }\n",
       "\n",
       "    .dataframe thead th {\n",
       "        text-align: right;\n",
       "    }\n",
       "</style>\n",
       "<table border=\"1\" class=\"dataframe\">\n",
       "  <thead>\n",
       "    <tr style=\"text-align: right;\">\n",
       "      <th></th>\n",
       "      <th>Accuracy</th>\n",
       "      <th>Precision</th>\n",
       "      <th>Recall</th>\n",
       "      <th>F1 score</th>\n",
       "      <th>Training Time</th>\n",
       "    </tr>\n",
       "  </thead>\n",
       "  <tbody>\n",
       "    <tr>\n",
       "      <th>Boosting</th>\n",
       "      <td>0.758210</td>\n",
       "      <td>0.711903</td>\n",
       "      <td>0.758210</td>\n",
       "      <td>0.679540</td>\n",
       "      <td>906.5026</td>\n",
       "    </tr>\n",
       "    <tr>\n",
       "      <th>KNN</th>\n",
       "      <td>0.733680</td>\n",
       "      <td>0.690745</td>\n",
       "      <td>0.733680</td>\n",
       "      <td>0.630652</td>\n",
       "      <td>0.0060</td>\n",
       "    </tr>\n",
       "    <tr>\n",
       "      <th>Decision Tree</th>\n",
       "      <td>0.718662</td>\n",
       "      <td>0.701776</td>\n",
       "      <td>0.718662</td>\n",
       "      <td>0.709389</td>\n",
       "      <td>36.6046</td>\n",
       "    </tr>\n",
       "  </tbody>\n",
       "</table>\n",
       "</div>"
      ],
      "text/plain": [
       "               Accuracy  Precision    Recall  F1 score  Training Time\n",
       "Boosting       0.758210   0.711903  0.758210  0.679540       906.5026\n",
       "KNN            0.733680   0.690745  0.733680  0.630652         0.0060\n",
       "Decision Tree  0.718662   0.701776  0.718662  0.709389        36.6046"
      ]
     },
     "execution_count": 27,
     "metadata": {},
     "output_type": "execute_result"
    }
   ],
   "source": [
    "# получаем метрики для каждой модели\n",
    "def get_metrics(model, X_train, y_train, X_test, y_test):\n",
    "    train_y_pred = model.predict(X_train)\n",
    "    test_y_pred = model.predict(X_test)\n",
    "    \n",
    "    test_accuracy = accuracy_score(y_test, test_y_pred)\n",
    "    precision = precision_score(y_test, test_y_pred, average='weighted')\n",
    "    recall = recall_score(y_test, test_y_pred, average='weighted')\n",
    "    f1 = f1_score(y_test, test_y_pred, average='weighted')\n",
    "    \n",
    "    return {\"Accuracy\": test_accuracy, \"Precision\": precision, \"Recall\": recall, \"F1 score\": f1}\n",
    "\n",
    "# создаем pipline для обучения моделей\n",
    "def train_model(model, X_train, y_train, X_test, y_test):\n",
    "    pipeline = Pipeline([('model', model)])\n",
    "    \n",
    "    # Обучаем модель и замеряем время обучения\n",
    "    model, training_time = train_and_time_model(pipeline, X_train, y_train)\n",
    "\n",
    "    # Получаем метрики модели\n",
    "    metrics = get_metrics(model, X_train, y_train, X_test, y_test)\n",
    "    # Добавляем время обучения в метрики\n",
    "    metrics[\"Training Time\"] = training_time\n",
    "\n",
    "    return model, metrics\n",
    "\n",
    "# Обучим каждую модель\n",
    "knn_model, knn_metrics = train_model(KNeighborsClassifier(), X_train, y_train, X_test, y_test)\n",
    "decision_tree_model, decision_tree_metrics = train_model(DecisionTreeClassifier(random_state=42), X_train, y_train, X_test, y_test)\n",
    "boosting_model, boosting_metrics = train_model(GradientBoostingClassifier(random_state=42), X_train, y_train, X_test, y_test)\n",
    "\n",
    "# создаем DataFrame c метриками\n",
    "results_df = pd.DataFrame([knn_metrics, decision_tree_metrics, boosting_metrics],\n",
    "                          index=[\"KNN\", \"Decision Tree\", \"Boosting\"])\n",
    "\n",
    "# сортируем по accuracy\n",
    "results_df.sort_values(by=\"Accuracy\", ascending=False)"
   ]
  },
  {
   "cell_type": "markdown",
   "id": "7d766ad3",
   "metadata": {},
   "source": [
    "# Подбор гиперпараметров"
   ]
  },
  {
   "cell_type": "markdown",
   "id": "09df9061",
   "metadata": {},
   "source": [
    "Подбирать гиперпараметры будем при помощи модуля GridSearchCV из scikit-learn"
   ]
  },
  {
   "cell_type": "code",
   "execution_count": null,
   "id": "b3f8f118",
   "metadata": {},
   "outputs": [],
   "source": [
    "# # Если без pipline то раскоменчиваем это\n",
    "# # Определение параметров для KNN\n",
    "# knn_params = {'model__n_neighbors': [3, 5, 7, 9], 'model__weights': ['uniform', 'distance']}\n",
    "# knn_gs = GridSearchCV(knn_model, param_grid=knn_params, cv=5)\n",
    "# knn_gs.fit(X_train, y_train)\n",
    "\n",
    "# # Определение параметров для Decision Tree\n",
    "# tree_params = {'model__max_depth': [None, 2, 4, 6, 8, 10], 'model__criterion': ['gini', 'entropy']}\n",
    "# tree_gs = GridSearchCV(decision_tree_model, param_grid=tree_params, cv=5)\n",
    "# tree_gs.fit(X_train, y_train)\n",
    "\n",
    "# # Определение параметров для Gradient Boosting\n",
    "# boost_params = {'model__n_estimators': [100, 200, 300], 'model__learning_rate': [0.01, 0.1, 1]}\n",
    "# boost_gs = GridSearchCV(boosting_model, param_grid=boost_params, cv=5)\n",
    "# boost_gs.fit(X_train, y_train)\n",
    "\n",
    "# # Получаем наилучшие параметры\n",
    "# print(\"Best parameters for KNN: \", knn_gs.best_params_)\n",
    "# print(\"Best parameters for Decision Tree: \", tree_gs.best_params_)\n",
    "# print(\"Best parameters for Gradient Boosting: \", boost_gs.best_params_)"
   ]
  },
  {
   "cell_type": "code",
   "execution_count": 28,
   "id": "39a74295",
   "metadata": {},
   "outputs": [
    {
     "name": "stdout",
     "output_type": "stream",
     "text": [
      "Best parameters for KNN:  {'model__n_neighbors': 5, 'model__weights': 'distance'}\n"
     ]
    }
   ],
   "source": [
    "pipeline = Pipeline([('model', KNeighborsClassifier())])\n",
    "\n",
    "# Определение параметров для KNN\n",
    "knn_params = {'model__n_neighbors': [3, 5, 7, 9], 'model__weights': ['uniform', 'distance']}\n",
    "knn_gs = GridSearchCV(pipeline, param_grid=knn_params, cv=5)\n",
    "knn_gs.fit(X_train, y_train)\n",
    "\n",
    "knn_best_params = knn_gs.best_params_\n",
    "# Получаем наилучшие параметры\n",
    "print(\"Best parameters for KNN: \", knn_best_params)"
   ]
  },
  {
   "cell_type": "code",
   "execution_count": 29,
   "id": "f63a54a9",
   "metadata": {},
   "outputs": [
    {
     "name": "stdout",
     "output_type": "stream",
     "text": [
      "Best parameters for Decision Tree:  {'model__criterion': 'gini', 'model__max_depth': 10}\n"
     ]
    }
   ],
   "source": [
    "pipeline_tree = Pipeline([('model', DecisionTreeClassifier())])\n",
    "# Определение параметров для Decision Tree\n",
    "tree_params = {'model__max_depth': [None, 2, 4, 6, 8, 10], 'model__criterion': ['gini', 'entropy']}\n",
    "tree_gs = GridSearchCV(pipeline_tree, param_grid=tree_params, cv=5)\n",
    "tree_gs.fit(X_train, y_train)\n",
    "\n",
    "tree_best_params = tree_gs.best_params_\n",
    "# Получаем наилучшие параметры\n",
    "print(\"Best parameters for Decision Tree: \", tree_best_params)"
   ]
  },
  {
   "cell_type": "code",
   "execution_count": null,
   "id": "54b51c11",
   "metadata": {},
   "outputs": [],
   "source": [
    "# pipeline_boost = Pipeline([('model', GradientBoostingClassifier())])\n",
    "# # Определение параметров для Gradient Boosting\n",
    "# boost_params = {'model__n_estimators': [100, 200, 300], 'model__learning_rate': [0.01, 0.1, 1]}\n",
    "# boost_gs = GridSearchCV(pipeline_boost, param_grid=boost_params, cv=5)\n",
    "# boost_gs.fit(X_train, y_train)\n",
    "\n",
    "# # Получаем наилучшие параметры\n",
    "# print(\"Best parameters for Gradient Boosting: \", boost_gs.best_params_)"
   ]
  },
  {
   "cell_type": "code",
   "execution_count": 31,
   "id": "df6f724b",
   "metadata": {},
   "outputs": [
    {
     "data": {
      "text/html": [
       "<div>\n",
       "<style scoped>\n",
       "    .dataframe tbody tr th:only-of-type {\n",
       "        vertical-align: middle;\n",
       "    }\n",
       "\n",
       "    .dataframe tbody tr th {\n",
       "        vertical-align: top;\n",
       "    }\n",
       "\n",
       "    .dataframe thead th {\n",
       "        text-align: right;\n",
       "    }\n",
       "</style>\n",
       "<table border=\"1\" class=\"dataframe\">\n",
       "  <thead>\n",
       "    <tr style=\"text-align: right;\">\n",
       "      <th></th>\n",
       "      <th>Accuracy</th>\n",
       "      <th>Precision</th>\n",
       "      <th>Recall</th>\n",
       "      <th>F1 score</th>\n",
       "      <th>Training Time</th>\n",
       "    </tr>\n",
       "  </thead>\n",
       "  <tbody>\n",
       "    <tr>\n",
       "      <th>KNN_best</th>\n",
       "      <td>0.759211</td>\n",
       "      <td>0.760235</td>\n",
       "      <td>0.759211</td>\n",
       "      <td>0.689121</td>\n",
       "      <td>0.0080</td>\n",
       "    </tr>\n",
       "    <tr>\n",
       "      <th>Decision Tree_best</th>\n",
       "      <td>0.742791</td>\n",
       "      <td>0.657214</td>\n",
       "      <td>0.742791</td>\n",
       "      <td>0.666857</td>\n",
       "      <td>4.2827</td>\n",
       "    </tr>\n",
       "  </tbody>\n",
       "</table>\n",
       "</div>"
      ],
      "text/plain": [
       "                    Accuracy  Precision    Recall  F1 score  Training Time\n",
       "KNN_best            0.759211   0.760235  0.759211  0.689121         0.0080\n",
       "Decision Tree_best  0.742791   0.657214  0.742791  0.666857         4.2827"
      ]
     },
     "execution_count": 31,
     "metadata": {},
     "output_type": "execute_result"
    }
   ],
   "source": [
    "# Подставляем подобранные параметры прямо в определения моделей\n",
    "knn_model, knn_metrics = train_model(KNeighborsClassifier(n_neighbors=knn_best_params['model__n_neighbors'],\n",
    "                                                          weights=knn_best_params['model__weights']), \n",
    "                                     X_train, y_train, X_test, y_test)\n",
    "\n",
    "decision_tree_model, decision_tree_metrics = train_model(DecisionTreeClassifier(max_depth=tree_best_params['model__max_depth'],\n",
    "                                                                                criterion=tree_best_params['model__criterion'],\n",
    "                                                                                random_state=42),\n",
    "                                                        X_train, y_train, X_test, y_test)\n",
    "\n",
    "# boosting_model, boosting_metrics = train_model(GradientBoostingClassifier(n_estimators=boost_best_params['model__n_estimators'],\n",
    "#                                                                           learning_rate=boost_best_params['model__learning_rate'],\n",
    "#                                                                           random_state=42), \n",
    "#                                                X_train, y_train, X_test, y_test)\n",
    "\n",
    "# Собираем все метрики в одну таблицу\n",
    "results_df_best = pd.DataFrame([knn_metrics, decision_tree_metrics], # boosting_metrics\n",
    "                               index=[\"KNN_best\", \"Decision Tree_best\"]) # \"Boosting_best\" (добавить в скобки, если будет подбор гиперпараметров для бустинга)\n",
    "\n",
    "# Сортируем по Test Accuracy\n",
    "results_df_best.sort_values(by=\"Accuracy\", ascending=False)"
   ]
  },
  {
   "cell_type": "markdown",
   "id": "14e3bdbc",
   "metadata": {},
   "source": [
    "Мы видим, что после подбора гиперпараметров, метрика Accuracy улучшилась у моделей KNN и Decision Tree. Можем предположить, что данная метрика улучшится и у модели основанной на Gradient Boosting"
   ]
  },
  {
   "cell_type": "markdown",
   "id": "c9f4189c",
   "metadata": {},
   "source": [
    "# Визуализация"
   ]
  },
  {
   "cell_type": "code",
   "execution_count": 32,
   "id": "76bc0c22",
   "metadata": {},
   "outputs": [
    {
     "data": {
      "image/png": "[encoded data removed]",
      "text/plain": [
       "<Figure size 1200x800 with 4 Axes>"
      ]
     },
     "metadata": {},
     "output_type": "display_data"
    }
   ],
   "source": [
    "# # Удаление столбца Training Time\n",
    "# results_df_best = results_df_best.drop(['Training Time'], axis=1)\n",
    "\n",
    "# Извлекаем строку с метриками для модели Boosting\n",
    "boosting_metrics = results_df.loc[['Boosting']]\n",
    "\n",
    "# Объединяем метрики начальные и после оптимизации в один DataFrame\n",
    "results_combined = pd.concat([results_df_best, boosting_metrics])\n",
    "\n",
    "# Удаление столбца Training Time\n",
    "results_combined = results_combined.drop(['Training Time'], axis=1)\n",
    "\n",
    "# Преобразование данных для визуализации\n",
    "results_melt = pd.melt(results_combined.reset_index(), id_vars='index', var_name='Metrics', value_name='Score')\n",
    "\n",
    "# Создание сетки графиков\n",
    "g = sns.FacetGrid(results_melt, col=\"Metrics\", height=4, aspect=1, col_wrap=3, sharey=False)\n",
    "\n",
    "# Построение диаграмм\n",
    "g.map(sns.barplot, \"index\", \"Score\", order=results_combined.index)\n",
    "\n",
    "# Отображение графиков\n",
    "plt.show()"
   ]
  },
  {
   "cell_type": "code",
   "execution_count": 33,
   "id": "23296729",
   "metadata": {},
   "outputs": [],
   "source": [
    "# Сохраняем модели\n",
    "with open('knn_model.pkl', 'wb') as file:\n",
    "    pickle.dump(knn_model, file)\n",
    "    \n",
    "with open('decision_tree_model.pkl', 'wb') as file:\n",
    "    pickle.dump(decision_tree_model, file)\n",
    "    \n",
    "with open('boosting_model.pkl', 'wb') as file:\n",
    "    pickle.dump(boosting_model, file)"
   ]
  },
  {
   "cell_type": "markdown",
   "id": "53845c3e",
   "metadata": {},
   "source": [
    "# Оптимизация гиперпараметров с использованием байесовской оптимизации"
   ]
  },
  {
   "cell_type": "code",
   "execution_count": 34,
   "id": "23b3964f",
   "metadata": {},
   "outputs": [
    {
     "name": "stderr",
     "output_type": "stream",
     "text": [
      "C:\\Users\\Nekon\\anaconda3\\lib\\site-packages\\skopt\\optimizer\\optimizer.py:449: UserWarning: The objective has been evaluated at this point before.\n",
      "  warnings.warn(\"The objective has been evaluated \"\n",
      "C:\\Users\\Nekon\\anaconda3\\lib\\site-packages\\skopt\\optimizer\\optimizer.py:449: UserWarning: The objective has been evaluated at this point before.\n",
      "  warnings.warn(\"The objective has been evaluated \"\n",
      "C:\\Users\\Nekon\\anaconda3\\lib\\site-packages\\skopt\\optimizer\\optimizer.py:449: UserWarning: The objective has been evaluated at this point before.\n",
      "  warnings.warn(\"The objective has been evaluated \"\n",
      "C:\\Users\\Nekon\\anaconda3\\lib\\site-packages\\skopt\\optimizer\\optimizer.py:449: UserWarning: The objective has been evaluated at this point before.\n",
      "  warnings.warn(\"The objective has been evaluated \"\n",
      "C:\\Users\\Nekon\\anaconda3\\lib\\site-packages\\skopt\\optimizer\\optimizer.py:449: UserWarning: The objective has been evaluated at this point before.\n",
      "  warnings.warn(\"The objective has been evaluated \"\n",
      "C:\\Users\\Nekon\\anaconda3\\lib\\site-packages\\skopt\\optimizer\\optimizer.py:449: UserWarning: The objective has been evaluated at this point before.\n",
      "  warnings.warn(\"The objective has been evaluated \"\n",
      "C:\\Users\\Nekon\\anaconda3\\lib\\site-packages\\skopt\\optimizer\\optimizer.py:449: UserWarning: The objective has been evaluated at this point before.\n",
      "  warnings.warn(\"The objective has been evaluated \"\n",
      "C:\\Users\\Nekon\\anaconda3\\lib\\site-packages\\skopt\\optimizer\\optimizer.py:449: UserWarning: The objective has been evaluated at this point before.\n",
      "  warnings.warn(\"The objective has been evaluated \"\n"
     ]
    },
    {
     "name": "stdout",
     "output_type": "stream",
     "text": [
      "Best parameters for KNN:  OrderedDict([('n_neighbors', 7), ('weights', 'distance')])\n"
     ]
    },
    {
     "name": "stderr",
     "output_type": "stream",
     "text": [
      "C:\\Users\\Nekon\\anaconda3\\lib\\site-packages\\skopt\\optimizer\\optimizer.py:449: UserWarning: The objective has been evaluated at this point before.\n",
      "  warnings.warn(\"The objective has been evaluated \"\n",
      "C:\\Users\\Nekon\\anaconda3\\lib\\site-packages\\skopt\\optimizer\\optimizer.py:449: UserWarning: The objective has been evaluated at this point before.\n",
      "  warnings.warn(\"The objective has been evaluated \"\n",
      "C:\\Users\\Nekon\\anaconda3\\lib\\site-packages\\skopt\\optimizer\\optimizer.py:449: UserWarning: The objective has been evaluated at this point before.\n",
      "  warnings.warn(\"The objective has been evaluated \"\n",
      "C:\\Users\\Nekon\\anaconda3\\lib\\site-packages\\skopt\\optimizer\\optimizer.py:449: UserWarning: The objective has been evaluated at this point before.\n",
      "  warnings.warn(\"The objective has been evaluated \"\n",
      "C:\\Users\\Nekon\\anaconda3\\lib\\site-packages\\skopt\\optimizer\\optimizer.py:449: UserWarning: The objective has been evaluated at this point before.\n",
      "  warnings.warn(\"The objective has been evaluated \"\n"
     ]
    },
    {
     "name": "stdout",
     "output_type": "stream",
     "text": [
      "Best parameters for Decision Tree:  OrderedDict([('criterion', 'gini'), ('max_depth', 16)])\n"
     ]
    }
   ],
   "source": [
    "# Определение диапазона параметров для KNN\n",
    "knn_param_space = {'n_neighbors': (1, 10), 'weights': ['uniform', 'distance']}\n",
    "\n",
    "knn_bayes_search = BayesSearchCV(KNeighborsClassifier(), knn_param_space, n_iter=32, cv=5, n_jobs=-1)\n",
    "knn_bayes_search.fit(X_train, y_train)\n",
    "\n",
    "print(\"Best parameters for KNN: \", knn_bayes_search.best_params_)\n",
    "\n",
    "# Определение диапазона параметров для DecisionTreeClassifier\n",
    "tree_param_space = {'criterion': ['gini', 'entropy'], 'max_depth': (1, 50)}\n",
    "\n",
    "tree_bayes_search = BayesSearchCV(DecisionTreeClassifier(random_state=42), tree_param_space, n_iter=32, cv=5, n_jobs=-1)\n",
    "tree_bayes_search.fit(X_train, y_train)\n",
    "\n",
    "print(\"Best parameters for Decision Tree: \", tree_bayes_search.best_params_)\n",
    "\n",
    "# # Определение диапазона параметров для GradientBoostingClassifier\n",
    "# boost_param_space = {'n_estimators': (10, 100), 'learning_rate': (0.01, 1.0, 'log-uniform')}\n",
    "\n",
    "# boost_bayes_search = BayesSearchCV(GradientBoostingClassifier(random_state=42), boost_param_space, n_iter=32, cv=5, n_jobs=-1)\n",
    "# boost_bayes_search.fit(X_train, y_train)\n",
    "\n",
    "# print(\"Best parameters for Gradient Boosting: \", boost_bayes_search.best_params_)"
   ]
  },
  {
   "cell_type": "code",
   "execution_count": 36,
   "id": "3ed2206e",
   "metadata": {},
   "outputs": [
    {
     "data": {
      "text/html": [
       "<div>\n",
       "<style scoped>\n",
       "    .dataframe tbody tr th:only-of-type {\n",
       "        vertical-align: middle;\n",
       "    }\n",
       "\n",
       "    .dataframe tbody tr th {\n",
       "        vertical-align: top;\n",
       "    }\n",
       "\n",
       "    .dataframe thead th {\n",
       "        text-align: right;\n",
       "    }\n",
       "</style>\n",
       "<table border=\"1\" class=\"dataframe\">\n",
       "  <thead>\n",
       "    <tr style=\"text-align: right;\">\n",
       "      <th></th>\n",
       "      <th>Accuracy</th>\n",
       "      <th>Precision</th>\n",
       "      <th>Recall</th>\n",
       "      <th>F1 score</th>\n",
       "    </tr>\n",
       "  </thead>\n",
       "  <tbody>\n",
       "    <tr>\n",
       "      <th>Tuned KNN</th>\n",
       "      <td>0.758110</td>\n",
       "      <td>0.768920</td>\n",
       "      <td>0.758110</td>\n",
       "      <td>0.684758</td>\n",
       "    </tr>\n",
       "    <tr>\n",
       "      <th>Tuned Decision Tree</th>\n",
       "      <td>0.749299</td>\n",
       "      <td>0.678699</td>\n",
       "      <td>0.749299</td>\n",
       "      <td>0.683859</td>\n",
       "    </tr>\n",
       "  </tbody>\n",
       "</table>\n",
       "</div>"
      ],
      "text/plain": [
       "                     Accuracy  Precision    Recall  F1 score\n",
       "Tuned KNN            0.758110   0.768920  0.758110  0.684758\n",
       "Tuned Decision Tree  0.749299   0.678699  0.749299  0.683859"
      ]
     },
     "execution_count": 36,
     "metadata": {},
     "output_type": "execute_result"
    }
   ],
   "source": [
    "# Создание и обучение модели KNN с наилучшими параметрами\n",
    "best_knn = KNeighborsClassifier(**knn_bayes_search.best_params_)\n",
    "best_knn.fit(X_train, y_train)\n",
    "knn_metrics = get_metrics(best_knn, X_train, y_train, X_test, y_test)\n",
    "\n",
    "# Создание и обучение модели Decision Tree с наилучшими параметрами\n",
    "best_tree = DecisionTreeClassifier(random_state=42, **tree_bayes_search.best_params_)\n",
    "best_tree.fit(X_train, y_train)\n",
    "tree_metrics = get_metrics(best_tree, X_train, y_train, X_test, y_test)\n",
    "\n",
    "# # Создание и обучение модели Gradient Boosting с наилучшими параметрами\n",
    "# best_boost = GradientBoostingClassifier(random_state=42, **boost_bayes_search.best_params_)\n",
    "# best_boost.fit(X_train, y_train)\n",
    "# boost_metrics = get_metrics(best_boost, X_train, y_train, X_test, y_test)\n",
    "\n",
    "# создаем DataFrame c метриками\n",
    "tuned_results_df = pd.DataFrame([knn_metrics, tree_metrics], #boost_metrics\n",
    "                          index=[\"Tuned KNN\", \"Tuned Decision Tree\"]) #\"Tuned Boosting\" (добавить в скобки, если будет подбор гиперпараметров для бустинга)\n",
    "\n",
    "# сортируем по accuracy\n",
    "tuned_results_df.sort_values(by=\"Accuracy\", ascending=False)"
   ]
  },
  {
   "cell_type": "code",
   "execution_count": 38,
   "id": "569d77a6",
   "metadata": {},
   "outputs": [
    {
     "data": {
      "image/png": "[encoded data removed]",
      "text/plain": [
       "<Figure size 1200x800 with 4 Axes>"
      ]
     },
     "metadata": {},
     "output_type": "display_data"
    }
   ],
   "source": [
    "# Извлекаем строку с метриками для модели Boosting\n",
    "boosting_metrics = results_df.loc[['Boosting']]\n",
    "\n",
    "# Объединяем метрики начальные и после оптимизации в один DataFrame\n",
    "results_combined = pd.concat([tuned_results_df, boosting_metrics])\n",
    "\n",
    "# Удаление столбца Training Time\n",
    "results_combined = results_combined.drop(['Training Time'], axis=1)\n",
    "\n",
    "# Преобразование данных для визуализации\n",
    "results_melt = pd.melt(results_combined.reset_index(), id_vars='index', var_name='Metrics', value_name='Score')\n",
    "\n",
    "# Создание сетки графиков\n",
    "g = sns.FacetGrid(results_melt, col=\"Metrics\", height=4, aspect=1, col_wrap=3, sharey=False)\n",
    "\n",
    "# Построение диаграмм\n",
    "g.map(sns.barplot, \"index\", \"Score\", order=results_combined.index)\n",
    "\n",
    "# Отображение графиков\n",
    "plt.show()"
   ]
  },
  {
   "cell_type": "markdown",
   "id": "f11fe239",
   "metadata": {},
   "source": [
    "Можно сделать вывод, что подбор гиперпараметров при помощи GridSearchCV и BayesSearchCV для данных моделей отличается не слишком сильно, поэтому особой разницы в том какой из этих методов применять - нет."
   ]
  },
  {
   "cell_type": "markdown",
   "id": "0b9df913",
   "metadata": {},
   "source": [
    "# Проверяем нашу модель"
   ]
  },
  {
   "cell_type": "code",
   "execution_count": 37,
   "id": "005b323b",
   "metadata": {},
   "outputs": [
    {
     "name": "stdout",
     "output_type": "stream",
     "text": [
      "Text: \"Купил эту модель и остался очень доволен. Замечательный телефон\"\n",
      "KNN prediction:  Хороший\n",
      "Decision Tree prediction:  Хороший\n",
      "Boosting prediction:  Хороший\n",
      "---\n",
      "Text: \"Ужасный телефон. Не рекомендую\"\n",
      "KNN prediction:  Плохой\n",
      "Decision Tree prediction:  Плохой\n",
      "Boosting prediction:  Плохой\n",
      "---\n",
      "Text: \"В восторге от телефона apple, наконец-то осуществил свою мечту\"\n",
      "KNN prediction:  Хороший\n",
      "Decision Tree prediction:  Хороший\n",
      "Boosting prediction:  Хороший\n",
      "---\n",
      "Text: \"Ничего особенного в этом телефоне нет, средний вариант\"\n",
      "KNN prediction:  Плохой\n",
      "Decision Tree prediction:  Хороший\n",
      "Boosting prediction:  Хороший\n",
      "---\n"
     ]
    }
   ],
   "source": [
    "# Определение функции для предобработки текста\n",
    "morph = MorphAnalyzer()\n",
    "\n",
    "def preprocess_text(text, morph):\n",
    "    # Удаление пунктуации\n",
    "    text = text.translate(str.maketrans('', '', string.punctuation))\n",
    "    # Приведение к нижнему регистру\n",
    "    text = text.lower()\n",
    "    # Удаление стоп-слов\n",
    "    words = text.split()\n",
    "    words = [word for word in words if word not in stopwords.words('russian')]\n",
    "    # Лемматизация\n",
    "    words = [morph.parse(word)[0].normal_form for word in words]\n",
    "    # Объединение слов обратно в текст\n",
    "    text = \" \".join(words)\n",
    "    return text\n",
    "\n",
    "# Определение функции для предсказания категории\n",
    "def predict_category(text, model, vectorizer, morph):\n",
    "    text = preprocess_text(text, morph)\n",
    "    text_vectorized = vectorizer.transform([text])\n",
    "    prediction = model.predict(text_vectorized)\n",
    "    return prediction\n",
    "\n",
    "# Создание списка текстов\n",
    "texts = [\n",
    "    \"Купил эту модель и остался очень доволен. Замечательный телефон\",\n",
    "    \"Ужасный телефон. Не рекомендую\", \n",
    "    \"В восторге от телефона apple, наконец-то осуществил свою мечту\",\n",
    "    \"Ничего особенного в этом телефоне нет, средний вариант\"\n",
    "]\n",
    "\n",
    "# Создаем словарь для преобразования предсказаний\n",
    "categories = {0: \"Хороший\", 1: \"Нейтральный\", 2: \"Плохой\"}\n",
    "\n",
    "# Предсказание категории для каждого текста\n",
    "for text in texts:\n",
    "    knn_prediction = predict_category(text, knn_model, vectorizer, morph)\n",
    "    decision_tree_prediction = predict_category(text, decision_tree_model, vectorizer, morph)\n",
    "    boosting_prediction = predict_category(text, boosting_model, vectorizer, morph)\n",
    "    print(f'Text: \"{text}\"')\n",
    "    print(\"KNN prediction: \", categories[knn_prediction[0]])\n",
    "    print(\"Decision Tree prediction: \", categories[decision_tree_prediction[0]])\n",
    "    print(\"Boosting prediction: \", categories[boosting_prediction[0]])\n",
    "    print('---')"
   ]
  },
  {
   "cell_type": "markdown",
   "id": "7ddac91f",
   "metadata": {},
   "source": [
    "Основным выводом является то, что Наши модели весьма точно предсказывают метки классов 0 и 2 (\"Хороший\" и \"Плохой\" отзывы) и плохо справляется с меткой класса 1 \"Нейтральный\". В самом начале мы отмечали, что целесообразней было бы разделить наши отзывы бинарно на \"Хорошие\" и \"Плохие отзывы\", так предсказания были бы более корректными, но в рамках учебной задачи мы решили поэксперементировать и посмотреть к чему это приведет."
   ]
  }
 ],
 "metadata": {
  "kernelspec": {
   "display_name": "Python 3 (ipykernel)",
   "language": "python",
   "name": "python3"
  },
  "language_info": {
   "codemirror_mode": {
    "name": "ipython",
    "version": 3
   },
   "file_extension": ".py",
   "mimetype": "text/x-python",
   "name": "python",
   "nbconvert_exporter": "python",
   "pygments_lexer": "ipython3",
   "version": "3.10.9"
  }
 },
 "nbformat": 4,
 "nbformat_minor": 5
}
