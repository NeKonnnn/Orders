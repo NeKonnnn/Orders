{
 "cells": [
  {
   "cell_type": "code",
   "execution_count": 1,
   "id": "f8528278",
   "metadata": {},
   "outputs": [],
   "source": [
    "from scipy.integrate import odeint\n",
    "import numpy as np\n",
    "import matplotlib.pyplot as plt"
   ]
  },
  {
   "cell_type": "markdown",
   "id": "dbf8a192",
   "metadata": {},
   "source": [
    "Для решения данной системы дифференциальных уравнений Колмогорова, можно использовать библиотеку scipy.integrate.odeint или scipy.integrate.solve_ivp в Python. Она обеспечивает численное решение систем дифференциальных уравнений. Ваша система уравнений выглядит как система обыкновенных дифференциальных уравнений первого порядка."
   ]
  },
  {
   "cell_type": "code",
   "execution_count": 2,
   "id": "077c2999",
   "metadata": {},
   "outputs": [],
   "source": [
    "def system(p, t):\n",
    "    p_0, p_1, p_2, p_3, p_4, p_5, p_6, p_7, p_8, p_9, p_10 = p\n",
    "\n",
    "    dp_0 = -0.5*p_0+0.4*p_2\n",
    "    dp_1 = 0.5*p_0-1.17*p_1+0.4*p_4\n",
    "    dp_2 = 0.67*p_1-0.9*p_2\n",
    "    dp_3 = 0.5*p_1-1.17*p_3+0.4*p_6\n",
    "    dp_4 = 0.5*p_2+0.67*p_3-0.9*p_4\n",
    "    dp_5 = 0.5*p_3-1.17*p_5+0.4*p_8\n",
    "    dp_6 = 0.5*p_4+0.67*p_5-0.9*p_6\n",
    "    dp_7 = 0.5*p_5-1.17*p_7+0.4*p_10\n",
    "    dp_8 = 0.5*p_6+0.67*p_7-0.9*p_8\n",
    "    dp_9 = 0.5*p_7-0.67*p_9\n",
    "    dp_10 = 0.5*p_8+0.67*p_9-0.4*p_10\n",
    "\n",
    "    return [dp_0, dp_1, dp_2, dp_3, dp_4, dp_5, dp_6, dp_7, dp_8, dp_9, dp_10]\n",
    "\n",
    "# Начальные условия (можно изменить в соответствии с вашими требованиями)\n",
    "p_0 = [1, 0, 0, 0, 0, 0, 0, 0, 0, 0, 0]\n",
    "\n",
    "# Временной интервал (можно изменить в соответствии с вашими требованиями)\n",
    "t = np.linspace(0, 10, 1000)\n",
    "\n",
    "# Решение системы ОДУ\n",
    "solution = odeint(system, p_0, t)\n",
    "\n",
    "# solution является массивом размера len(t) x len(p_0). Каждая строка - это состояние системы в конкретный момент времени"
   ]
  },
  {
   "cell_type": "markdown",
   "id": "a85a115d",
   "metadata": {},
   "source": [
    "В этом коде мы определяем функцию system, которая принимает текущее состояние системы p и текущее время t, и возвращает производные каждого из состояний. Затем мы используем функцию odeint, чтобы численно интегрировать эту систему вдоль времени.\n",
    "\n",
    "Обратите внимание, что вам нужно будет указать начальные условия для каждого p_i и временной интервал, для которого вы хотите решить систему. Это зависит от вашей конкретной задачи(от начальных условий)."
   ]
  },
  {
   "cell_type": "markdown",
   "id": "48d56cc2",
   "metadata": {},
   "source": [
    "`В контексте систем дифференциальных уравнений, обычно подразумевается, что P_i - это функции времени, и dP_i/dt обозначает скорость их изменения с течением времени. Поэтому мое изначальное предположение о том, что P_i и p_i обозначают одно и то же, было основано на этом общепринятом соглашении`."
   ]
  },
  {
   "cell_type": "markdown",
   "id": "2cdb8743",
   "metadata": {},
   "source": [
    "Как \"один ответ\" на систему дифференциальных уравнений обычно подразумевается набор решений всех уравнений системы в определенный момент времени.\n",
    "\n",
    "Таким образом, если вам нужно состояние системы в конечный момент времени (например, в конце рассматриваемого временного интервала), вы можете просто взять последнюю строку полученного решения. В контексте представленного кода это будет solution[-1]. Это будет массив, содержащий значения всех P_i в последний момент времени.\n",
    "\n",
    "Например, если вы хотите узнать значения всех P_i через 10 единиц времени, вы можете сделать следующее:"
   ]
  },
  {
   "cell_type": "code",
   "execution_count": 3,
   "id": "dd8f9a6e",
   "metadata": {},
   "outputs": [
    {
     "name": "stdout",
     "output_type": "stream",
     "text": [
      "Итоговое решение системы:\n",
      "P_0 = 0.07215961494835206\n",
      "P_1 = 0.07316722805647545\n",
      "P_2 = 0.06336415970035192\n",
      "P_3 = 0.07532925747129361\n",
      "P_4 = 0.10154960733974526\n",
      "P_5 = 0.07272909385159684\n",
      "P_6 = 0.11526926351373712\n",
      "P_7 = 0.08276803080273841\n",
      "P_8 = 0.1190816211770893\n",
      "P_9 = 0.050826976289334816\n",
      "P_10 = 0.17375514684928564\n"
     ]
    }
   ],
   "source": [
    "final_state = solution[-1]\n",
    "print(\"Итоговое решение системы:\")\n",
    "for i, p in enumerate(final_state):\n",
    "    print(f\"P_{i} = {p}\")"
   ]
  },
  {
   "cell_type": "markdown",
   "id": "31eb833e",
   "metadata": {},
   "source": [
    "# Создаем гистограмму"
   ]
  },
  {
   "cell_type": "code",
   "execution_count": 4,
   "id": "d024a8bb",
   "metadata": {},
   "outputs": [
    {
     "data": {
      "image/png": "[encoded data removed]",
      "text/plain": [
       "<Figure size 640x480 with 1 Axes>"
      ]
     },
     "metadata": {},
     "output_type": "display_data"
    }
   ],
   "source": [
    "# Создание гистограммы\n",
    "num_bins = len(final_state)  # Количество бинов равно количеству переменных\n",
    "plt.hist(final_state, bins=num_bins, range=(min(final_state), max(final_state)))\n",
    "plt.xlabel('Значение переменной p')\n",
    "plt.ylabel('Частота')\n",
    "plt.title('Распределение вероятностей')\n",
    "plt.grid(True)\n",
    "plt.show()"
   ]
  },
  {
   "cell_type": "markdown",
   "id": "404c583e",
   "metadata": {},
   "source": [
    "# Заметки общие:\n",
    "\n",
    "ОДУ - \"Обыкновенные Дифференциальные Уравнения\"\n",
    "\n",
    "Символ dP_0/dt в математике обычно обозначает производную функции P_0(t) по времени.\n",
    "\n",
    "В контексте дифференциальных уравнений, это означает скорость, с которой переменная P_0 изменяется по мере изменения времени. Таким образом, выражение dP_0/dt = -0.5*p_0+0.4*p_2 описывает, как P_0 изменяется во времени в зависимости от текущих значений p_0 и p_2.\n",
    "\n",
    "В Python, мы обычно моделируем это, записывая функцию, которая принимает текущее время t и текущие значения переменных p_0, p_1, ..., p_10 и возвращает значения dP_0/dt, dP_1/dt, ..., dP_10/dt."
   ]
  },
  {
   "cell_type": "markdown",
   "id": "ab3d5873",
   "metadata": {},
   "source": [
    "# Заметки 2\n",
    "После решения системы дифференциальных уравнений методом odeint, вы получите двумерный массив solution, где каждая строка соответствует временной точке из заданного интервала времени t, а каждый столбец соответствует одной из переменных P_i.\n",
    "\n",
    "То есть, если вы хотите получить решение для P_0 в первый момент времени, вы должны обратиться к solution[0, 0]. Если вы хотите получить решение для P_1 во второй момент времени, вы должны обратиться к solution[1, 1]. И так далее.\n",
    "\n",
    "В этом контексте, \"решение\" означает численное представление того, как P_i изменяется с течением времени, основанное на системе дифференциальных уравнений и начальных условиях. Таким образом, вы можете использовать solution для исследования поведения системы во времени или для построения графиков изменения P_i."
   ]
  },
  {
   "cell_type": "code",
   "execution_count": 5,
   "id": "4b210f70",
   "metadata": {},
   "outputs": [
    {
     "name": "stdout",
     "output_type": "stream",
     "text": [
      "1.0\n",
      "0.004963368207351651\n"
     ]
    }
   ],
   "source": [
    "print(solution[0, 0])\n",
    "print(solution[1, 1]) # и т.д."
   ]
  }
 ],
 "metadata": {
  "kernelspec": {
   "display_name": "Python 3 (ipykernel)",
   "language": "python",
   "name": "python3"
  },
  "language_info": {
   "codemirror_mode": {
    "name": "ipython",
    "version": 3
   },
   "file_extension": ".py",
   "mimetype": "text/x-python",
   "name": "python",
   "nbconvert_exporter": "python",
   "pygments_lexer": "ipython3",
   "version": "3.10.9"
  }
 },
 "nbformat": 4,
 "nbformat_minor": 5
}
