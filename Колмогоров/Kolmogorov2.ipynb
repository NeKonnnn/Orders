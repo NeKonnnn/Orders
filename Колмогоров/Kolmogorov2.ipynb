{
 "cells": [
  {
   "cell_type": "code",
   "execution_count": 1,
   "id": "f8528278",
   "metadata": {},
   "outputs": [],
   "source": [
    "from scipy.integrate import odeint\n",
    "import numpy as np\n",
    "import matplotlib.pyplot as plt"
   ]
  },
  {
   "cell_type": "markdown",
   "id": "dbf8a192",
   "metadata": {},
   "source": [
    "Для решения данной системы дифференциальных уравнений Колмогорова, можно использовать библиотеку scipy.integrate.odeint или scipy.integrate.solve_ivp в Python. Она обеспечивает численное решение систем дифференциальных уравнений. Ваша система уравнений выглядит как система обыкновенных дифференциальных уравнений первого порядка."
   ]
  },
  {
   "cell_type": "code",
   "execution_count": 4,
   "id": "077c2999",
   "metadata": {},
   "outputs": [
    {
     "ename": "NameError",
     "evalue": "name 'a2' is not defined",
     "output_type": "error",
     "traceback": [
      "\u001b[1;31m---------------------------------------------------------------------------\u001b[0m",
      "\u001b[1;31mNameError\u001b[0m                                 Traceback (most recent call last)",
      "Cell \u001b[1;32mIn[4], line 26\u001b[0m\n\u001b[0;32m     23\u001b[0m t \u001b[38;5;241m=\u001b[39m np\u001b[38;5;241m.\u001b[39mlinspace(\u001b[38;5;241m1\u001b[39m, \u001b[38;5;241m11\u001b[39m, \u001b[38;5;241m1000\u001b[39m)\n\u001b[0;32m     25\u001b[0m \u001b[38;5;66;03m# Решение системы ОДУ\u001b[39;00m\n\u001b[1;32m---> 26\u001b[0m solution \u001b[38;5;241m=\u001b[39m \u001b[43modeint\u001b[49m\u001b[43m(\u001b[49m\u001b[43msystem\u001b[49m\u001b[43m,\u001b[49m\u001b[43m \u001b[49m\u001b[43mp_1\u001b[49m\u001b[43m,\u001b[49m\u001b[43m \u001b[49m\u001b[43mt\u001b[49m\u001b[43m)\u001b[49m\n\u001b[0;32m     28\u001b[0m \u001b[38;5;66;03m# solution является массивом размера len(t) x len(p_0). Каждая строка - это состояние системы в конкретный момент времени\u001b[39;00m\n\u001b[0;32m     32\u001b[0m \u001b[38;5;28;01mdef\u001b[39;00m \u001b[38;5;21msystem\u001b[39m(psi, t):\n",
      "File \u001b[1;32m~\\anaconda3\\lib\\site-packages\\scipy\\integrate\\_odepack_py.py:242\u001b[0m, in \u001b[0;36modeint\u001b[1;34m(func, y0, t, args, Dfun, col_deriv, full_output, ml, mu, rtol, atol, tcrit, h0, hmax, hmin, ixpr, mxstep, mxhnil, mxordn, mxords, printmessg, tfirst)\u001b[0m\n\u001b[0;32m    240\u001b[0m t \u001b[38;5;241m=\u001b[39m copy(t)\n\u001b[0;32m    241\u001b[0m y0 \u001b[38;5;241m=\u001b[39m copy(y0)\n\u001b[1;32m--> 242\u001b[0m output \u001b[38;5;241m=\u001b[39m \u001b[43m_odepack\u001b[49m\u001b[38;5;241;43m.\u001b[39;49m\u001b[43modeint\u001b[49m\u001b[43m(\u001b[49m\u001b[43mfunc\u001b[49m\u001b[43m,\u001b[49m\u001b[43m \u001b[49m\u001b[43my0\u001b[49m\u001b[43m,\u001b[49m\u001b[43m \u001b[49m\u001b[43mt\u001b[49m\u001b[43m,\u001b[49m\u001b[43m \u001b[49m\u001b[43margs\u001b[49m\u001b[43m,\u001b[49m\u001b[43m \u001b[49m\u001b[43mDfun\u001b[49m\u001b[43m,\u001b[49m\u001b[43m \u001b[49m\u001b[43mcol_deriv\u001b[49m\u001b[43m,\u001b[49m\u001b[43m \u001b[49m\u001b[43mml\u001b[49m\u001b[43m,\u001b[49m\u001b[43m \u001b[49m\u001b[43mmu\u001b[49m\u001b[43m,\u001b[49m\n\u001b[0;32m    243\u001b[0m \u001b[43m                         \u001b[49m\u001b[43mfull_output\u001b[49m\u001b[43m,\u001b[49m\u001b[43m \u001b[49m\u001b[43mrtol\u001b[49m\u001b[43m,\u001b[49m\u001b[43m \u001b[49m\u001b[43matol\u001b[49m\u001b[43m,\u001b[49m\u001b[43m \u001b[49m\u001b[43mtcrit\u001b[49m\u001b[43m,\u001b[49m\u001b[43m \u001b[49m\u001b[43mh0\u001b[49m\u001b[43m,\u001b[49m\u001b[43m \u001b[49m\u001b[43mhmax\u001b[49m\u001b[43m,\u001b[49m\u001b[43m \u001b[49m\u001b[43mhmin\u001b[49m\u001b[43m,\u001b[49m\n\u001b[0;32m    244\u001b[0m \u001b[43m                         \u001b[49m\u001b[43mixpr\u001b[49m\u001b[43m,\u001b[49m\u001b[43m \u001b[49m\u001b[43mmxstep\u001b[49m\u001b[43m,\u001b[49m\u001b[43m \u001b[49m\u001b[43mmxhnil\u001b[49m\u001b[43m,\u001b[49m\u001b[43m \u001b[49m\u001b[43mmxordn\u001b[49m\u001b[43m,\u001b[49m\u001b[43m \u001b[49m\u001b[43mmxords\u001b[49m\u001b[43m,\u001b[49m\n\u001b[0;32m    245\u001b[0m \u001b[43m                         \u001b[49m\u001b[38;5;28;43mint\u001b[39;49m\u001b[43m(\u001b[49m\u001b[38;5;28;43mbool\u001b[39;49m\u001b[43m(\u001b[49m\u001b[43mtfirst\u001b[49m\u001b[43m)\u001b[49m\u001b[43m)\u001b[49m\u001b[43m)\u001b[49m\n\u001b[0;32m    246\u001b[0m \u001b[38;5;28;01mif\u001b[39;00m output[\u001b[38;5;241m-\u001b[39m\u001b[38;5;241m1\u001b[39m] \u001b[38;5;241m<\u001b[39m \u001b[38;5;241m0\u001b[39m:\n\u001b[0;32m    247\u001b[0m     warning_msg \u001b[38;5;241m=\u001b[39m _msgs[output[\u001b[38;5;241m-\u001b[39m\u001b[38;5;241m1\u001b[39m]] \u001b[38;5;241m+\u001b[39m \u001b[38;5;124m\"\u001b[39m\u001b[38;5;124m Run with full_output = 1 to get quantitative information.\u001b[39m\u001b[38;5;124m\"\u001b[39m\n",
      "Cell \u001b[1;32mIn[4], line 5\u001b[0m, in \u001b[0;36msystem\u001b[1;34m(p, t)\u001b[0m\n\u001b[0;32m      2\u001b[0m p_0, p_1, p_2, p_3, p_4, p_5, p_6, p_7, p_8, p_9, p_10 \u001b[38;5;241m=\u001b[39m p\n\u001b[0;32m      4\u001b[0m dp_0 \u001b[38;5;241m=\u001b[39m \u001b[38;5;241m-\u001b[39mp_9\u001b[38;5;241m-\u001b[39mp_10\n\u001b[1;32m----> 5\u001b[0m dp_1 \u001b[38;5;241m=\u001b[39m \u001b[38;5;241m-\u001b[39m\u001b[38;5;241m0.5\u001b[39m\u001b[38;5;241m*\u001b[39mp_0\u001b[38;5;241m+\u001b[39m\u001b[43ma2\u001b[49m\u001b[38;5;241m*\u001b[39mp_2\u001b[38;5;241m+\u001b[39mb2\u001b[38;5;241m*\u001b[39mp_2\u001b[38;5;241m*\u001b[39mu2\u001b[38;5;241m*\u001b[39m\u001b[38;5;241m*\u001b[39m(\u001b[38;5;241m3\u001b[39m\u001b[38;5;241m/\u001b[39m\u001b[38;5;241m2\u001b[39m)\n\u001b[0;32m      6\u001b[0m dp_2 \u001b[38;5;241m=\u001b[39m \u001b[38;5;241m0.5\u001b[39m\u001b[38;5;241m*\u001b[39mp_0\u001b[38;5;241m-\u001b[39m\u001b[38;5;241m0.5\u001b[39m\u001b[38;5;241m*\u001b[39mp_1\u001b[38;5;241m+\u001b[39ma2\u001b[38;5;241m*\u001b[39mp_1\u001b[38;5;241m-\u001b[39mb2\u001b[38;5;241m*\u001b[39mp_1\u001b[38;5;241m*\u001b[39mu1\u001b[38;5;241m*\u001b[39m\u001b[38;5;241m*\u001b[39m(\u001b[38;5;241m3\u001b[39m\u001b[38;5;241m/\u001b[39m\u001b[38;5;241m2\u001b[39m)\u001b[38;5;241m+\u001b[39ma2\u001b[38;5;241m*\u001b[39mp_4\u001b[38;5;241m+\u001b[39mb2\u001b[38;5;241m*\u001b[39mp_4\u001b[38;5;241m*\u001b[39mu2\u001b[38;5;241m*\u001b[39m\u001b[38;5;241m*\u001b[39m(\u001b[38;5;241m3\u001b[39m\u001b[38;5;241m/\u001b[39m\u001b[38;5;241m2\u001b[39m)\n\u001b[0;32m      7\u001b[0m dp_3 \u001b[38;5;241m=\u001b[39m \u001b[38;5;241m0.5\u001b[39m\u001b[38;5;241m*\u001b[39mp_1\u001b[38;5;241m-\u001b[39m\u001b[38;5;241m0.5\u001b[39m\u001b[38;5;241m*\u001b[39mp_3\u001b[38;5;241m-\u001b[39mb1\u001b[38;5;241m*\u001b[39mp_3\u001b[38;5;241m*\u001b[39mu1\u001b[38;5;241m*\u001b[39m\u001b[38;5;241m*\u001b[39m(\u001b[38;5;241m3\u001b[39m\u001b[38;5;241m/\u001b[39m\u001b[38;5;241m2\u001b[39m)\u001b[38;5;241m+\u001b[39ma2\u001b[38;5;241m*\u001b[39mp_6\u001b[38;5;241m+\u001b[39mb2\u001b[38;5;241m*\u001b[39mp_6\u001b[38;5;241m*\u001b[39mu2\u001b[38;5;241m*\u001b[39m\u001b[38;5;241m*\u001b[39m(\u001b[38;5;241m3\u001b[39m\u001b[38;5;241m/\u001b[39m\u001b[38;5;241m2\u001b[39m)\n",
      "\u001b[1;31mNameError\u001b[0m: name 'a2' is not defined"
     ]
    }
   ],
   "source": [
    "def system(p, t):\n",
    "    p_0, p_1, p_2, p_3, p_4, p_5, p_6, p_7, p_8, p_9, p_10 = p\n",
    "\n",
    "    dp_0 = -p_9-p_10\n",
    "    dp_1 = -0.5*p_0+a2*p_2+b2*p_2*u2**(3/2)\n",
    "    dp_2 = 0.5*p_0-0.5*p_1+a2*p_1-b2*p_1*u1**(3/2)+a2*p_4+b2*p_4*u2**(3/2)\n",
    "    dp_3 = 0.5*p_1-0.5*p_3-b1*p_3*u1**(3/2)+a2*p_6+b2*p_6*u2**(3/2)\n",
    "    dp_4 = 0.5*p_2+a1*p_3+b1*p_3*u1**(3/2)+a2*p_4-b2*p_4*u2**(3/2)\n",
    "    dp_5 = 0.5*p_3-0.5*p_5-a1*p_5-b1*p_5*u1**(3/2)+a2*p_8+b2*p_8*u2**(3/2)\n",
    "    dp_6 = 0.5*p_4+a1*p_5+b1*p_5*u1**(3/2)-0.5*p_6-a2*p_6-b2*p_6*u2**(3/2)\n",
    "    dp_7 = 0.5*p_5-0.5*p_7-a1*p_7-b1*p_7*u1**(3/2)+a2*p_10+b2*p_10*u2**(3/2)\n",
    "    dp_8 = 0.5*p_6+a1*p_7+b1*p_7*u1**(3/2)-0.5*p_8-a2*p_8-b2*p_8*u2**(3/2)\n",
    "    dp_9 = 0.5*p_7+a1*p_9-b1*p_9*u1**(3/2)\n",
    "    dp_10 = 0.5*p_8-a1*p_9+b1*p_9*u1**(3/2)-a2*p_10-b2*p_10*u2**(3/2)\n",
    "    \n",
    "\n",
    "    return [dp_0, dp_1, dp_2, dp_3, dp_4, dp_5, dp_6, dp_7, dp_8, dp_9, dp_10]\n",
    "\n",
    "# Начальные условия\n",
    "p_1 = [1, 0, 0, 0, 0, 0, 0, 0, 0, 0, 0]\n",
    "\n",
    "# Временной интервал \n",
    "t = np.linspace(1, 11, 1000)\n",
    "\n",
    "# Решение системы ОДУ\n",
    "solution = odeint(system, p_1, t)\n",
    "\n",
    "# solution является массивом размера len(t) x len(p_0). Каждая строка - это состояние системы в конкретный момент времени\n",
    "\n",
    "\n",
    "\n",
    "def system(psi, t):\n",
    "    psi_1, psi_2, psi_3, psi_4, psi_5, psi_6, psi_7, psi_8, psi_9, psi_10, psi_11 = psi\n",
    "\n",
    "    dpsi_1 = -(-psi_2*0.5+psi_3*0.5)\n",
    "    dpsi_2 = -(-psi_3*0.5-psi_3*a1+psi_4*0.5-psi_3*b1)\n",
    "    dpsi_3 = -(psi_2*a2+psi_5*0.5+psi_2*b2)\n",
    "    dpsi_4 = -(-psi_4*0.5-psi_4*a1+psi_5*a1-psi_4*b1+psi_5*b1)\n",
    "    dpsi_5 = -(psi_3*a2-psi_5*0.5-psi_5*a2+psi_3*b2-psi_5*b2)\n",
    "    dpsi_6 = -(-psi_6*0.5-psi_6*a1+psi_7*a1+psi_8*0.5-psi_6*b1)\n",
    "    dpsi_7 = -(psi_4*a2-psi_7*0.5-psi_7*a2+psi_8*0.5+psi_4*b2)\n",
    "    dpsi_8 = -(-psi_8*0.5-psi_7*a1+psi_9*a1+psi_10*0.5-psi_8*b1+psi_9*b1)\n",
    "    dpsi_9 = -(psi_6*a2-psi_9*0.5-psi_9*a2+psi_11*0.5+psi_6*b2-psi_9*b2)\n",
    "    dpsi_10 = -(-1+psi_10*a1+psi_10*b1+psi_11*b1)\n",
    "    dpsi_11 = -(-1-psi_11*a2-psi_7*b2+psi_8*b2-psi_11*b2)\n",
    "\n",
    "    return [dpsi_1, dpsi_2, dpsi_3, dpsi_4, dpsi_5, dpsi_6, dpsi_7, dpsi_8, dpsi_9, dpsi_10, dpsi_11]\n"
   ]
  },
  {
   "cell_type": "markdown",
   "id": "a85a115d",
   "metadata": {},
   "source": [
    "В этом коде мы определяем функцию system, которая принимает текущее состояние системы p и текущее время t, и возвращает производные каждого из состояний. Затем мы используем функцию odeint, чтобы численно интегрировать эту систему вдоль времени.\n",
    "\n",
    "Обратите внимание, что вам нужно будет указать начальные условия для каждого p_i и временной интервал, для которого вы хотите решить систему. Это зависит от вашей конкретной задачи(от начальных условий)."
   ]
  },
  {
   "cell_type": "markdown",
   "id": "48d56cc2",
   "metadata": {},
   "source": [
    "`В контексте систем дифференциальных уравнений, обычно подразумевается, что P_i - это функции времени, и dP_i/dt обозначает скорость их изменения с течением времени. Поэтому мое изначальное предположение о том, что P_i и p_i обозначают одно и то же, было основано на этом общепринятом соглашении`."
   ]
  },
  {
   "cell_type": "markdown",
   "id": "2cdb8743",
   "metadata": {},
   "source": [
    "Как \"один ответ\" на систему дифференциальных уравнений обычно подразумевается набор решений всех уравнений системы в определенный момент времени.\n",
    "\n",
    "Таким образом, если вам нужно состояние системы в конечный момент времени (например, в конце рассматриваемого временного интервала), вы можете просто взять последнюю строку полученного решения. В контексте представленного кода это будет solution[-1]. Это будет массив, содержащий значения всех P_i в последний момент времени.\n",
    "\n",
    "Например, если вы хотите узнать значения всех P_i через 10 единиц времени, вы можете сделать следующее:"
   ]
  },
  {
   "cell_type": "code",
   "execution_count": 3,
   "id": "dd8f9a6e",
   "metadata": {},
   "outputs": [
    {
     "name": "stdout",
     "output_type": "stream",
     "text": [
      "Итоговое решение системы:\n",
      "P_0 = 0.07215961494835206\n",
      "P_1 = 0.07316722805647545\n",
      "P_2 = 0.06336415970035192\n",
      "P_3 = 0.07532925747129361\n",
      "P_4 = 0.10154960733974526\n",
      "P_5 = 0.07272909385159684\n",
      "P_6 = 0.11526926351373712\n",
      "P_7 = 0.08276803080273841\n",
      "P_8 = 0.1190816211770893\n",
      "P_9 = 0.050826976289334816\n",
      "P_10 = 0.17375514684928564\n"
     ]
    }
   ],
   "source": [
    "final_state = solution[-1]\n",
    "print(\"Итоговое решение системы:\")\n",
    "for i, p in enumerate(final_state):\n",
    "    print(f\"P_{i} = {p}\")"
   ]
  },
  {
   "cell_type": "markdown",
   "id": "31eb833e",
   "metadata": {},
   "source": [
    "# Создаем гистограмму"
   ]
  },
  {
   "cell_type": "code",
   "execution_count": 4,
   "id": "d024a8bb",
   "metadata": {},
   "outputs": [
    {
     "data": {
      "image/png": "[encoded data removed]",
      "text/plain": [
       "<Figure size 1000x600 with 1 Axes>"
      ]
     },
     "metadata": {},
     "output_type": "display_data"
    }
   ],
   "source": [
    "# Создаем список названий для оси X\n",
    "names = ['p_' + str(i) for i in range(len(final_state))]\n",
    "\n",
    "# Создаем график\n",
    "plt.figure(figsize=(10,6))  # Размер графика\n",
    "bars = plt.bar(names, final_state) # Строим график и сохраняем ссылку на столбцы\n",
    "plt.xlabel('Названия')     # Подпись по оси X\n",
    "plt.ylabel('Результаты')   # Подпись по оси Y\n",
    "plt.title('Гистограмма распределения вероятностей')  # Название графика\n",
    "\n",
    "# Добавляем значения на столбцы\n",
    "for bar in bars:\n",
    "    yval = bar.get_height()\n",
    "    plt.text(bar.get_x() + bar.get_width()/2, yval, round(yval, 2), ha='center', va='bottom')\n",
    "\n",
    "plt.show()  # Отображаем график"
   ]
  },
  {
   "cell_type": "markdown",
   "id": "404c583e",
   "metadata": {},
   "source": [
    "# Заметки общие:\n",
    "\n",
    "ОДУ - \"Обыкновенные Дифференциальные Уравнения\"\n",
    "\n",
    "Символ dP_0/dt в математике обычно обозначает производную функции P_0(t) по времени.\n",
    "\n",
    "В контексте дифференциальных уравнений, это означает скорость, с которой переменная P_0 изменяется по мере изменения времени. Таким образом, выражение dP_0/dt = -0.5*p_0+0.4*p_2 описывает, как P_0 изменяется во времени в зависимости от текущих значений p_0 и p_2.\n",
    "\n",
    "В Python, мы обычно моделируем это, записывая функцию, которая принимает текущее время t и текущие значения переменных p_0, p_1, ..., p_10 и возвращает значения dP_0/dt, dP_1/dt, ..., dP_10/dt."
   ]
  },
  {
   "cell_type": "markdown",
   "id": "ab3d5873",
   "metadata": {},
   "source": [
    "# Заметки 2\n",
    "После решения системы дифференциальных уравнений методом odeint, вы получите двумерный массив solution, где каждая строка соответствует временной точке из заданного интервала времени t, а каждый столбец соответствует одной из переменных P_i.\n",
    "\n",
    "То есть, если вы хотите получить решение для P_0 в первый момент времени, вы должны обратиться к solution[0, 0]. Если вы хотите получить решение для P_1 во второй момент времени, вы должны обратиться к solution[1, 1]. И так далее.\n",
    "\n",
    "В этом контексте, \"решение\" означает численное представление того, как P_i изменяется с течением времени, основанное на системе дифференциальных уравнений и начальных условиях. Таким образом, вы можете использовать solution для исследования поведения системы во времени или для построения графиков изменения P_i."
   ]
  },
  {
   "cell_type": "code",
   "execution_count": 7,
   "id": "4b210f70",
   "metadata": {},
   "outputs": [
    {
     "name": "stdout",
     "output_type": "stream",
     "text": [
      "1.0\n",
      "0.004963368207351651\n",
      "0.024001898585371096\n",
      "0.9950075214574027\n",
      "0.0\n",
      "0.0\n",
      "0.0011394297418593068\n"
     ]
    }
   ],
   "source": [
    "print(solution[0, 0])\n",
    "print(solution[1, 1]) # и т.д.\n",
    "print(solution[5, 1])\n",
    "print(solution[1, 0])\n",
    "print(solution[0, 1])\n",
    "print(solution[0, 3])\n",
    "print(solution[10, 3])"
   ]
  }
 ],
 "metadata": {
  "kernelspec": {
   "display_name": "Python 3 (ipykernel)",
   "language": "python",
   "name": "python3"
  },
  "language_info": {
   "codemirror_mode": {
    "name": "ipython",
    "version": 3
   },
   "file_extension": ".py",
   "mimetype": "text/x-python",
   "name": "python",
   "nbconvert_exporter": "python",
   "pygments_lexer": "ipython3",
   "version": "3.10.9"
  }
 },
 "nbformat": 4,
 "nbformat_minor": 5
}
