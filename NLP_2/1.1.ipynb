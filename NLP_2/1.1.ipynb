{
 "cells": [
  {
   "cell_type": "markdown",
   "id": "d4a7cd3e",
   "metadata": {},
   "source": [
    "# Импорт библиотек"
   ]
  },
  {
   "cell_type": "code",
   "execution_count": 1,
   "id": "3badf238",
   "metadata": {},
   "outputs": [],
   "source": [
    "# !pip install keras-tuner"
   ]
  },
  {
   "cell_type": "code",
   "execution_count": 1,
   "id": "00882b02",
   "metadata": {},
   "outputs": [
    {
     "name": "stdout",
     "output_type": "stream",
     "text": [
      "Using TensorFlow backend\n"
     ]
    },
    {
     "name": "stderr",
     "output_type": "stream",
     "text": [
      "C:\\Users\\NeKonn\\AppData\\Local\\Temp\\ipykernel_13148\\3288496659.py:37: DeprecationWarning: `import kerastuner` is deprecated, please use `import keras_tuner`.\n",
      "  from kerastuner.tuners import Hyperband\n"
     ]
    }
   ],
   "source": [
    "import pandas as pd\n",
    "import numpy as np\n",
    "import re\n",
    "import string\n",
    "import os\n",
    "\n",
    "import matplotlib.pyplot as plt\n",
    "import seaborn as sns\n",
    "\n",
    "import tensorflow as tf\n",
    "from tensorflow.keras.preprocessing.text import Tokenizer\n",
    "from tensorflow.keras.preprocessing.sequence import pad_sequences\n",
    "from tensorflow.keras.callbacks import EarlyStopping\n",
    "\n",
    "from tensorflow.keras.layers import Embedding\n",
    "from tensorflow.keras.layers import Bidirectional\n",
    "from tensorflow.keras.layers import LSTM\n",
    "from tensorflow.keras.layers import Dropout\n",
    "from tensorflow.keras.layers import Dense\n",
    "from tensorflow.keras import regularizers\n",
    "\n",
    "from tensorflow.keras.models import Sequential\n",
    "from tensorflow.keras import regularizers\n",
    "from tensorflow.keras.callbacks import LearningRateScheduler\n",
    "\n",
    "from tensorflow.keras.callbacks import ModelCheckpoint\n",
    "from tensorflow.keras.models import load_model\n",
    "\n",
    "from tensorflow.keras.layers import BatchNormalization\n",
    "from tensorflow.keras.layers import LeakyReLU\n",
    "\n",
    "from sklearn.preprocessing import LabelEncoder\n",
    "from sklearn.model_selection import train_test_split\n",
    "from sklearn.metrics import confusion_matrix\n",
    "from sklearn.metrics import classification_report\n",
    "\n",
    "from kerastuner.tuners import Hyperband\n",
    "from kerastuner import HyperParameters\n",
    "from tensorflow.keras.utils import to_categorical\n",
    "\n",
    "from transformers import BertTokenizer\n",
    "from transformers import BertForSequenceClassification\n",
    "from transformers import Trainer\n",
    "from transformers import TrainingArguments\n",
    "\n",
    "import torch\n",
    "from torch.utils.data import Dataset\n",
    "\n",
    "from torch.utils.data import DataLoader\n",
    "from transformers import AdamW\n",
    "\n",
    "from torch.optim.lr_scheduler import ExponentialLR\n",
    "from tqdm import tqdm\n",
    "\n",
    "from transformers import BertTokenizerFast\n",
    "from transformers import TFBertModel\n",
    "from transformers import TFRobertaModel\n",
    "from transformers import RobertaTokenizerFast\n",
    "from transformers import RobertaTokenizer\n",
    "from transformers import RobertaForSequenceClassification\n",
    "\n",
    "from transformers import DebertaTokenizer\n",
    "from transformers import DebertaForSequenceClassification\n",
    "\n",
    "from gensim.models import Word2Vec\n",
    "from nltk.corpus import stopwords\n",
    "from nltk.tokenize import word_tokenize\n",
    "import tensorflow.python.keras.engine"
   ]
  },
  {
   "cell_type": "code",
   "execution_count": 2,
   "id": "2ab407e4",
   "metadata": {},
   "outputs": [
    {
     "name": "stderr",
     "output_type": "stream",
     "text": [
      "[nltk_data] Downloading package stopwords to\n",
      "[nltk_data]     C:\\Users\\NeKonn\\AppData\\Roaming\\nltk_data...\n",
      "[nltk_data]   Package stopwords is already up-to-date!\n"
     ]
    },
    {
     "data": {
      "text/plain": [
       "True"
      ]
     },
     "execution_count": 2,
     "metadata": {},
     "output_type": "execute_result"
    }
   ],
   "source": [
    "import nltk\n",
    "nltk.download('stopwords')"
   ]
  },
  {
   "cell_type": "markdown",
   "id": "054e546a",
   "metadata": {},
   "source": [
    "# Загрузка данных"
   ]
  },
  {
   "cell_type": "code",
   "execution_count": 3,
   "id": "32ae906f",
   "metadata": {},
   "outputs": [],
   "source": [
    "train_data = pd.read_csv('train.csv')\n",
    "test_data = pd.read_csv('test.csv')\n",
    "submission_data = pd.read_csv('sample_submission.csv')"
   ]
  },
  {
   "cell_type": "markdown",
   "id": "76e59338",
   "metadata": {},
   "source": [
    "# Анализ данных"
   ]
  },
  {
   "cell_type": "code",
   "execution_count": 4,
   "id": "ee624e0d",
   "metadata": {},
   "outputs": [
    {
     "data": {
      "text/html": [
       "<div>\n",
       "<style scoped>\n",
       "    .dataframe tbody tr th:only-of-type {\n",
       "        vertical-align: middle;\n",
       "    }\n",
       "\n",
       "    .dataframe tbody tr th {\n",
       "        vertical-align: top;\n",
       "    }\n",
       "\n",
       "    .dataframe thead th {\n",
       "        text-align: right;\n",
       "    }\n",
       "</style>\n",
       "<table border=\"1\" class=\"dataframe\">\n",
       "  <thead>\n",
       "    <tr style=\"text-align: right;\">\n",
       "      <th></th>\n",
       "      <th>Unnamed: 0</th>\n",
       "      <th>Text</th>\n",
       "      <th>Sentiment</th>\n",
       "    </tr>\n",
       "  </thead>\n",
       "  <tbody>\n",
       "    <tr>\n",
       "      <th>0</th>\n",
       "      <td>0</td>\n",
       "      <td>@MeNyrbie @Phil_Gahan @Chrisitv https://t.co/i...</td>\n",
       "      <td>Neutral</td>\n",
       "    </tr>\n",
       "    <tr>\n",
       "      <th>1</th>\n",
       "      <td>1</td>\n",
       "      <td>advice Talk to your neighbours family to excha...</td>\n",
       "      <td>Positive</td>\n",
       "    </tr>\n",
       "    <tr>\n",
       "      <th>2</th>\n",
       "      <td>2</td>\n",
       "      <td>Coronavirus Australia: Woolworths to give elde...</td>\n",
       "      <td>Positive</td>\n",
       "    </tr>\n",
       "    <tr>\n",
       "      <th>3</th>\n",
       "      <td>3</td>\n",
       "      <td>My food stock is not the only one which is emp...</td>\n",
       "      <td>Positive</td>\n",
       "    </tr>\n",
       "    <tr>\n",
       "      <th>4</th>\n",
       "      <td>4</td>\n",
       "      <td>Me, ready to go at supermarket during the #COV...</td>\n",
       "      <td>Extremely Negative</td>\n",
       "    </tr>\n",
       "  </tbody>\n",
       "</table>\n",
       "</div>"
      ],
      "text/plain": [
       "  Unnamed: 0                                               Text  \\\n",
       "0          0  @MeNyrbie @Phil_Gahan @Chrisitv https://t.co/i...   \n",
       "1          1  advice Talk to your neighbours family to excha...   \n",
       "2          2  Coronavirus Australia: Woolworths to give elde...   \n",
       "3          3  My food stock is not the only one which is emp...   \n",
       "4          4  Me, ready to go at supermarket during the #COV...   \n",
       "\n",
       "            Sentiment  \n",
       "0             Neutral  \n",
       "1            Positive  \n",
       "2            Positive  \n",
       "3            Positive  \n",
       "4  Extremely Negative  "
      ]
     },
     "execution_count": 4,
     "metadata": {},
     "output_type": "execute_result"
    }
   ],
   "source": [
    "train_data.head()"
   ]
  },
  {
   "cell_type": "code",
   "execution_count": 5,
   "id": "296bb6ab",
   "metadata": {},
   "outputs": [
    {
     "data": {
      "text/html": [
       "<div>\n",
       "<style scoped>\n",
       "    .dataframe tbody tr th:only-of-type {\n",
       "        vertical-align: middle;\n",
       "    }\n",
       "\n",
       "    .dataframe tbody tr th {\n",
       "        vertical-align: top;\n",
       "    }\n",
       "\n",
       "    .dataframe thead th {\n",
       "        text-align: right;\n",
       "    }\n",
       "</style>\n",
       "<table border=\"1\" class=\"dataframe\">\n",
       "  <thead>\n",
       "    <tr style=\"text-align: right;\">\n",
       "      <th></th>\n",
       "      <th>id</th>\n",
       "      <th>Text</th>\n",
       "    </tr>\n",
       "  </thead>\n",
       "  <tbody>\n",
       "    <tr>\n",
       "      <th>0</th>\n",
       "      <td>787bc85b-20d4-46d8-84a0-562a2527f684</td>\n",
       "      <td>TRENDING: New Yorkers encounter empty supermar...</td>\n",
       "    </tr>\n",
       "    <tr>\n",
       "      <th>1</th>\n",
       "      <td>17e934cd-ba94-4d4f-9ac0-ead202abe241</td>\n",
       "      <td>When I couldn't find hand sanitizer at Fred Me...</td>\n",
       "    </tr>\n",
       "    <tr>\n",
       "      <th>2</th>\n",
       "      <td>5914534b-2b0f-4de8-bb8a-e25587697e0d</td>\n",
       "      <td>Find out how you can protect yourself and love...</td>\n",
       "    </tr>\n",
       "    <tr>\n",
       "      <th>3</th>\n",
       "      <td>cdf06cfe-29ae-48ee-ac6d-be448103ba45</td>\n",
       "      <td>#Panic buying hits #NewYork City as anxious sh...</td>\n",
       "    </tr>\n",
       "    <tr>\n",
       "      <th>4</th>\n",
       "      <td>aff63979-0256-4fb9-a2d9-86a3d3ca5470</td>\n",
       "      <td>#toiletpaper #dunnypaper #coronavirus #coronav...</td>\n",
       "    </tr>\n",
       "  </tbody>\n",
       "</table>\n",
       "</div>"
      ],
      "text/plain": [
       "                                     id  \\\n",
       "0  787bc85b-20d4-46d8-84a0-562a2527f684   \n",
       "1  17e934cd-ba94-4d4f-9ac0-ead202abe241   \n",
       "2  5914534b-2b0f-4de8-bb8a-e25587697e0d   \n",
       "3  cdf06cfe-29ae-48ee-ac6d-be448103ba45   \n",
       "4  aff63979-0256-4fb9-a2d9-86a3d3ca5470   \n",
       "\n",
       "                                                Text  \n",
       "0  TRENDING: New Yorkers encounter empty supermar...  \n",
       "1  When I couldn't find hand sanitizer at Fred Me...  \n",
       "2  Find out how you can protect yourself and love...  \n",
       "3  #Panic buying hits #NewYork City as anxious sh...  \n",
       "4  #toiletpaper #dunnypaper #coronavirus #coronav...  "
      ]
     },
     "execution_count": 5,
     "metadata": {},
     "output_type": "execute_result"
    }
   ],
   "source": [
    "test_data.head()"
   ]
  },
  {
   "cell_type": "code",
   "execution_count": 6,
   "id": "f01184c6",
   "metadata": {},
   "outputs": [
    {
     "data": {
      "text/html": [
       "<div>\n",
       "<style scoped>\n",
       "    .dataframe tbody tr th:only-of-type {\n",
       "        vertical-align: middle;\n",
       "    }\n",
       "\n",
       "    .dataframe tbody tr th {\n",
       "        vertical-align: top;\n",
       "    }\n",
       "\n",
       "    .dataframe thead th {\n",
       "        text-align: right;\n",
       "    }\n",
       "</style>\n",
       "<table border=\"1\" class=\"dataframe\">\n",
       "  <thead>\n",
       "    <tr style=\"text-align: right;\">\n",
       "      <th></th>\n",
       "      <th>id</th>\n",
       "      <th>Sentiment</th>\n",
       "    </tr>\n",
       "  </thead>\n",
       "  <tbody>\n",
       "    <tr>\n",
       "      <th>0</th>\n",
       "      <td>787bc85b-20d4-46d8-84a0-562a2527f684</td>\n",
       "      <td>Neutral</td>\n",
       "    </tr>\n",
       "    <tr>\n",
       "      <th>1</th>\n",
       "      <td>17e934cd-ba94-4d4f-9ac0-ead202abe241</td>\n",
       "      <td>Neutral</td>\n",
       "    </tr>\n",
       "    <tr>\n",
       "      <th>2</th>\n",
       "      <td>5914534b-2b0f-4de8-bb8a-e25587697e0d</td>\n",
       "      <td>Neutral</td>\n",
       "    </tr>\n",
       "    <tr>\n",
       "      <th>3</th>\n",
       "      <td>cdf06cfe-29ae-48ee-ac6d-be448103ba45</td>\n",
       "      <td>Neutral</td>\n",
       "    </tr>\n",
       "    <tr>\n",
       "      <th>4</th>\n",
       "      <td>aff63979-0256-4fb9-a2d9-86a3d3ca5470</td>\n",
       "      <td>Neutral</td>\n",
       "    </tr>\n",
       "  </tbody>\n",
       "</table>\n",
       "</div>"
      ],
      "text/plain": [
       "                                     id Sentiment\n",
       "0  787bc85b-20d4-46d8-84a0-562a2527f684   Neutral\n",
       "1  17e934cd-ba94-4d4f-9ac0-ead202abe241   Neutral\n",
       "2  5914534b-2b0f-4de8-bb8a-e25587697e0d   Neutral\n",
       "3  cdf06cfe-29ae-48ee-ac6d-be448103ba45   Neutral\n",
       "4  aff63979-0256-4fb9-a2d9-86a3d3ca5470   Neutral"
      ]
     },
     "execution_count": 6,
     "metadata": {},
     "output_type": "execute_result"
    }
   ],
   "source": [
    "submission_data.head()"
   ]
  },
  {
   "cell_type": "code",
   "execution_count": 7,
   "id": "ee3c0a6e",
   "metadata": {},
   "outputs": [
    {
     "data": {
      "text/plain": [
       "Sentiment\n",
       "Positive              11422\n",
       "Negative               9917\n",
       "Neutral                7711\n",
       "Extremely Positive     6624\n",
       "Extremely Negative     5481\n",
       "Name: count, dtype: int64"
      ]
     },
     "execution_count": 7,
     "metadata": {},
     "output_type": "execute_result"
    }
   ],
   "source": [
    "# Проверка распределения столбца 'Sentiment' в тренировочном датасете\n",
    "sentiment_distribution = train_data['Sentiment'].value_counts()\n",
    "sentiment_distribution"
   ]
  },
  {
   "cell_type": "code",
   "execution_count": 8,
   "id": "f3d599c7",
   "metadata": {},
   "outputs": [
    {
     "data": {
      "text/plain": [
       "(1, 0)"
      ]
     },
     "execution_count": 8,
     "metadata": {},
     "output_type": "execute_result"
    }
   ],
   "source": [
    "# Проверим наличие пропущенных значений в колонке \"Text\" обучающего и тестового набора данных\n",
    "missing_train = train_data[\"Text\"].isnull().sum()\n",
    "missing_test = test_data[\"Text\"].isnull().sum()\n",
    "\n",
    "missing_train, missing_test"
   ]
  },
  {
   "cell_type": "code",
   "execution_count": 9,
   "id": "46d0fc18",
   "metadata": {},
   "outputs": [],
   "source": [
    "# Удаление строк с пропущенными значениями\n",
    "train_data = train_data.dropna(subset=[\"Text\"])"
   ]
  },
  {
   "cell_type": "markdown",
   "id": "8b1edfce",
   "metadata": {},
   "source": [
    "# Предобработка данных"
   ]
  },
  {
   "cell_type": "code",
   "execution_count": 10,
   "id": "023fe7a4",
   "metadata": {},
   "outputs": [
    {
     "data": {
      "text/html": [
       "<div>\n",
       "<style scoped>\n",
       "    .dataframe tbody tr th:only-of-type {\n",
       "        vertical-align: middle;\n",
       "    }\n",
       "\n",
       "    .dataframe tbody tr th {\n",
       "        vertical-align: top;\n",
       "    }\n",
       "\n",
       "    .dataframe thead th {\n",
       "        text-align: right;\n",
       "    }\n",
       "</style>\n",
       "<table border=\"1\" class=\"dataframe\">\n",
       "  <thead>\n",
       "    <tr style=\"text-align: right;\">\n",
       "      <th></th>\n",
       "      <th>Text</th>\n",
       "      <th>Processed_Text</th>\n",
       "    </tr>\n",
       "  </thead>\n",
       "  <tbody>\n",
       "    <tr>\n",
       "      <th>0</th>\n",
       "      <td>@MeNyrbie @Phil_Gahan @Chrisitv https://t.co/i...</td>\n",
       "      <td>and and</td>\n",
       "    </tr>\n",
       "    <tr>\n",
       "      <th>1</th>\n",
       "      <td>advice Talk to your neighbours family to excha...</td>\n",
       "      <td>advice talk to your neighbours family to excha...</td>\n",
       "    </tr>\n",
       "    <tr>\n",
       "      <th>2</th>\n",
       "      <td>Coronavirus Australia: Woolworths to give elde...</td>\n",
       "      <td>coronavirus australia woolworths to give elder...</td>\n",
       "    </tr>\n",
       "    <tr>\n",
       "      <th>3</th>\n",
       "      <td>My food stock is not the only one which is emp...</td>\n",
       "      <td>my food stock is not the only one which is emp...</td>\n",
       "    </tr>\n",
       "    <tr>\n",
       "      <th>4</th>\n",
       "      <td>Me, ready to go at supermarket during the #COV...</td>\n",
       "      <td>me ready to go at supermarket during the covid...</td>\n",
       "    </tr>\n",
       "  </tbody>\n",
       "</table>\n",
       "</div>"
      ],
      "text/plain": [
       "                                                Text  \\\n",
       "0  @MeNyrbie @Phil_Gahan @Chrisitv https://t.co/i...   \n",
       "1  advice Talk to your neighbours family to excha...   \n",
       "2  Coronavirus Australia: Woolworths to give elde...   \n",
       "3  My food stock is not the only one which is emp...   \n",
       "4  Me, ready to go at supermarket during the #COV...   \n",
       "\n",
       "                                      Processed_Text  \n",
       "0                                           and and   \n",
       "1  advice talk to your neighbours family to excha...  \n",
       "2  coronavirus australia woolworths to give elder...  \n",
       "3  my food stock is not the only one which is emp...  \n",
       "4  me ready to go at supermarket during the covid...  "
      ]
     },
     "execution_count": 10,
     "metadata": {},
     "output_type": "execute_result"
    }
   ],
   "source": [
    "def preprocess_text(text):\n",
    "    # Преобразование в нижний регистр\n",
    "    text = text.lower()\n",
    "\n",
    "    # Удаление эмодзи\n",
    "    text = re.sub(r':\\)|;\\)|:-\\)|\\(-:|:-D|=D|:P|:p|:-p|:-b|:-O|:-/|:-\\*|:D|:o|:\\(|:-\\(|:\\'\\(|:S|:-S|:\\$|:@|8o\\||8-\\||\\+o\\(|<:-P|:-\\||\\^-^|\\^-~|^_\\^|,_,|o\\.o|:@\\]|:\\^\\)|:-c|:c|:-<|:\\||:-\\[|:-\\*\\*|:x|:-x|\\>=\\(|D:', '', text)\n",
    "    text = re.sub(r'http\\S+|www\\S+|https\\S+', '', text, flags=re.MULTILINE)  # Удаление URL\n",
    "    text = re.sub(r'(?:\\@|https?\\://)\\S+', '', text)  # Удаление ссылок и некоторых упоминаний\n",
    "\n",
    "    # Удаление не-UTF символов\n",
    "    text = re.sub(r'[^\\x00-\\x7f]', '', text)\n",
    "\n",
    "    # Удаление знаков препинания и чисел\n",
    "    text = re.sub(r'\\W', ' ', text)\n",
    "    text = re.sub(r'\\s+[a-zA-Z]\\s+', ' ', text)\n",
    "    text = re.sub(r'\\^[a-zA-Z]\\s+', ' ', text)\n",
    "    text = re.sub(r'\\s+', ' ', text, flags=re.I)\n",
    "\n",
    "    # Удаление хэштегов и символов\n",
    "    waste_list = string.punctuation + 'Ã' + '±' + 'ã' + '¼' + 'â' + '»' + '§'\n",
    "    table = str.maketrans(\"\", \"\", waste_list)\n",
    "    text = text.translate(table)\n",
    "\n",
    "    return text\n",
    "\n",
    "# Предобработка текстовых данных\n",
    "train_data[\"Processed_Text\"] = train_data[\"Text\"].apply(preprocess_text)\n",
    "test_data[\"Processed_Text\"] = test_data[\"Text\"].apply(preprocess_text)\n",
    "\n",
    "train_data[[\"Text\", \"Processed_Text\"]].head()"
   ]
  },
  {
   "cell_type": "code",
   "execution_count": 11,
   "id": "b84ecd1c",
   "metadata": {},
   "outputs": [
    {
     "data": {
      "text/html": [
       "<div>\n",
       "<style scoped>\n",
       "    .dataframe tbody tr th:only-of-type {\n",
       "        vertical-align: middle;\n",
       "    }\n",
       "\n",
       "    .dataframe tbody tr th {\n",
       "        vertical-align: top;\n",
       "    }\n",
       "\n",
       "    .dataframe thead th {\n",
       "        text-align: right;\n",
       "    }\n",
       "</style>\n",
       "<table border=\"1\" class=\"dataframe\">\n",
       "  <thead>\n",
       "    <tr style=\"text-align: right;\">\n",
       "      <th></th>\n",
       "      <th>Columns</th>\n",
       "      <th>Missing Values Count</th>\n",
       "      <th>Missing Percentage (%)</th>\n",
       "    </tr>\n",
       "  </thead>\n",
       "  <tbody>\n",
       "    <tr>\n",
       "      <th>2</th>\n",
       "      <td>Sentiment</td>\n",
       "      <td>3</td>\n",
       "      <td>0.007289</td>\n",
       "    </tr>\n",
       "    <tr>\n",
       "      <th>0</th>\n",
       "      <td>Unnamed: 0</td>\n",
       "      <td>1</td>\n",
       "      <td>0.002430</td>\n",
       "    </tr>\n",
       "    <tr>\n",
       "      <th>1</th>\n",
       "      <td>Text</td>\n",
       "      <td>0</td>\n",
       "      <td>0.000000</td>\n",
       "    </tr>\n",
       "    <tr>\n",
       "      <th>3</th>\n",
       "      <td>Processed_Text</td>\n",
       "      <td>0</td>\n",
       "      <td>0.000000</td>\n",
       "    </tr>\n",
       "  </tbody>\n",
       "</table>\n",
       "</div>"
      ],
      "text/plain": [
       "          Columns  Missing Values Count  Missing Percentage (%)\n",
       "2       Sentiment                     3                0.007289\n",
       "0      Unnamed: 0                     1                0.002430\n",
       "1            Text                     0                0.000000\n",
       "3  Processed_Text                     0                0.000000"
      ]
     },
     "execution_count": 11,
     "metadata": {},
     "output_type": "execute_result"
    }
   ],
   "source": [
    "# Функция для просмотра пропусков в данных\n",
    "def check_missing_values(df):\n",
    "    \"\"\"\n",
    "    Проверяет пропущенные значения в DataFrame и возвращает DataFrame с результатами.\n",
    "    \n",
    "    :param df: DataFrame для проверки\n",
    "    :return: DataFrame с информацией о пропущенных значениях\n",
    "    \"\"\"\n",
    "    # Вычисление количества пропущенных значений\n",
    "    missing_values = df.isnull().sum()\n",
    "\n",
    "    # Вычисление процента пропущенных значений\n",
    "    missing_percentage = (missing_values / len(df)) * 100\n",
    "    \n",
    "    # Сборка нового DataFrame с информацией о пропущенных значениях\n",
    "    missing_df = pd.DataFrame({\n",
    "        'Columns': missing_values.index,\n",
    "        'Missing Values Count': missing_values,\n",
    "        'Missing Percentage (%)': missing_percentage\n",
    "    }).reset_index(drop=True)\n",
    "    \n",
    "    # Возвращение результата\n",
    "    return missing_df.sort_values(by='Missing Percentage (%)', ascending=False)\n",
    "    \n",
    "missing_data = check_missing_values(train_data)\n",
    "missing_data"
   ]
  },
  {
   "cell_type": "code",
   "execution_count": 12,
   "id": "f920b3ff",
   "metadata": {},
   "outputs": [],
   "source": [
    "# Удаляем пропущенные значения\n",
    "train_data.dropna(inplace=True)"
   ]
  },
  {
   "cell_type": "code",
   "execution_count": 13,
   "id": "18d4f1d2",
   "metadata": {},
   "outputs": [
    {
     "data": {
      "image/png": "[encoded data removed]",
      "text/plain": [
       "<Figure size 1400x500 with 2 Axes>"
      ]
     },
     "metadata": {},
     "output_type": "display_data"
    }
   ],
   "source": [
    "# Подсчет количества слов в каждом твите\n",
    "train_data['text_len'] = train_data['Text'].apply(lambda x: len(x.split()))\n",
    "test_data['text_len'] = test_data['Text'].apply(lambda x: len(x.split()))\n",
    "\n",
    "# Построение графиков для твитов с менее чем 10 словами\n",
    "def plot_text_length(train_data, test_data):\n",
    "    plt.figure(figsize=(14,5))\n",
    "    \n",
    "    # Первый подграфик для обучающих данных\n",
    "    plt.subplot(1, 2, 1)  # (rows, columns, panel number)\n",
    "    ax1 = sns.countplot(x='text_len', data=train_data[train_data['text_len'] < 10], palette='mako')\n",
    "    plt.title('Training tweets with less than 10 words')\n",
    "    plt.yticks([])\n",
    "    ax1.bar_label(ax1.containers[0])\n",
    "    plt.ylabel('count')\n",
    "    plt.xlabel('')\n",
    "    \n",
    "    # Второй подграфик для тестовых данных\n",
    "    plt.subplot(1, 2, 2)\n",
    "    ax2 = sns.countplot(x='text_len', data=test_data[test_data['text_len'] < 10], palette='mako')\n",
    "    plt.title('Testing tweets with less than 10 words')\n",
    "    plt.yticks([])\n",
    "    ax2.bar_label(ax2.containers[0])\n",
    "    plt.ylabel('count')\n",
    "    plt.xlabel('')\n",
    "    \n",
    "    plt.show()\n",
    "\n",
    "# Используем функцию для построения графиков для обучающих и тестовых данных\n",
    "plot_text_length(train_data, test_data)"
   ]
  },
  {
   "cell_type": "markdown",
   "id": "3017bb31",
   "metadata": {},
   "source": [
    "После проведения очистки некоторые твиты оказались без слов, что означает, что в них были только хэштеги, ссылки и так далее. Поэтому мы их удаляем, и для целей моделирования мы оставляем только те твиты, в которых больше 4 слов."
   ]
  },
  {
   "cell_type": "code",
   "execution_count": 14,
   "id": "b39448fb",
   "metadata": {},
   "outputs": [],
   "source": [
    "train_data = train_data[train_data['text_len'] > 4]\n",
    "# test_data = test_data[test_data['text_len'] > 4]"
   ]
  },
  {
   "cell_type": "code",
   "execution_count": 15,
   "id": "0de74b7f",
   "metadata": {},
   "outputs": [
    {
     "data": {
      "text/plain": [
       "((41050, 62), (3798, 62))"
      ]
     },
     "execution_count": 15,
     "metadata": {},
     "output_type": "execute_result"
    }
   ],
   "source": [
    "# Инициализация токенизатора\n",
    "tokenizer = Tokenizer(oov_token=\"<OOV>\")\n",
    "tokenizer.fit_on_texts(train_data[\"Processed_Text\"])\n",
    "\n",
    "# Преобразование текста в последовательности чисел\n",
    "train_sequences = tokenizer.texts_to_sequences(train_data[\"Processed_Text\"])\n",
    "test_sequences = tokenizer.texts_to_sequences(test_data[\"Processed_Text\"])\n",
    "\n",
    "# Определение максимальной длины последовательности\n",
    "max_length = max([len(seq) for seq in train_sequences])\n",
    "\n",
    "# Дополнение последовательностей до одной и той же длины\n",
    "train_padded = pad_sequences(train_sequences, maxlen=max_length, padding='post', truncating='post')\n",
    "test_padded = pad_sequences(test_sequences, maxlen=max_length, padding='post', truncating='post')\n",
    "\n",
    "train_padded.shape, test_padded.shape"
   ]
  },
  {
   "cell_type": "code",
   "execution_count": 16,
   "id": "bd53601c",
   "metadata": {},
   "outputs": [],
   "source": [
    "stop_words = set(stopwords.words('english'))\n",
    "# Удаление стоп-слов из токенизированных предложений\n",
    "train_sentences = [[word for word in sentence if word not in stop_words] for sentence in train_padded]\n",
    "test_sentences = [[word for word in sentence if word not in stop_words] for sentence in test_padded]"
   ]
  },
  {
   "cell_type": "code",
   "execution_count": 17,
   "id": "c67cf2a8",
   "metadata": {},
   "outputs": [],
   "source": [
    "# Создаем словарь для перекодировки\n",
    "sentiment_mapping = {\n",
    "    'Extremely Negative': 0,\n",
    "    'Negative': 1,\n",
    "    'Neutral': 2,\n",
    "    'Positive': 3,\n",
    "    'Extremely Positive': 4\n",
    "}\n",
    "\n",
    "# Применяем этот словарь к столбцу Sentiment в обоих датасетах\n",
    "train_data['Sentiment'] = train_data['Sentiment'].map(sentiment_mapping)"
   ]
  },
  {
   "cell_type": "code",
   "execution_count": 18,
   "id": "eb182212",
   "metadata": {},
   "outputs": [
    {
     "name": "stdout",
     "output_type": "stream",
     "text": [
      "Class 0: 5480\n",
      "Class 1: 9902\n",
      "Class 2: 7651\n",
      "Class 3: 11397\n",
      "Class 4: 6620\n"
     ]
    },
    {
     "data": {
      "image/png": "[encoded data removed]",
      "text/plain": [
       "<Figure size 640x480 with 1 Axes>"
      ]
     },
     "metadata": {},
     "output_type": "display_data"
    }
   ],
   "source": [
    "# Получаем уникальные классы и их количество\n",
    "unique, counts = np.unique(train_data['Sentiment'], return_counts=True)\n",
    "\n",
    "# Выведим распределение классов\n",
    "for label, count in zip(unique, counts):\n",
    "    print(f\"Class {label}: {count}\")\n",
    "\n",
    "# Визуализация распределения классов\n",
    "plt.bar(unique, counts, color='blue')\n",
    "plt.xlabel('Classes')\n",
    "plt.ylabel('Count')\n",
    "plt.title('Distribution of Classes')\n",
    "plt.xticks(unique, ['Extremely Negative', 'Negative', 'Neutral', 'Positive','Extremely Positive'])  # устанавливаем названия для оси X\n",
    "plt.show()"
   ]
  },
  {
   "cell_type": "markdown",
   "id": "a9fc4c68",
   "metadata": {},
   "source": [
    "Мы видим, что у нас есть дисбаланс классов, поэтому используем Oversampling для борьбы с этим."
   ]
  },
  {
   "cell_type": "markdown",
   "id": "db6715f4",
   "metadata": {},
   "source": [
    "**Комментарий:** можно было бы воспользоваться библиотекой from imblearn.over_sampling import RandomOverSampler, но у меня возникает несовместимость, при попытках устранить, выдается еще больше ошибок. Чтобы не терять время на решение этой проблемы, ниже представлена функция, которая работает аналогичным образом."
   ]
  },
  {
   "cell_type": "code",
   "execution_count": 20,
   "id": "f355dc74",
   "metadata": {},
   "outputs": [],
   "source": [
    "# # Количество образцов для каждого класса\n",
    "# class_counts = {\n",
    "#     0: 5480,\n",
    "#     1: 9902,\n",
    "#     2: 7651,\n",
    "#     3: 11397,\n",
    "#     4: 6620\n",
    "# }\n",
    "\n",
    "# # Вычисление общего количества образцов\n",
    "# total_samples = sum(class_counts.values())\n",
    "\n",
    "# # Вычисление весов для каждого класса\n",
    "# class_weights = {class_id: total_samples / count for class_id, count in class_counts.items()}\n",
    "# class_weights"
   ]
  },
  {
   "cell_type": "code",
   "execution_count": 19,
   "id": "dca7dc40",
   "metadata": {},
   "outputs": [
    {
     "data": {
      "text/plain": [
       "Sentiment\n",
       "0    11397\n",
       "1    11397\n",
       "2    11397\n",
       "3    11397\n",
       "4    11397\n",
       "Name: count, dtype: int64"
      ]
     },
     "execution_count": 19,
     "metadata": {},
     "output_type": "execute_result"
    }
   ],
   "source": [
    "def oversample_data(df, target_col):\n",
    "    # Определяем класс с максимальным количеством записей\n",
    "    max_size = df[target_col].value_counts().max()\n",
    "\n",
    "    # Создаем новый dataframe, который будет содержать наши перебалансированные данные\n",
    "    balanced_df = pd.DataFrame()\n",
    "\n",
    "    for class_name, group in df.groupby(target_col):\n",
    "        # Для каждого класса дублируем записи, пока их количество не станет равным max_size\n",
    "        balanced_group = group.sample(max_size, replace=True, random_state=42)\n",
    "        balanced_df = pd.concat([balanced_df, balanced_group], axis=0)\n",
    "\n",
    "    return balanced_df\n",
    "\n",
    "train_data = oversample_data(train_data, 'Sentiment')\n",
    "train_data['Sentiment'].value_counts()"
   ]
  },
  {
   "cell_type": "code",
   "execution_count": 20,
   "id": "e84f9e40",
   "metadata": {},
   "outputs": [],
   "source": [
    "# Пересоздаем train_sequences и train_padded после oversampling\n",
    "train_sequences = tokenizer.texts_to_sequences(train_data[\"Processed_Text\"])\n",
    "train_padded = pad_sequences(train_sequences, maxlen=max_length, padding='post', truncating='post')"
   ]
  },
  {
   "cell_type": "markdown",
   "id": "d362c6e7",
   "metadata": {},
   "source": [
    "# Построение RNN"
   ]
  },
  {
   "cell_type": "code",
   "execution_count": 23,
   "id": "ad689041",
   "metadata": {
    "scrolled": true
   },
   "outputs": [],
   "source": [
    "# Разделение данных\n",
    "x_train_valid = train_padded\n",
    "y_train_valid = train_data['Sentiment'].values\n",
    "\n",
    "x_train, x_valid, y_train, y_valid = train_test_split(x_train_valid, y_train_valid, \n",
    "                                                    train_size=0.75, \n",
    "                                                    random_state=33)"
   ]
  },
  {
   "cell_type": "code",
   "execution_count": 24,
   "id": "32d9a986",
   "metadata": {},
   "outputs": [],
   "source": [
    "# Уже определена максимальная длина последовательности\n",
    "vocab_length = len(tokenizer.word_index) + 1\n",
    "\n",
    "# Создание модели\n",
    "embedding_dim = 16\n",
    "model = tf.keras.Sequential([\n",
    "    tf.keras.layers.Embedding(vocab_length, embedding_dim, input_length=max_length),\n",
    "    tf.keras.layers.Bidirectional(tf.keras.layers.GRU(256, return_sequences=True)),\n",
    "    tf.keras.layers.GlobalAveragePooling1D(),\n",
    "    tf.keras.layers.Dense(64, activation='relu'),\n",
    "    tf.keras.layers.Dropout(0.4),\n",
    "    tf.keras.layers.Dense(5, activation='softmax')\n",
    "])\n",
    "model.compile(loss='categorical_crossentropy', optimizer=\"adam\", metrics=['accuracy'])\n",
    "\n",
    "# Конвертировать метки в категориальные\n",
    "y_train = to_categorical(y_train, 5)\n",
    "y_valid = to_categorical(y_valid, 5)"
   ]
  },
  {
   "cell_type": "code",
   "execution_count": 25,
   "id": "96616b93",
   "metadata": {},
   "outputs": [
    {
     "name": "stdout",
     "output_type": "stream",
     "text": [
      "Epoch 1/5\n",
      "1336/1336 [==============================] - ETA: 0s - loss: 1.2627 - accuracy: 0.4607\n",
      "Epoch 1: saving model to training_1\\cp.ckpt\n",
      "1336/1336 [==============================] - 131s 96ms/step - loss: 1.2627 - accuracy: 0.4607 - val_loss: 0.9160 - val_accuracy: 0.6589\n",
      "Epoch 2/5\n",
      "1336/1336 [==============================] - ETA: 0s - loss: 0.7093 - accuracy: 0.7442\n",
      "Epoch 2: saving model to training_1\\cp.ckpt\n",
      "1336/1336 [==============================] - 169s 126ms/step - loss: 0.7093 - accuracy: 0.7442 - val_loss: 0.5849 - val_accuracy: 0.7916\n",
      "Epoch 3/5\n",
      "1336/1336 [==============================] - ETA: 0s - loss: 0.4034 - accuracy: 0.8644\n",
      "Epoch 3: saving model to training_1\\cp.ckpt\n",
      "1336/1336 [==============================] - 172s 129ms/step - loss: 0.4034 - accuracy: 0.8644 - val_loss: 0.4232 - val_accuracy: 0.8550\n",
      "Epoch 4/5\n",
      "1336/1336 [==============================] - ETA: 0s - loss: 0.2600 - accuracy: 0.9152\n",
      "Epoch 4: saving model to training_1\\cp.ckpt\n",
      "1336/1336 [==============================] - 173s 130ms/step - loss: 0.2600 - accuracy: 0.9152 - val_loss: 0.4089 - val_accuracy: 0.8732\n",
      "Epoch 5/5\n",
      "1336/1336 [==============================] - ETA: 0s - loss: 0.1785 - accuracy: 0.9440\n",
      "Epoch 5: saving model to training_1\\cp.ckpt\n",
      "1336/1336 [==============================] - 176s 132ms/step - loss: 0.1785 - accuracy: 0.9440 - val_loss: 0.3911 - val_accuracy: 0.8855\n"
     ]
    }
   ],
   "source": [
    "# Checkpoint для сохранения весов модели\n",
    "checkpoint_path = \"training_1/cp.ckpt\"\n",
    "checkpoint_dir = os.path.dirname(checkpoint_path)\n",
    "\n",
    "cp_callback = tf.keras.callbacks.ModelCheckpoint(filepath=checkpoint_path,\n",
    "                                                 save_weights_only=True,\n",
    "                                                 verbose=1)\n",
    "\n",
    "# Обучение модели\n",
    "num_epochs = 5\n",
    "history = model.fit(x_train, y_train, epochs=num_epochs, validation_data=(x_valid, y_valid), callbacks=[cp_callback])\n",
    "\n",
    "# Визуализация результатов\n",
    "acc = history.history['accuracy']\n",
    "val_acc = history.history['val_accuracy']\n",
    "loss = history.history['loss']\n",
    "val_loss = history.history['val_loss']"
   ]
  },
  {
   "cell_type": "code",
   "execution_count": 26,
   "id": "ce8fef4a",
   "metadata": {},
   "outputs": [
    {
     "name": "stdout",
     "output_type": "stream",
     "text": [
      "Accuracy on training data is: 94.39609050750732 %\n",
      "Loss 17.848120629787445\n",
      "Accuracy on validation data is: 88.55197429656982 %\n",
      "Loss 39.11217153072357\n"
     ]
    }
   ],
   "source": [
    "print(f\"Accuracy on training data is: {acc[-1]*100} %\")\n",
    "print(f\"Loss {loss[-1]*100}\")\n",
    "print(f\"Accuracy on validation data is: {val_acc[-1]*100} %\")\n",
    "print(f\"Loss {val_loss[-1]*100}\")"
   ]
  },
  {
   "cell_type": "code",
   "execution_count": 27,
   "id": "009aa554",
   "metadata": {},
   "outputs": [
    {
     "data": {
      "image/png": "[encoded data removed]",
      "text/plain": [
       "<Figure size 1200x400 with 2 Axes>"
      ]
     },
     "metadata": {},
     "output_type": "display_data"
    }
   ],
   "source": [
    "def plot_training_history(history):\n",
    "    \"\"\"\n",
    "    Визуализация истории обучения модели.\n",
    "    \n",
    "    Параметры:\n",
    "    - history: объект истории, возвращенный функцией model.fit().\n",
    "    \"\"\"\n",
    "    plt.figure(figsize=(12, 4))\n",
    "    epochs = range(len(history.history['accuracy']))\n",
    "\n",
    "    # График точности\n",
    "    plt.subplot(1, 2, 1)\n",
    "    plt.plot(epochs, history.history['accuracy'], color='dodgerblue', label='Training Accuracy')\n",
    "    plt.plot(epochs, history.history['val_accuracy'], color='orange', label='Validation Accuracy')\n",
    "    plt.legend()\n",
    "    plt.title('Accuracy Evolution')\n",
    "    plt.savefig('accuracy.png')\n",
    "\n",
    "    # График потерь\n",
    "    plt.subplot(1, 2, 2)\n",
    "    plt.plot(epochs, history.history['loss'], color='dodgerblue', label='Training Loss')\n",
    "    plt.plot(epochs, history.history['val_loss'], color='orange', label='Validation Loss')\n",
    "    plt.legend()\n",
    "    plt.title('Loss Evolution')\n",
    "    plt.savefig('loss.png')\n",
    "\n",
    "    plt.tight_layout()\n",
    "    plt.show()\n",
    "    \n",
    "plot_training_history(history)"
   ]
  },
  {
   "cell_type": "code",
   "execution_count": 28,
   "id": "b5146f97",
   "metadata": {},
   "outputs": [
    {
     "name": "stdout",
     "output_type": "stream",
     "text": [
      "446/446 [==============================] - 9s 18ms/step\n",
      "              precision    recall  f1-score   support\n",
      "\n",
      "           0       0.91      0.96      0.93      2787\n",
      "           1       0.80      0.86      0.83      2841\n",
      "           2       0.95      0.83      0.89      2887\n",
      "           3       0.84      0.84      0.84      2849\n",
      "           4       0.93      0.94      0.93      2883\n",
      "\n",
      "    accuracy                           0.89     14247\n",
      "   macro avg       0.89      0.89      0.89     14247\n",
      "weighted avg       0.89      0.89      0.89     14247\n",
      "\n"
     ]
    }
   ],
   "source": [
    "# Оценка модели на валидационных данных\n",
    "pred = model.predict(x_valid)\n",
    "confusion_matrix(np.argmax(y_valid, 1), np.argmax(pred, 1))\n",
    "print(classification_report(np.argmax(y_valid, 1), np.argmax(pred, 1)))"
   ]
  },
  {
   "cell_type": "code",
   "execution_count": 29,
   "id": "3babbeaa",
   "metadata": {},
   "outputs": [
    {
     "name": "stdout",
     "output_type": "stream",
     "text": [
      "119/119 [==============================] - 2s 18ms/step\n"
     ]
    }
   ],
   "source": [
    "# Создаем словарь для обратного отображения\n",
    "reverse_mapping = {v: k for k, v in sentiment_mapping.items()}\n",
    "\n",
    "# Предсказание на тестовых данных\n",
    "test_predictions = model.predict(test_padded)\n",
    "test_predictions = test_predictions.argmax(axis=1)\n",
    "\n",
    "# Обратное преобразование предсказанных меток в текстовые значения с использованием reverse_mapping\n",
    "predicted_labels = [reverse_mapping[label] for label in test_predictions]\n",
    "\n",
    "# Создание DataFrame для сохранения предсказаний\n",
    "submission_data = pd.DataFrame({\n",
    "    'id': test_data['id'],  # использование столбца 'id' из тестовых данных\n",
    "    'Sentiment': predicted_labels\n",
    "})\n",
    "\n",
    "# Сохранение предсказаний в CSV файл\n",
    "submission_data.to_csv('predictions.csv', index=False)"
   ]
  },
  {
   "cell_type": "markdown",
   "id": "bb1b8e29",
   "metadata": {},
   "source": [
    "- Модель показывает хороший прогресс в процессе обучения. Точность на обучающем наборе данных увеличивается от 51% в начале до 94% к концу обучения, что говорит о том, что модель хорошо обучается и становится более уверенной в своих предсказаниях.\n",
    "\n",
    "- Нет явных признаков переобучения. Это можно утверждать, так как точность на валидационном наборе также увеличивается (с 75% до 88%), и потери на валидации не начинают расти. В идеальном случае, потери на валидационном наборе должны уменьшаться вместе с потерями на обучающем наборе.\n",
    "\n",
    "- Учитывая текущие результаты, можно рассмотреть возможность дальнейшего обучения модели на большем количестве эпох, так как точность продолжает расти. Однако следует следить за потерями и точностью на валидационной выборке, чтобы избежать переобучения.\n",
    "\n",
    "- Точность на валидационном наборе данных составляет 88% после 5 эпох, что является весьма хорошим результатом."
   ]
  },
  {
   "cell_type": "markdown",
   "id": "0e91afbb",
   "metadata": {},
   "source": [
    "### Подбор гипперпараметров"
   ]
  },
  {
   "cell_type": "markdown",
   "id": "4d879212",
   "metadata": {},
   "source": [
    "Для подбора гиперпараметров мы можем использовать GridSearchCV из sklearn или Hyperband из keras-tuner. Мы будем использовать Hyperband."
   ]
  },
  {
   "cell_type": "code",
   "execution_count": 30,
   "id": "ddc373d6",
   "metadata": {},
   "outputs": [
    {
     "name": "stdout",
     "output_type": "stream",
     "text": [
      "Reloading Tuner from hyperband\\text_classification\\tuner0.json\n"
     ]
    }
   ],
   "source": [
    "def build_model(hp):\n",
    "    vocab_length = len(tokenizer.word_index) + 1\n",
    "\n",
    "    model = tf.keras.Sequential([\n",
    "        tf.keras.layers.Embedding(vocab_length, \n",
    "                                  hp.Int('embedding_dim', 8, 64, 4, default=16), \n",
    "                                  input_length=max_length),\n",
    "        tf.keras.layers.Bidirectional(tf.keras.layers.GRU(\n",
    "            hp.Int('gru_units', 128, 512, 64, default=256), return_sequences=True)),\n",
    "        tf.keras.layers.GlobalAveragePooling1D(),\n",
    "        tf.keras.layers.Dense(\n",
    "            hp.Int('dense_units', 32, 128, 16, default=64), activation='relu'),\n",
    "        tf.keras.layers.Dropout(\n",
    "            hp.Float('dropout', 0, 0.5, 0.1, default=0.4)),\n",
    "        tf.keras.layers.Dense(5, activation='softmax')\n",
    "    ])\n",
    "    \n",
    "    model.compile(optimizer=tf.keras.optimizers.Adam(\n",
    "                      hp.Choice('learning_rate', [1e-3, 5e-4, 1e-4], default=1e-3)),\n",
    "                  loss='categorical_crossentropy',\n",
    "                  metrics=['accuracy'])\n",
    "    \n",
    "    return model\n",
    "\n",
    "# Определение объекта tuner\n",
    "tuner = Hyperband(\n",
    "    build_model,\n",
    "    objective='val_accuracy',\n",
    "    max_epochs=5,\n",
    "    directory='hyperband',\n",
    "    project_name='text_classification'\n",
    ")\n",
    "\n",
    "# Выполнение поиска\n",
    "tuner.search(x_train, y_train, epochs=5, validation_data=(x_valid, y_valid))"
   ]
  },
  {
   "cell_type": "code",
   "execution_count": 31,
   "id": "80cbb748",
   "metadata": {},
   "outputs": [
    {
     "name": "stdout",
     "output_type": "stream",
     "text": [
      "\n",
      "Лучший размер вложения: 32\n",
      "Лучшее количество блоков в LSTM: 64  # замена на lstm_units\n",
      "Лучший размер плотного слоя: 48\n",
      "Лучший dropout: 0.0\n",
      "Лучший learning rate: 0.005682201189419717\n",
      "\n"
     ]
    }
   ],
   "source": [
    "# Получение лучших гиперпараметров\n",
    "best_hps = tuner.get_best_hyperparameters(num_trials=1)[0]\n",
    "\n",
    "# Вывод лучших гиперпараметров\n",
    "print(f\"\"\"\n",
    "Лучший размер вложения: {best_hps.get('embedding_dim')}\n",
    "Лучшее количество блоков в LSTM: {best_hps.get('lstm_units')}  # замена на lstm_units\n",
    "Лучший размер плотного слоя: {best_hps.get('dense_units')}\n",
    "Лучший dropout: {best_hps.get('dropout')}\n",
    "Лучший learning rate: {best_hps.get('learning_rate')}\n",
    "\"\"\")"
   ]
  },
  {
   "cell_type": "code",
   "execution_count": 32,
   "id": "c174c1ae",
   "metadata": {},
   "outputs": [],
   "source": [
    "def build_model_with_params(hp=None):\n",
    "    if hp is None:\n",
    "        hp = {\n",
    "            'embedding_dim': 16,\n",
    "            'gru_units': 256,\n",
    "            'dense_units': 64,\n",
    "            'dropout': 0.4,\n",
    "            'learning_rate': 1e-3\n",
    "        }\n",
    "\n",
    "    vocab_length = len(tokenizer.word_index) + 1\n",
    "\n",
    "    model = tf.keras.Sequential([\n",
    "        tf.keras.layers.Embedding(vocab_length, \n",
    "                                  hp['embedding_dim'] if isinstance(hp, dict) else hp.Int('embedding_dim', 8, 64, 4),\n",
    "                                  input_length=max_length),\n",
    "        tf.keras.layers.Bidirectional(tf.keras.layers.GRU(\n",
    "            hp['gru_units'] if isinstance(hp, dict) else hp.Int('gru_units', 128, 512, 64),\n",
    "            return_sequences=True)),\n",
    "        tf.keras.layers.GlobalAveragePooling1D(),\n",
    "        tf.keras.layers.Dense(\n",
    "            hp['dense_units'] if isinstance(hp, dict) else hp.Int('dense_units', 32, 128, 16),\n",
    "            activation='relu'),\n",
    "        tf.keras.layers.Dropout(\n",
    "            hp['dropout'] if isinstance(hp, dict) else hp.Float('dropout', 0, 0.5, 0.1)),\n",
    "        tf.keras.layers.Dense(5, activation='softmax')\n",
    "    ])\n",
    "    \n",
    "    model.compile(optimizer=tf.keras.optimizers.Adam(\n",
    "                      hp['learning_rate'] if isinstance(hp, dict) else hp.Choice('learning_rate', [1e-3, 5e-4, 1e-4])),\n",
    "                  loss='categorical_crossentropy',\n",
    "                  metrics=['accuracy'])\n",
    "    \n",
    "    return model"
   ]
  },
  {
   "cell_type": "code",
   "execution_count": 33,
   "id": "14549fe2",
   "metadata": {},
   "outputs": [],
   "source": [
    "fixed_model = build_model_with_params()"
   ]
  },
  {
   "cell_type": "code",
   "execution_count": 34,
   "id": "d7ca8217",
   "metadata": {},
   "outputs": [
    {
     "name": "stdout",
     "output_type": "stream",
     "text": [
      "Reloading Tuner from hyperband\\text_classification\\tuner0.json\n",
      "Epoch 1/10\n",
      "1336/1336 [==============================] - 145s 106ms/step - loss: 0.7607 - accuracy: 0.7007 - val_loss: 0.4793 - val_accuracy: 0.8271 - lr: 0.0057\n",
      "Epoch 2/10\n",
      "1336/1336 [==============================] - 142s 106ms/step - loss: 0.3641 - accuracy: 0.8704 - val_loss: 0.4169 - val_accuracy: 0.8586 - lr: 0.0057\n",
      "Epoch 3/10\n",
      "1336/1336 [==============================] - 143s 107ms/step - loss: 0.2448 - accuracy: 0.9137 - val_loss: 0.4151 - val_accuracy: 0.8657 - lr: 0.0057\n",
      "Epoch 4/10\n",
      "1336/1336 [==============================] - 148s 111ms/step - loss: 0.2243 - accuracy: 0.9217 - val_loss: 0.5180 - val_accuracy: 0.8353 - lr: 0.0057\n",
      "Epoch 5/10\n",
      "1336/1336 [==============================] - 185s 139ms/step - loss: 0.4897 - accuracy: 0.8136 - val_loss: 0.9975 - val_accuracy: 0.5842 - lr: 0.0057\n"
     ]
    }
   ],
   "source": [
    "tuner = Hyperband(\n",
    "    build_model,\n",
    "    objective='val_accuracy',\n",
    "    max_epochs=5,\n",
    "    directory='hyperband',\n",
    "    project_name='text_classification'\n",
    ")\n",
    "\n",
    "early_stop = tf.keras.callbacks.EarlyStopping(monitor='val_loss', patience=2, restore_best_weights=True)\n",
    "\n",
    "# Функция для расписания скорости обучения\n",
    "def lr_schedule(epoch, lr):\n",
    "    if epoch < 10:\n",
    "        return lr\n",
    "    else:\n",
    "        return lr * tf.math.exp(-0.1)\n",
    "\n",
    "lr_scheduler = tf.keras.callbacks.LearningRateScheduler(lr_schedule)\n",
    "\n",
    "# Выполнение поиска\n",
    "tuner.search(x_train, y_train, epochs=5, validation_data=(x_valid, y_valid), callbacks=[early_stop, lr_scheduler])\n",
    "\n",
    "# Получение лучших гиперпараметров\n",
    "best_hps = tuner.get_best_hyperparameters(num_trials=1)[0]\n",
    "\n",
    "# Построение модели с лучшими гиперпараметрами\n",
    "best_model = tuner.hypermodel.build(best_hps)\n",
    "\n",
    "# Обучение модели\n",
    "history = best_model.fit(x_train, y_train, epochs=10, validation_data=(x_valid, y_valid), callbacks=[early_stop, lr_scheduler])"
   ]
  },
  {
   "cell_type": "markdown",
   "id": "6b4eb4b1",
   "metadata": {},
   "source": [
    "По результатам обучения видно, что наша модель быстро достигает высокой точности на тренировочных данных (accuracy: 0.9171), но точность на валидационных данных (val_accuracy: 0.8624) ниже. Переобучение начинается с 4 эпохи и сразу же останавливается обучение."
   ]
  },
  {
   "cell_type": "markdown",
   "id": "7bf9b78e",
   "metadata": {},
   "source": [
    "### Выводы по RNN\n",
    "- Мы обучили рекурентную нейронную сеть и попытались улучшить результаты при помощи гипперпараметров. \n",
    "- Далее мы столкнулись с переобучением и в дальнейшем избавились от него при помощи методов:\n",
    "1. увеличения drop rate\n",
    "2. использования  learning rate schedule\n",
    "3. введения batch normalizaion\n",
    "\n",
    "В среднем наш accuracy на валидационной выборке достиг примерно 86%, что считается очень хорошим показателем в реальных условиях."
   ]
  },
  {
   "cell_type": "markdown",
   "id": "28ff006d",
   "metadata": {},
   "source": [
    "# Использование трансформеров"
   ]
  },
  {
   "cell_type": "code",
   "execution_count": 22,
   "id": "d768b11e",
   "metadata": {},
   "outputs": [],
   "source": [
    "from torch.utils.data import Dataset\n",
    "\n",
    "class TweetDataset(Dataset):\n",
    "    def __init__(self, encodings, labels=None):\n",
    "        self.encodings = encodings\n",
    "        self.labels = labels\n",
    "\n",
    "    def __getitem__(self, idx):\n",
    "        item = {key: torch.tensor(val[idx]) for key, val in self.encodings.items()}\n",
    "        if self.labels:\n",
    "            item['labels'] = torch.tensor(self.labels[idx])\n",
    "        return item\n",
    "\n",
    "    def __len__(self):\n",
    "        return len(self.encodings.input_ids)"
   ]
  },
  {
   "cell_type": "code",
   "execution_count": 23,
   "id": "8327e398",
   "metadata": {},
   "outputs": [
    {
     "data": {
      "application/vnd.jupyter.widget-view+json": {
       "model_id": "e84eb740719c47b5bbaf8fa79a9b362d",
       "version_major": 2,
       "version_minor": 0
      },
      "text/plain": [
       "Downloading (…)/main/tokenizer.json:   0%|          | 0.00/466k [00:00<?, ?B/s]"
      ]
     },
     "metadata": {},
     "output_type": "display_data"
    }
   ],
   "source": [
    "# Создание словаря для сопоставления меток с идентификаторами и наоборот\n",
    "labels = train_data['Sentiment'].unique().tolist()\n",
    "label_to_id = {label: i for i, label in enumerate(labels)}\n",
    "id_to_label = {i: label for label, i in label_to_id.items()}\n",
    "\n",
    "# Преобразование меток в идентификаторы\n",
    "train_labels = train_data['Sentiment'].map(label_to_id).tolist()\n",
    "\n",
    "# Разделение данных на обучающую и валидационную выборки\n",
    "train_data, val_data, train_labels, val_labels = train_test_split(\n",
    "    train_data, train_labels, test_size=0.1, random_state=42\n",
    ")\n",
    "\n",
    "# Токенизация после разделения\n",
    "tokenizer = BertTokenizer.from_pretrained('bert-base-uncased')\n",
    "train_encodings = tokenizer(train_data['Text'].tolist(), truncation=True, padding=True, max_length=256)\n",
    "val_encodings = tokenizer(val_data['Text'].tolist(), truncation=True, padding=True, max_length=256)\n",
    "test_encodings = tokenizer(test_data['Text'].tolist(), truncation=True, padding=True, max_length=256)\n",
    "\n",
    "# Преобразование меток для val_data\n",
    "val_labels = val_data['Sentiment'].map(label_to_id).tolist()\n",
    "\n",
    "# Подготовка DataLoader\n",
    "train_dataset = TweetDataset(train_encodings, train_labels)\n",
    "val_dataset = TweetDataset(val_encodings, val_labels)\n",
    "test_dataset = TweetDataset(test_encodings)\n",
    "\n",
    "train_loader = DataLoader(train_dataset, batch_size=16, shuffle=True)\n",
    "val_loader = DataLoader(val_dataset, batch_size=16, shuffle=False)\n",
    "test_loader = DataLoader(test_dataset, batch_size=16, shuffle=False)"
   ]
  },
  {
   "cell_type": "code",
   "execution_count": 37,
   "id": "0cf150e5",
   "metadata": {},
   "outputs": [],
   "source": [
    "class EarlyStopping:\n",
    "    \"\"\"Ранняя остановка для прекращения обучения, если потери не улучшаются после определенного числа эпох.\"\"\"\n",
    "    def __init__(self, patience=7, verbose=False, delta=0):\n",
    "        \"\"\"\n",
    "        Args:\n",
    "            patience (int): Как долго ждать после последнего времени улучшения. Default: 7.\n",
    "            verbose (bool): Если True, выводит сообщение для каждого улучшения. Default: False.\n",
    "            delta (float): Минимальное изменение для квалификации как улучшение. Default: 0.\n",
    "        \"\"\"\n",
    "        self.patience = patience\n",
    "        self.verbose = verbose\n",
    "        self.counter = 0\n",
    "        self.best_score = None\n",
    "        self.early_stop = False\n",
    "        self.val_loss_min = np.Inf\n",
    "        self.delta = delta\n",
    "\n",
    "    def __call__(self, val_loss, model):\n",
    "\n",
    "        score = -val_loss\n",
    "\n",
    "        if self.best_score is None:\n",
    "            self.best_score = score\n",
    "            self.save_checkpoint(val_loss, model)\n",
    "        elif score < self.best_score + self.delta:\n",
    "            self.counter += 1\n",
    "            print(f'EarlyStopping counter: {self.counter} out of {self.patience}')\n",
    "            if self.counter >= self.patience:\n",
    "                self.early_stop = True\n",
    "        else:\n",
    "            self.best_score = score\n",
    "            self.save_checkpoint(val_loss, model)\n",
    "            self.counter = 0\n",
    "\n",
    "    def save_checkpoint(self, val_loss, model):\n",
    "        '''Сохраняет модель, когда потери уменьшаются.'''\n",
    "        if self.verbose:\n",
    "            print(f'Validation loss decreased ({self.val_loss_min:.6f} --> {val_loss:.6f}).  Saving model ...')\n",
    "        torch.save(model.state_dict(), 'checkpoint.pt')\n",
    "        self.val_loss_min = val_loss"
   ]
  },
  {
   "cell_type": "markdown",
   "id": "4301eb0c",
   "metadata": {},
   "source": [
    "**Комментарий:** Конечно, подобную реализацию ранней остановки было бы продуктивней вынести в отдельный .py файл, как скрипт и потом использовать его в качестве кастомной библиотеки, вызвав в соответствующем разделе `Импорт библиотек`, но в рамках учебного предоставления материалов, делать этого мы не будем, поэтому просто опишем данный класс тут и будем им пользоваться далее. \n",
    "\n",
    "Также по заданию необходимо было использовать lr-scheduler, что и продемонстрированно нами при построении трансформера."
   ]
  },
  {
   "cell_type": "code",
   "execution_count": 27,
   "id": "321aff78",
   "metadata": {},
   "outputs": [
    {
     "name": "stdout",
     "output_type": "stream",
     "text": [
      "Using device: cuda\n"
     ]
    }
   ],
   "source": [
    "device = torch.device('cuda') if torch.cuda.is_available() else torch.device('cpu')\n",
    "print(\"Using device:\", device)"
   ]
  },
  {
   "cell_type": "code",
   "execution_count": 39,
   "id": "aee97a86",
   "metadata": {},
   "outputs": [
    {
     "name": "stderr",
     "output_type": "stream",
     "text": [
      "Some weights of BertForSequenceClassification were not initialized from the model checkpoint at bert-base-uncased and are newly initialized: ['classifier.weight', 'classifier.bias']\n",
      "You should probably TRAIN this model on a down-stream task to be able to use it for predictions and inference.\n"
     ]
    },
    {
     "name": "stdout",
     "output_type": "stream",
     "text": [
      "Using device: cuda\n"
     ]
    },
    {
     "name": "stderr",
     "output_type": "stream",
     "text": [
      "C:\\Users\\NeKonn\\anaconda3\\Lib\\site-packages\\transformers\\optimization.py:411: FutureWarning: This implementation of AdamW is deprecated and will be removed in a future version. Use the PyTorch implementation torch.optim.AdamW instead, or set `no_deprecation_warning=True` to disable this warning\n",
      "  warnings.warn(\n",
      "Training Epoch 1: 100%|██████████| 3206/3206 [08:05<00:00,  6.60it/s]\n"
     ]
    },
    {
     "name": "stdout",
     "output_type": "stream",
     "text": [
      "Validation Loss after Epoch 1: 0.4024\n"
     ]
    },
    {
     "name": "stderr",
     "output_type": "stream",
     "text": [
      "Training Epoch 2: 100%|██████████| 3206/3206 [08:04<00:00,  6.62it/s]\n"
     ]
    },
    {
     "name": "stdout",
     "output_type": "stream",
     "text": [
      "Validation Loss after Epoch 2: 0.3388\n"
     ]
    },
    {
     "name": "stderr",
     "output_type": "stream",
     "text": [
      "Training Epoch 3: 100%|██████████| 3206/3206 [08:04<00:00,  6.61it/s]\n"
     ]
    },
    {
     "name": "stdout",
     "output_type": "stream",
     "text": [
      "Validation Loss after Epoch 3: 0.3418\n"
     ]
    }
   ],
   "source": [
    "model = BertForSequenceClassification.from_pretrained('bert-base-uncased', num_labels=len(label_to_id))\n",
    "model.to(device)\n",
    "optimizer = AdamW(model.parameters(), lr=1e-5)\n",
    "\n",
    "# Планировщик скорости обучения\n",
    "scheduler = ExponentialLR(optimizer, gamma=0.1)\n",
    "\n",
    "for epoch in range(3):\n",
    "    model.train()\n",
    "    for batch in tqdm(train_loader, desc=f\"Training Epoch {epoch + 1}\"):\n",
    "        optimizer.zero_grad()\n",
    "        input_ids = batch['input_ids'].to(device)\n",
    "        attention_mask = batch['attention_mask'].to(device)\n",
    "        labels = batch['labels'].to(device)\n",
    "        outputs = model(input_ids, attention_mask=attention_mask, labels=labels)\n",
    "        loss = outputs.loss\n",
    "        loss.backward()\n",
    "        optimizer.step()\n",
    "\n",
    "    # Изменение скорости обучения\n",
    "    scheduler.step()\n",
    "\n",
    "    model.eval()\n",
    "    val_loss = 0\n",
    "    val_predictions = []\n",
    "    true_labels = []\n",
    "    for batch in val_loader:  # убедитесь, что у вас есть val_loader\n",
    "        input_ids = batch['input_ids'].to(device)\n",
    "        attention_mask = batch['attention_mask'].to(device)\n",
    "        labels = batch['labels'].to(device)\n",
    "        outputs = model(input_ids, attention_mask=attention_mask, labels=labels)\n",
    "        val_loss += outputs.loss.item()\n",
    "        val_predictions.extend(torch.argmax(outputs.logits, dim=1).cpu().numpy())\n",
    "        true_labels.extend(labels.cpu().numpy())\n",
    "\n",
    "    val_loss /= len(val_loader)\n",
    "\n",
    "    # Вывод потерь на валидации\n",
    "    print(f\"Validation Loss after Epoch {epoch + 1}: {val_loss:.4f}\")\n",
    "\n",
    "    # Сохранение чекпоинта после каждой эпохи\n",
    "    torch.save(model.state_dict(), f'checkpoint_epoch_{epoch+1}.pt')"
   ]
  },
  {
   "cell_type": "code",
   "execution_count": 55,
   "id": "a109210b",
   "metadata": {},
   "outputs": [
    {
     "name": "stdout",
     "output_type": "stream",
     "text": [
      "Training Accuracy: 0.9217\n",
      "Validation Accuracy: 0.8861\n"
     ]
    }
   ],
   "source": [
    "# Загрузка весов лучшей модели\n",
    "model.load_state_dict(torch.load('checkpoint_epoch_2.pt'))  # или любой другой чекпоинт\n",
    "\n",
    "# Вычисление точности на тренировочной выборке\n",
    "model.eval()\n",
    "correct_predictions = 0\n",
    "total_predictions = 0\n",
    "with torch.no_grad():\n",
    "    for batch in train_loader:\n",
    "        input_ids = batch['input_ids'].to(device)\n",
    "        attention_mask = batch['attention_mask'].to(device)\n",
    "        labels = batch['labels'].to(device)\n",
    "        outputs = model(input_ids, attention_mask=attention_mask)\n",
    "        predicted_labels = torch.argmax(outputs.logits, dim=1)\n",
    "        correct_predictions += (predicted_labels == labels).sum().item()\n",
    "        total_predictions += labels.size(0)\n",
    "\n",
    "train_accuracy = correct_predictions / total_predictions\n",
    "print(f\"Training Accuracy: {train_accuracy:.4f}\")\n",
    "\n",
    "# Вычисление точности на валидационной выборке\n",
    "correct_predictions = 0\n",
    "total_predictions = 0\n",
    "with torch.no_grad():\n",
    "    for batch in val_loader:\n",
    "        input_ids = batch['input_ids'].to(device)\n",
    "        attention_mask = batch['attention_mask'].to(device)\n",
    "        labels = batch['labels'].to(device)\n",
    "        outputs = model(input_ids, attention_mask=attention_mask)\n",
    "        predicted_labels = torch.argmax(outputs.logits, dim=1)\n",
    "        correct_predictions += (predicted_labels == labels).sum().item()\n",
    "        total_predictions += labels.size(0)\n",
    "\n",
    "val_accuracy = correct_predictions / total_predictions\n",
    "print(f\"Validation Accuracy: {val_accuracy:.4f}\")"
   ]
  },
  {
   "cell_type": "code",
   "execution_count": 56,
   "id": "9066613f",
   "metadata": {},
   "outputs": [],
   "source": [
    "test_encodings = tokenizer(test_data['Text'].tolist(), truncation=True, padding=True, max_length=256)\n",
    "\n",
    "# Подготовка DataLoader для тестовых данных\n",
    "test_dataset = TweetDataset(test_encodings)\n",
    "test_loader = DataLoader(test_dataset, batch_size=16, shuffle=False)\n",
    "\n",
    "# Загрузка весов лучшей модели\n",
    "model.load_state_dict(torch.load('checkpoint_epoch_3.pt'))\n",
    "\n",
    "# Получение предсказаний для тестовых данных\n",
    "model.eval()\n",
    "test_predictions = []\n",
    "with torch.no_grad():\n",
    "    for batch in test_loader:\n",
    "        input_ids = batch['input_ids'].to(device)\n",
    "        attention_mask = batch['attention_mask'].to(device)\n",
    "        outputs = model(input_ids, attention_mask=attention_mask)\n",
    "        test_predictions.extend(torch.argmax(outputs.logits, dim=1).cpu().numpy())"
   ]
  },
  {
   "cell_type": "code",
   "execution_count": null,
   "id": "564b50ee",
   "metadata": {},
   "outputs": [],
   "source": [
    "id_to_label = {\n",
    "    0: 'Extremely Negative',\n",
    "    1: 'Negative',\n",
    "    2: 'Neutral',\n",
    "    3: 'Positive',\n",
    "    4: 'Extremely Positive'\n",
    "}"
   ]
  },
  {
   "cell_type": "code",
   "execution_count": 58,
   "id": "d44f7aeb",
   "metadata": {},
   "outputs": [],
   "source": [
    "# Преобразование предсказанных идентификаторов обратно в метки\n",
    "predicted_labels = [id_to_label[pred] for pred in test_predictions]\n",
    "\n",
    "# Создание DataFrame для сохранения предсказаний\n",
    "submission_data_3 = pd.DataFrame({\n",
    "    'id': test_data['id'],  # использование столбца 'id' из тестовых данных\n",
    "    'Sentiment': predicted_labels\n",
    "})\n",
    "\n",
    "# Сохранение предсказаний в CSV файл\n",
    "submission_data_3.to_csv('predictions_3.csv', index=False)"
   ]
  },
  {
   "cell_type": "markdown",
   "id": "735699cc",
   "metadata": {},
   "source": [
    "# Пробуем модель Deberta"
   ]
  },
  {
   "cell_type": "code",
   "execution_count": null,
   "id": "9d16727f",
   "metadata": {},
   "outputs": [
    {
     "name": "stderr",
     "output_type": "stream",
     "text": [
      "Some weights of DebertaForSequenceClassification were not initialized from the model checkpoint at microsoft/deberta-base and are newly initialized: ['pooler.dense.bias', 'classifier.weight', 'pooler.dense.weight', 'classifier.bias']\n",
      "You should probably TRAIN this model on a down-stream task to be able to use it for predictions and inference.\n",
      "C:\\Users\\NeKonn\\anaconda3\\Lib\\site-packages\\transformers\\optimization.py:411: FutureWarning: This implementation of AdamW is deprecated and will be removed in a future version. Use the PyTorch implementation torch.optim.AdamW instead, or set `no_deprecation_warning=True` to disable this warning\n",
      "  warnings.warn(\n",
      "Training Epoch 1: 100%|██████████| 3206/3206 [08:30<00:00,  6.28it/s]\n"
     ]
    },
    {
     "name": "stdout",
     "output_type": "stream",
     "text": [
      "Validation Loss after Epoch 1: 0.4328\n"
     ]
    },
    {
     "name": "stderr",
     "output_type": "stream",
     "text": [
      "Training Epoch 2:  35%|███▍      | 1112/3206 [08:25<16:01,  2.18it/s]"
     ]
    }
   ],
   "source": [
    "from transformers import DebertaTokenizer, DebertaForSequenceClassification\n",
    "\n",
    "# Использование DeBERTa токенизатора\n",
    "tokenizer_deberta = DebertaTokenizer.from_pretrained('microsoft/deberta-base')\n",
    "train_encodings_deberta = tokenizer_deberta(train_data['Text'].tolist(), truncation=True, padding=True, max_length=256)\n",
    "test_encodings_deberta = tokenizer_deberta(test_data['Text'].tolist(), truncation=True, padding=True, max_length=256)\n",
    "val_encodings_deberta = tokenizer_deberta(val_data['Text'].tolist(), truncation=True, padding=True, max_length=256)\n",
    "\n",
    "# Подготовка DataLoader\n",
    "train_dataset_deberta = TweetDataset(train_encodings_deberta, train_labels)\n",
    "test_dataset_deberta = TweetDataset(test_encodings_deberta)\n",
    "val_dataset_deberta = TweetDataset(val_encodings_deberta, val_labels)\n",
    "\n",
    "train_loader_deberta = DataLoader(train_dataset_deberta, batch_size=16, shuffle=True)\n",
    "test_loader_deberta = DataLoader(test_dataset_deberta, batch_size=16, shuffle=False)\n",
    "val_loader_deberta = DataLoader(val_dataset_deberta, batch_size=16, shuffle=False)\n",
    "\n",
    "model_deberta = DebertaForSequenceClassification.from_pretrained('microsoft/deberta-base', num_labels=len(label_to_id))\n",
    "model_deberta.to(device)\n",
    "\n",
    "optimizer_deberta = AdamW(model_deberta.parameters(), lr=1e-5)\n",
    "scheduler_deberta = ExponentialLR(optimizer_deberta, gamma=0.1)\n",
    "\n",
    "for epoch in range(3):\n",
    "    model_deberta.train()\n",
    "    for batch in tqdm(train_loader_deberta, desc=f\"Training Epoch {epoch + 1}\"):\n",
    "        optimizer_deberta.zero_grad()\n",
    "        input_ids = batch['input_ids'].to(device)\n",
    "        attention_mask = batch['attention_mask'].to(device)\n",
    "        labels = batch['labels'].to(device)\n",
    "        outputs = model_deberta(input_ids, attention_mask=attention_mask, labels=labels)\n",
    "        loss = outputs.loss\n",
    "        loss.backward()\n",
    "        optimizer_deberta.step()\n",
    "\n",
    "    # Изменение скорости обучения\n",
    "    scheduler_deberta.step()\n",
    "\n",
    "    model_deberta.eval()\n",
    "    val_loss = 0\n",
    "    val_predictions = []\n",
    "    true_labels = []\n",
    "    for batch in val_loader_deberta:\n",
    "        input_ids = batch['input_ids'].to(device)\n",
    "        attention_mask = batch['attention_mask'].to(device)\n",
    "        labels = batch['labels'].to(device)\n",
    "        outputs = model_deberta(input_ids, attention_mask=attention_mask, labels=labels)\n",
    "        val_loss += outputs.loss.item()\n",
    "        val_predictions.extend(torch.argmax(outputs.logits, dim=1).cpu().numpy())\n",
    "        true_labels.extend(labels.cpu().numpy())\n",
    "\n",
    "    val_loss /= len(val_loader_deberta)\n",
    "\n",
    "    # Вывод потерь на валидации\n",
    "    print(f\"Validation Loss after Epoch {epoch + 1}: {val_loss:.4f}\")\n",
    "\n",
    "    # Сохранение чекпоинта после каждой эпохи\n",
    "    torch.save(model_deberta.state_dict(), f'deberta_checkpoint_epoch_{epoch+1}.pt')"
   ]
  },
  {
   "cell_type": "code",
   "execution_count": null,
   "id": "a421d859",
   "metadata": {},
   "outputs": [],
   "source": [
    "test_encodings_deberta = tokenizer_deberta(test_data['Text'].tolist(), truncation=True, padding=True, max_length=256)\n",
    "\n",
    "# Подготовка DataLoader для тестовых данных\n",
    "test_dataset_deberta = TweetDataset(test_encodings_deberta)\n",
    "test_loader_deberta = DataLoader(test_dataset_deberta, batch_size=16, shuffle=False)\n",
    "\n",
    "# Загрузка весов лучшей модели\n",
    "model_deberta.load_state_dict(torch.load('deberta_checkpoint_epoch_3.pt'))\n",
    "\n",
    "# Получение предсказаний для тестовых данных\n",
    "model_deberta.eval()\n",
    "test_predictions_deberta = []\n",
    "with torch.no_grad():\n",
    "    for batch in test_loader_deberta:\n",
    "        input_ids = batch['input_ids'].to(device)\n",
    "        attention_mask = batch['attention_mask'].to(device)\n",
    "        outputs = model_deberta(input_ids, attention_mask=attention_mask)\n",
    "        test_predictions_deberta.extend(torch.argmax(outputs.logits, dim=1).cpu().numpy())\n",
    "\n",
    "# Преобразование предсказанных идентификаторов обратно в метки\n",
    "predicted_labels_deberta = [id_to_label[pred] for pred in test_predictions_deberta]"
   ]
  },
  {
   "cell_type": "code",
   "execution_count": null,
   "id": "c48cf3f3",
   "metadata": {},
   "outputs": [],
   "source": [
    "# Создание DataFrame для сохранения предсказаний\n",
    "submission_data_4 = pd.DataFrame({\n",
    "    'id': test_data['id'],  # использование столбца 'id' из тестовых данных\n",
    "    'Sentiment': predicted_labels_deberta\n",
    "})\n",
    "\n",
    "# Сохранение предсказаний в CSV файл\n",
    "submission_data_4.to_csv('predictions_4.csv', index=False)"
   ]
  },
  {
   "cell_type": "markdown",
   "id": "0460ec37",
   "metadata": {},
   "source": [
    "# Пробуем модель Roberta"
   ]
  },
  {
   "cell_type": "code",
   "execution_count": null,
   "id": "f8827bd9",
   "metadata": {},
   "outputs": [],
   "source": [
    "# Использование RoBERTa токенизатора\n",
    "tokenizer_roberta = RobertaTokenizer.from_pretrained('roberta-base')\n",
    "train_encodings_roberta = tokenizer_roberta(train_data['Text'].tolist(), truncation=True, padding=True, max_length=256)\n",
    "test_encodings_roberta = tokenizer_roberta(test_data['Text'].tolist(), truncation=True, padding=True, max_length=256)\n",
    "val_encodings_roberta = tokenizer_roberta(val_data['Text'].tolist(), truncation=True, padding=True, max_length=256)\n",
    "\n",
    "# Подготовка DataLoader\n",
    "train_dataset_roberta = TweetDataset(train_encodings_roberta, train_labels)\n",
    "test_dataset_roberta = TweetDataset(test_encodings_roberta)\n",
    "val_dataset_roberta = TweetDataset(val_encodings_roberta, val_labels)\n",
    "\n",
    "train_loader_roberta = DataLoader(train_dataset_roberta, batch_size=16, shuffle=True)\n",
    "test_loader_roberta = DataLoader(test_dataset_roberta, batch_size=16, shuffle=False)\n",
    "val_loader_roberta = DataLoader(val_dataset_roberta, batch_size=16, shuffle=False)\n",
    "\n",
    "model_roberta = RobertaForSequenceClassification.from_pretrained('roberta-base', num_labels=len(label_to_id))\n",
    "model_roberta.to(device)\n",
    "\n",
    "optimizer_roberta = AdamW(model_roberta.parameters(), lr=1e-5)\n",
    "scheduler_roberta = ExponentialLR(optimizer_roberta, gamma=0.1)\n",
    "\n",
    "for epoch in range(3):\n",
    "    model_roberta.train()\n",
    "    for batch in tqdm(train_loader_roberta, desc=f\"Training Epoch {epoch + 1}\"):\n",
    "        optimizer_roberta.zero_grad()\n",
    "        input_ids = batch['input_ids'].to(device)\n",
    "        attention_mask = batch['attention_mask'].to(device)\n",
    "        labels = batch['labels'].to(device)\n",
    "        outputs = model_roberta(input_ids, attention_mask=attention_mask, labels=labels)\n",
    "        loss = outputs.loss\n",
    "        loss.backward()\n",
    "        optimizer_roberta.step()\n",
    "\n",
    "    # Изменение скорости обучения\n",
    "    scheduler_roberta.step()\n",
    "\n",
    "    model_roberta.eval()\n",
    "    val_loss = 0\n",
    "    val_predictions = []\n",
    "    true_labels = []\n",
    "    for batch in val_loader_roberta:\n",
    "        input_ids = batch['input_ids'].to(device)\n",
    "        attention_mask = batch['attention_mask'].to(device)\n",
    "        labels = batch['labels'].to(device)\n",
    "        outputs = model_roberta(input_ids, attention_mask=attention_mask, labels=labels)\n",
    "        val_loss += outputs.loss.item()\n",
    "        val_predictions.extend(torch.argmax(outputs.logits, dim=1).cpu().numpy())\n",
    "        true_labels.extend(labels.cpu().numpy())\n",
    "\n",
    "    val_loss /= len(val_loader_roberta)\n",
    "\n",
    "    # Вывод потерь на валидации\n",
    "    print(f\"Validation Loss after Epoch {epoch + 1}: {val_loss:.4f}\")\n",
    "\n",
    "    # Сохранение чекпоинта после каждой эпохи\n",
    "    torch.save(model_roberta.state_dict(), f'roberta_checkpoint_epoch_{epoch+1}.pt')"
   ]
  },
  {
   "cell_type": "code",
   "execution_count": null,
   "id": "142a59a6",
   "metadata": {},
   "outputs": [],
   "source": [
    "# Загрузка весов лучшей модели\n",
    "model_roberta.load_state_dict(torch.load('roberta_checkpoint_epoch_3.pt'))\n",
    "\n",
    "# Получение предсказаний для тестовых данных\n",
    "model_roberta.eval()\n",
    "test_predictions_roberta = []\n",
    "with torch.no_grad():\n",
    "    for batch in test_loader_roberta:\n",
    "        input_ids = batch['input_ids'].to(device)\n",
    "        attention_mask = batch['attention_mask'].to(device)\n",
    "        outputs = model_roberta(input_ids, attention_mask=attention_mask)\n",
    "        test_predictions_roberta.extend(torch.argmax(outputs.logits, dim=1).cpu().numpy())\n",
    "\n",
    "# Преобразование предсказанных идентификаторов обратно в метки\n",
    "predicted_labels_roberta = [id_to_label[pred] for pred in test_predictions_roberta]"
   ]
  },
  {
   "cell_type": "code",
   "execution_count": null,
   "id": "da55864b",
   "metadata": {},
   "outputs": [],
   "source": [
    "# Создание DataFrame для сохранения предсказаний\n",
    "submission_data_5 = pd.DataFrame({\n",
    "    'id': test_data['id'],  # использование столбца 'id' из тестовых данных\n",
    "    'Sentiment': predicted_labels_roberta\n",
    "})\n",
    "\n",
    "# Сохранение предсказаний в CSV файл\n",
    "submission_data_5.to_csv('predictions_5.csv', index=False)"
   ]
  },
  {
   "cell_type": "markdown",
   "id": "50c278f8",
   "metadata": {},
   "source": [
    "К сожалению, в связи с небольшим количеством GPU памяти на видеокарте, мне не хватило ресурсов, чтобы проверить оставшиеся модели, а ждать обучение по 3,5 часа на CPU банально не было времени. Для подобного просмотра нужны большие вычислительные мощности, которыми я не обладаю."
   ]
  },
  {
   "cell_type": "markdown",
   "id": "62a1a027",
   "metadata": {},
   "source": [
    "# Выводы: \n",
    "1. Была проведена предобработка данных, а также использован метод oversampling для балансировки таргета\n",
    "2. В ходе данного задания мы обучили нейронную сеть, по результатам которой получили 0.79 score на соревновании kaggle \n",
    "3. Также была обучена модель трансформера, на основе BERT, по результатам которой получили 0.81 score на соревновании kaggle"
   ]
  }
 ],
 "metadata": {
  "kernelspec": {
   "display_name": "Python 3 (ipykernel)",
   "language": "python",
   "name": "python3"
  },
  "language_info": {
   "codemirror_mode": {
    "name": "ipython",
    "version": 3
   },
   "file_extension": ".py",
   "mimetype": "text/x-python",
   "name": "python",
   "nbconvert_exporter": "python",
   "pygments_lexer": "ipython3",
   "version": "3.11.5"
  }
 },
 "nbformat": 4,
 "nbformat_minor": 5
}
