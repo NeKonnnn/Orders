{
 "cells": [
  {
   "cell_type": "markdown",
   "id": "a62df5c3",
   "metadata": {},
   "source": [
    "# Задание 1\n",
    "Построить график функции f(x)= (x+1) / 2x на отрезке [-3;3]. Изобразить оси координат. Нужно написать код на R"
   ]
  },
  {
   "cell_type": "code",
   "execution_count": 1,
   "id": "b533cdf5",
   "metadata": {},
   "outputs": [
    {
     "data": {
      "image/png": "[encoded data removed]",
      "text/plain": [
       "Plot with title \"График функции f(x) = (x + 1) / (2x)\""
      ]
     },
     "metadata": {},
     "output_type": "display_data"
    }
   ],
   "source": [
    "# Создание вектора x с шагом 0.01\n",
    "x <- seq(-3, 3, by = 0.01)\n",
    "\n",
    "# Вычисление значения функции для каждого значения x\n",
    "y <- (x + 1) / (2 * x)\n",
    "\n",
    "# Создание графика\n",
    "plot(x, y, type = \"l\", main = \"График функции f(x) = (x + 1) / (2x)\", xlab = \"X\", ylab = \"f(x)\")\n",
    "\n",
    "# Добавление осей координат\n",
    "abline(h = 0, v = 0, col = \"black\")"
   ]
  },
  {
   "cell_type": "markdown",
   "id": "e05f00e8",
   "metadata": {},
   "source": [
    "# Задание 2\n",
    "\n",
    "Решить систему линейных уравнений\n",
    "{\n",
    "\n",
    "5x_1+x_2+x_3=8\n",
    "\n",
    "-6x_1+x_2-x_3=3\n",
    "\n",
    "x_1-3x_2-2x_3=-7\n",
    "\n",
    "}\n",
    "в R двумя способами, иcпользуя функцию solve."
   ]
  },
  {
   "cell_type": "code",
   "execution_count": 2,
   "id": "70b8ea78",
   "metadata": {},
   "outputs": [
    {
     "name": "stdout",
     "output_type": "stream",
     "text": [
      "[1]  1.380952  6.190476 -5.095238\n"
     ]
    }
   ],
   "source": [
    "# Решение с solve\n",
    "A <- matrix(c(5, 1, 1, \n",
    "              -6, 1, -1, \n",
    "              1, -3, -2), nrow=3, ncol=3, byrow = TRUE)\n",
    "\n",
    "b <- c(8, 3, -7)\n",
    "\n",
    "x <- solve(A, b)\n",
    "print(x)"
   ]
  },
  {
   "cell_type": "code",
   "execution_count": 3,
   "id": "7a5721c7",
   "metadata": {},
   "outputs": [
    {
     "name": "stdout",
     "output_type": "stream",
     "text": [
      "[1]  1.380952  6.190476 -5.095238\n"
     ]
    }
   ],
   "source": [
    "# Решение методом Крамера\n",
    "det_A <- det(A)\n",
    "\n",
    "A1 <- A\n",
    "A1[,1] <- b\n",
    "\n",
    "A2 <- A\n",
    "A2[,2] <- b\n",
    "\n",
    "A3 <- A\n",
    "A3[,3] <- b\n",
    "\n",
    "x1 <- det(A1) / det_A\n",
    "x2 <- det(A2) / det_A\n",
    "x3 <- det(A3) / det_A\n",
    "\n",
    "x_kramer <- c(x1, x2, x3)\n",
    "print(x_kramer)"
   ]
  }
 ],
 "metadata": {
  "kernelspec": {
   "display_name": "R",
   "language": "R",
   "name": "ir"
  },
  "language_info": {
   "codemirror_mode": "r",
   "file_extension": ".r",
   "mimetype": "text/x-r-source",
   "name": "R",
   "pygments_lexer": "r",
   "version": "3.6.1"
  }
 },
 "nbformat": 4,
 "nbformat_minor": 5
}
