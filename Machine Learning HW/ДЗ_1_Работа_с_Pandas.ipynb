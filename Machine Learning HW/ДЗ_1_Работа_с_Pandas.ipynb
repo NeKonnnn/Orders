{
  "cells": [
    {
      "cell_type": "markdown",
      "metadata": {
        "id": "hTxsC7Pqpsvq"
      },
      "source": [
        "# Специализированные программные библиотеки для анализа данных."
      ]
    },
    {
      "cell_type": "markdown",
      "metadata": {
        "id": "hxQmEwrhAAJH"
      },
      "source": [
        "## Укажите ФИО и группу\n"
      ]
    },
    {
      "cell_type": "markdown",
      "metadata": {
        "id": "r_DzOGLdpsvr"
      },
      "source": [
        "### Импортируем необходимые модули "
      ]
    },
    {
      "cell_type": "code",
      "execution_count": null,
      "metadata": {
        "id": "JBI21yNYpsvr"
      },
      "outputs": [],
      "source": [
        "import numpy as np\n",
        "import pandas as pd\n",
        "import datetime"
      ]
    },
    {
      "cell_type": "markdown",
      "metadata": {
        "id": "s1q3ZjWgAJvR"
      },
      "source": [
        "### Ваш набор данных - сводка по эпидемиологической обстановке в России. В этом домашнем задании 6 пунктов, постарайтесь выполнить их все. Всего за эту домашку можно получить 8 баллов."
      ]
    },
    {
      "cell_type": "markdown",
      "metadata": {
        "id": "DS1yhUiTs3VH"
      },
      "source": [
        "### 1. Препроцессинг данных (2 балла)\n",
        "\n",
        "Подготовьте данные для анализа. Загрузите файлы COVID_RU_Ya_stat_2022.csv и COVID_RU_Ya_descr.csv, объедините эти две таблицы в одну. Преобразуйте тип данных в колонке \"Дата\" к типу \"datetime64\" и введите двойной индекс на основе колонок \"Регион\" и \"Дата\". Добавьте в вашу таблицу новые колонки. Отсортируйте таблицу по индексам. Выведите 5 первых строчек получившейся таблицы."
      ]
    },
    {
      "cell_type": "code",
      "execution_count": null,
      "metadata": {
        "id": "wr7uGPdNqgJV"
      },
      "outputs": [],
      "source": [
        "## прочитайте данные из файла 'COVID_RU_Ya_descr.csv'\n",
        "# ncov_ru_de = **YOUR CODE HERE**\n",
        "## прочитайте данные из файла 'COVID_RU_Ya_stat_2022.csv'\n",
        "# ncov_ru_stat = **YOUR CODE HERE**"
      ]
    },
    {
      "cell_type": "code",
      "execution_count": null,
      "metadata": {
        "id": "I2XerF2XqgF2"
      },
      "outputs": [],
      "source": [
        "## объедените таблицы ncov_ru_de и ncov_ru_stat -- необходимо использовать какой-то ключ для объединения \n",
        "## и что это за поле могло бы быть ключом?\n",
        "\n",
        "# ncov_ru_j = **YOUR CODE HERE**"
      ]
    },
    {
      "cell_type": "code",
      "execution_count": null,
      "metadata": {
        "colab": {
          "base_uri": "https://localhost:8080/"
        },
        "id": "12EU2OQUSt4K",
        "outputId": "5789c371-0177-47ef-f09c-5ecbd8cedad7"
      },
      "outputs": [
        {
          "data": {
            "text/plain": [
              "Index(['Дата', 'Регион', 'Заражений', 'Выздоровлений', 'Смертей',\n",
              "       'Смертей за день', 'Заражений за день', 'Выздоровлений за день',\n",
              "       'Летальность, %'],\n",
              "      dtype='object')"
            ]
          },
          "execution_count": 20,
          "metadata": {
            "tags": []
          },
          "output_type": "execute_result"
        }
      ],
      "source": [
        "## так можно посмотреть колонки:\n",
        "#  ncov_ru_de.columns\n",
        "#  ncov_ru_stat.columns\n",
        "## так можно посмотреть индексы:\n",
        "#  ncov_ru_de.index\n",
        "#  ncov_ru_stat.index\n",
        "\n",
        "## преобразуйте тип данных в колонке \"Дата\" к типу \"datetime64\" -- примеры в нашем занятии\n",
        "## задайте в вашей таблице индексацию по полям \"Регион\" и \"Дата\"\n",
        "\n"
      ]
    },
    {
      "cell_type": "code",
      "execution_count": null,
      "metadata": {
        "id": "39BXPF13siMg"
      },
      "outputs": [],
      "source": [
        "## Создайте в вашей таблице колонки:\n",
        "# \"Активных\" - число активных случаев = 'Заражений' - 'Выздоровлений' - 'Смертей'\n",
        "# \"Активных на 100К населения\"\n",
        "# \"Заражений на 100К населения\"\n",
        "# \"Смертей на 100К населения\"\n",
        "# \"Заражений за день на 100К населения\"\n",
        "# \"Смертей за день на 100К населения\""
      ]
    },
    {
      "cell_type": "markdown",
      "metadata": {
        "id": "S_6WnkRhs3VJ"
      },
      "source": [
        "### 2. Подсчёт численности населения (1 балл)\n",
        "\n",
        "Посчитайте численность населения в федеральных округах и в РФ."
      ]
    },
    {
      "cell_type": "code",
      "execution_count": null,
      "metadata": {
        "scrolled": true,
        "id": "1hgT0jAAs3VJ"
      },
      "outputs": [],
      "source": [
        "# **YOUR CODE HERE**\n"
      ]
    },
    {
      "cell_type": "markdown",
      "metadata": {
        "id": "Ppn4w5ens3VK"
      },
      "source": [
        "### 3. Летальность в регионах (2 балла)\n",
        "\n",
        "Cравните регионы по уровню летальности за 2020-06-11. Нужно представить ответ в 3 клетках:\n",
        "\n",
        "    1. Выведите 10 регионов с наибольшей летальностью\n",
        "    2. Выведите 10 регионов с наименьшей летальностью\n",
        "    3. Опишите летальность за 2020-06-11 через среднее, квантили, мин., макс. и т.д.\n",
        "\n",
        "Подсказка: вы можете отсортировать значения в таблице с помощью функции `sort_values()` (в ней также можно менять порядок сортировки), а извлечение конкретных значений (в вашем случае, определенной даты) в таблице с мультииндексацией производится с помощью метода `ncov_ru_j.xs(...)`"
      ]
    },
    {
      "cell_type": "code",
      "execution_count": null,
      "metadata": {
        "id": "Sfa1jJXFs3VK"
      },
      "outputs": [],
      "source": [
        "## сортировка значений производится с помощью метода ncov_ru_j.xs(<ваше творчество>)['Летальность, %'].sort_values(ascending = False)\n",
        "\n",
        "# **YOUR CODE HERE**"
      ]
    },
    {
      "cell_type": "code",
      "execution_count": null,
      "metadata": {
        "id": "zALLrI_ls3VK"
      },
      "outputs": [],
      "source": [
        "# **YOUR CODE HERE**"
      ]
    },
    {
      "cell_type": "code",
      "execution_count": null,
      "metadata": {
        "id": "2yWvq7QAs3VL"
      },
      "outputs": [],
      "source": [
        "# **YOUR CODE HERE**"
      ]
    },
    {
      "cell_type": "markdown",
      "metadata": {
        "id": "q2fiRB_ws3VL"
      },
      "source": [
        "### 4. Летальность в федеральных округах (2 балла)\n",
        "\n",
        "Рассчитайте летальность по федеральным округам по формуле: \"Смертей\" * 100 / \"Заражений\". Преобразуйте таблицу к следующему виду: округа (строки) х дата (столбцы). Оставьте только последние 14 дней и сохраните получившуюся таблицу в формате csv. Выведите, какой округ лидирует по уровню летальности, в отдельной клетке."
      ]
    },
    {
      "cell_type": "code",
      "execution_count": null,
      "metadata": {
        "id": "RUPd2qrys3VL"
      },
      "outputs": [],
      "source": [
        "# **YOUR CODE HERE**"
      ]
    },
    {
      "cell_type": "markdown",
      "metadata": {
        "id": "VC0O87h4s3VL"
      },
      "source": [
        "### 5. Статистика по активным случаям в федеральных округах (2 балла)\n",
        "\n",
        "Постройте сводную таблицу (с помощью pd.pivot_table) с данными о среднем, минимальном и максимальном количестве активных случаев на 100 тыс. человек за сентябрь 2022 г. по федеральным округам.\n",
        "\n",
        "Подсказка: вам придется прибегнуть к условной индексации по полю \"Дата\"  в формате datetime, сделать это можно через вызов dt: к примеру, `ncov_ru_j.reset_index()[\"Дата\"].dt.month == 9` проверяет соответствие месяца в дате сентябрю. Не забудьте также проверить нужный год."
      ]
    },
    {
      "cell_type": "code",
      "execution_count": null,
      "metadata": {
        "id": "3jkQzhy_s3VL"
      },
      "outputs": [],
      "source": [
        "# **YOUR CODE HERE**"
      ]
    },
    {
      "cell_type": "markdown",
      "metadata": {
        "id": "HIaYUTEas3VM"
      },
      "source": [
        "### 6. Наименьшая заболеваемость в регионах (1 балл)\n",
        "\n",
        "Выведите 10 регионов с наименьшей заболеваемостью на 2022-09-30 (по колонке \"Заражений на 100К населения\")."
      ]
    },
    {
      "cell_type": "code",
      "execution_count": null,
      "metadata": {
        "id": "fDe6fiWEs3VM"
      },
      "outputs": [],
      "source": [
        "# **YOUR CODE HERE**"
      ]
    },
    {
      "cell_type": "code",
      "execution_count": null,
      "metadata": {
        "id": "PyCkxRhqBFq9"
      },
      "outputs": [],
      "source": [
        "## Следующее ДЗ тоже будет по этим данным -- будем рисовать красивые графики"
      ]
    },
    {
      "cell_type": "code",
      "execution_count": null,
      "metadata": {
        "id": "CNrLsfKPUN2J"
      },
      "outputs": [],
      "source": [
        "## это -- для напоминания о том, как усреднять по заданному скользящему окну\n",
        "## и как получать простые графики\n",
        "## ncov_ru.loc[['Москва',]]['Активных'].unstack().T.rolling(7).mean().plot()"
      ]
    },
    {
      "cell_type": "markdown",
      "metadata": {
        "id": "VtHW18nUzUEI"
      },
      "source": [
        "Домашнее задание сдаем в виде ноутбука *.ipynb -- можно расшарить ноутбук в Colab'е.  \n",
        "Обязательно указываем ФИО  \n",
        "Вопросы категорически приветствуются."
      ]
    }
  ],
  "metadata": {
    "anaconda-cloud": {},
    "colab": {
      "provenance": []
    },
    "kernelspec": {
      "display_name": "Python 3",
      "language": "python",
      "name": "python3"
    },
    "language_info": {
      "codemirror_mode": {
        "name": "ipython",
        "version": 3
      },
      "file_extension": ".py",
      "mimetype": "text/x-python",
      "name": "python",
      "nbconvert_exporter": "python",
      "pygments_lexer": "ipython3",
      "version": "3.8.8"
    }
  },
  "nbformat": 4,
  "nbformat_minor": 0
}