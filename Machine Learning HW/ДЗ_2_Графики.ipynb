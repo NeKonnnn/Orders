{
  "cells": [
    {
      "cell_type": "markdown",
      "metadata": {
        "id": "hTxsC7Pqpsvq"
      },
      "source": [
        "## Специализированные программные библиотеки для анализа данных."
      ]
    },
    {
      "cell_type": "markdown",
      "metadata": {
        "id": "hxQmEwrhAAJH"
      },
      "source": [
        "### Укажите ФИО и группу\n"
      ]
    },
    {
      "cell_type": "code",
      "execution_count": null,
      "metadata": {
        "colab": {
          "base_uri": "https://localhost:8080/"
        },
        "id": "yMVkCV9hAX9t",
        "outputId": "add32992-e5e7-4d53-88eb-c70d5cff8fdf"
      },
      "outputs": [
        {
          "name": "stdout",
          "output_type": "stream",
          "text": [
            "Mounted at /content/drive\n"
          ]
        }
      ],
      "source": [
        "from google.colab import drive\n",
        "drive.mount('/content/drive')"
      ]
    },
    {
      "cell_type": "code",
      "execution_count": null,
      "metadata": {
        "id": "8jJH-2C7A92m"
      },
      "outputs": [],
      "source": [
        "import os"
      ]
    },
    {
      "cell_type": "code",
      "execution_count": null,
      "metadata": {
        "id": "qxmXhyHLAl9U"
      },
      "outputs": [],
      "source": [
        "os.chdir('/content/drive/My Drive/Classroom/Методы машинного обучения/DA_ML_20')"
      ]
    },
    {
      "cell_type": "markdown",
      "metadata": {
        "id": "r_DzOGLdpsvr"
      },
      "source": [
        "### Импортируем необходимые модули "
      ]
    },
    {
      "cell_type": "code",
      "execution_count": null,
      "metadata": {
        "id": "JBI21yNYpsvr"
      },
      "outputs": [],
      "source": [
        "import numpy as np\n",
        "import scipy, datetime\n",
        "import pandas as pd\n",
        "import matplotlib.pyplot as plt # библиотека для построения графиков\n",
        "import matplotlib.ticker as mticker\n",
        "import seaborn as sns # библиотека для построения графиков\n",
        "from sklearn.decomposition import PCA\n",
        "from sklearn.preprocessing import StandardScaler\n",
        "#sns.set()\n",
        "# с помощью этой строки мы можем включать в этот документ графики:\n",
        "%matplotlib inline "
      ]
    },
    {
      "cell_type": "markdown",
      "metadata": {
        "id": "9H5a-R7eyirf"
      },
      "source": [
        "### Ваши наборы данных - это разминочный датасет с ирисами и сводка по эпидемиологической обстановке в России с прошлого занятия. В этом домашнем задании 5 пунктов, постарайтесь выполнить их все. Всего за эту домашку можно получить 10 баллов."
      ]
    },
    {
      "cell_type": "markdown",
      "metadata": {
        "id": "RGc2_K2KwePv"
      },
      "source": [
        "### 1. Базовые знания о данных (2 балла)\n",
        "\n",
        "У вас есть датасет с данными об ирисах. Посмотрите на ваши данные (не забываем про _describe_ и _info_), выведите статистику для них. Изобразите на графике распределение значений параметров вашего набора."
      ]
    },
    {
      "cell_type": "code",
      "execution_count": null,
      "metadata": {
        "id": "39BXPF13siMg"
      },
      "outputs": [],
      "source": [
        "from sklearn.decomposition import PCA\n",
        "from sklearn.datasets import load_iris\n",
        "\n",
        "## Загрузите игрушечный набор -- ирисы\n",
        "iris = load_iris()\n",
        "X = iris.data\n",
        "y = iris.target\n",
        "## создадим датафрейм\n",
        "X = pd.DataFrame(iris.data.T, index = iris.feature_names).T"
      ]
    },
    {
      "cell_type": "code",
      "execution_count": null,
      "metadata": {
        "id": "l1MfVwwBwePw"
      },
      "outputs": [],
      "source": [
        "# YOUR CODE HERE"
      ]
    },
    {
      "cell_type": "markdown",
      "metadata": {
        "id": "icMvbQ8iyuCk"
      },
      "source": [
        "### 2. Визуализация результатов PCA (2 балла)\n",
        "\n",
        "Проведите PCA анализ для ваших данных.\n",
        "1. Постройте диаграмму рассеяния в координатах PC1, PC2. Цвет точек должен соответствовать целевой переменной y, где её значения - один из 3 видов ирисов. *(1 балл)*\n",
        "2. Постройте биплот, отражающий влияние исходных параметров на PC1 и PC2. *(1 балл)*"
      ]
    },
    {
      "cell_type": "code",
      "execution_count": null,
      "metadata": {
        "id": "2K1TdkAF_qHL"
      },
      "outputs": [],
      "source": [
        "# YOUR CODE HERE"
      ]
    },
    {
      "cell_type": "markdown",
      "metadata": {
        "id": "s1q3ZjWgAJvR"
      },
      "source": [
        "##### Набор данных -- уже не столь свежая сводка по эпидемиологической обстановке в России\n",
        "### 3. Аккумулирование информации по неделям (2 балла)\n",
        "\n",
        "Для выполнения этого задания вам придется вернуться к датасету ncov_ru_j, с которым вы работали в прошлом домашнем задании.\n",
        "\n",
        "Определите прирост числа заражений в процентах за неделю (как вы это сделаете - вопрос, _подсказка:_ суммируем число новых заражений за неделю, чтобы получить число новых случаев за неделю, а потом &mdash; рассчитываем прирост), если не получится &mdash; просто постройте график для среднего числа активных случаев на 100 тыс. населения со скользящим окном в 7 дней.\n",
        "Пример, как посчитать, был на предыдущих занятиях &mdash; ближе к концу в ноутбуке №2.\n",
        "График постройте для следующих регионов:\n",
        "\n",
        "`\n",
        "regs = ['Забайкальский край', 'Ингушетия', 'Магаданская обл.', 'Москва', 'Мурманская обл.', \n",
        "        'Новосибирская обл.', 'Омская обл.', 'Санкт-Петербург', 'Татарстан', 'Чечня']\n",
        "`\n",
        "\n",
        "Hа самом деле, смысла в выборе именно этих регионов нет &mdash; можете выбрать другие, какие вам нравятся (просто если мы сразу отрисуем все регионы на одном графике, он получится нечитаемым)."
      ]
    },
    {
      "cell_type": "code",
      "execution_count": null,
      "metadata": {
        "id": "wr7uGPdNqgJV"
      },
      "outputs": [],
      "source": [
        "#ncov_ru_j = # вставьте код генерации с прошлого домашнего задания\n",
        "## либо, вы можете прочитать таблицу, но тогда приложите ее к этому домашнему заданию\n",
        "\n",
        "## В вашей таблице должны быть колонки:\n",
        "## \"Активных\" - число активных случаев = 'Заражений' - 'Выздоровлений' - 'Смертей'\n",
        "## \"Активных на 100К населения\"\n",
        "## \"Заражений на 100К населения\"\n",
        "## \"Смертей на 100К населения\"\n",
        "## \"Заражений за день на 100К населения\"\n",
        "## \"Смертей за день на 100К населения\"\n",
        "\n",
        "## Проверьте, что колонка \"Дата\" относится к типу \"datetime64\", если нет -- преобразуйте\n",
        "## В качестве индексов используйте колонки \"Регион\" и \"Дата\" "
      ]
    },
    {
      "cell_type": "code",
      "execution_count": null,
      "metadata": {
        "id": "3hpHSOplwePy"
      },
      "outputs": [],
      "source": [
        "regs = ['Забайкальский край', 'Ингушетия', 'Магаданская обл.', 'Москва', 'Мурманская обл.', \n",
        "        'Новосибирская обл.', 'Омская обл.', 'Санкт-Петербург', 'Татарстан', 'Чечня']"
      ]
    },
    {
      "cell_type": "code",
      "execution_count": null,
      "metadata": {
        "id": "Of3uy3HhwePy"
      },
      "outputs": [],
      "source": [
        "# YOUR CODE HERE"
      ]
    },
    {
      "cell_type": "markdown",
      "metadata": {
        "id": "jn8gZB2XwePy"
      },
      "source": [
        "### 4. Динамика прироста числа заражений (3 балла)\n",
        "\n",
        "1. Постройте график изменения прироста числа заражений начиная с сентября 2021 года с помощью sns.lineplot(). Что произойдёт, если вы не введёте hue? Постройте и такой график. *(1 балл)*\n",
        "2. Выведите оба графика в одной фигуре - в plt.subplots нужно указать число строк с помощью параметра nrows, однако, убедитесь, что получившийся график будет читаемым и различимым. *(выполните сразу оба графика в plt.subplots, отключите легенду, если она будет мешать, 2 балла)*"
      ]
    },
    {
      "cell_type": "code",
      "execution_count": null,
      "metadata": {
        "id": "I2XerF2XqgF2"
      },
      "outputs": [],
      "source": [
        "## создаете figure и axes, задаете размер фигуры и разрешение: \n",
        "fig, ax = plt.subplots(figsize = [6, 2.5], dpi = 300) ## например так\n",
        "sns.lineplot( x = 'Дата', y = '<Ваша колонка>', \n",
        "              data = <ваши данные>,\n",
        "              hue = 'ФО',\n",
        "              ax = ax )\n",
        "ax.set_title('Заражений за день на 100 тыс. населения')\n",
        "ax.grid(ls =':')\n",
        "## Если вы считаете, что данные лучше смотреть в логарифмической шкале, можете раскомментировать код, приведенный ниже\n",
        "#ax.set_xscale('log', base=10);\n",
        "#ax.set_yscale('log', base=10);\n",
        "## Помним про необходимость установить временные границы\n",
        "ax.set_xlim([pd.to_datetime('здесь что-то должно быть...'), <тут тоже должна быть дата> ]);\n",
        "plt.tight_layout()"
      ]
    },
    {
      "cell_type": "markdown",
      "metadata": {
        "id": "XynmV1sGwePz"
      },
      "source": [
        "### 5. Интерактивные графики (1 балл)\n",
        "\n",
        "Постройте график №1 из предыдущей клетки с помощью bokeh, holoviews или plotly."
      ]
    },
    {
      "cell_type": "code",
      "execution_count": null,
      "metadata": {
        "id": "12EU2OQUSt4K"
      },
      "outputs": [],
      "source": [
        "# import bokeh # библиотека для построения интерактивных графиков\n",
        "# !pip install holoviews ## -- если вам нужна эта библиотека -- установите ее\n",
        "# import holoviews as hv # импортируем holoviews\n",
        "# from bokeh.io import output_notebook\n",
        "# from bokeh.resources import INLINE\n",
        "# import holoviews.plotting.bokeh\n",
        "# output_notebook(resources=INLINE)\n",
        "# os.environ['HV_DOC_HTML'] = 'true'"
      ]
    },
    {
      "cell_type": "markdown",
      "metadata": {
        "id": "VtHW18nUzUEI"
      },
      "source": [
        "Домашнее задание сдаем в виде ноутбука *.ipynb -- можно расшарить ноутбук в Colab'е.  \n",
        "Обязательно указываем ФИО  \n",
        "Вопросы категорически приветствуются."
      ]
    }
  ],
  "metadata": {
    "anaconda-cloud": {},
    "colab": {
      "provenance": [],
      "toc_visible": true
    },
    "kernelspec": {
      "display_name": "Python 3",
      "language": "python",
      "name": "python3"
    },
    "language_info": {
      "codemirror_mode": {
        "name": "ipython",
        "version": 3
      },
      "file_extension": ".py",
      "mimetype": "text/x-python",
      "name": "python",
      "nbconvert_exporter": "python",
      "pygments_lexer": "ipython3",
      "version": "3.8.8"
    }
  },
  "nbformat": 4,
  "nbformat_minor": 0
}