{
 "cells": [
  {
   "cell_type": "code",
   "execution_count": 1,
   "id": "ad144729",
   "metadata": {},
   "outputs": [],
   "source": [
    "import pandas as pd"
   ]
  },
  {
   "cell_type": "code",
   "execution_count": null,
   "id": "c14eabbd",
   "metadata": {},
   "outputs": [],
   "source": [
    "from\n",
    "where \n",
    "group by\n",
    "select \n",
    "distinct \n"
   ]
  },
  {
   "cell_type": "code",
   "execution_count": 2,
   "id": "b57670c8",
   "metadata": {},
   "outputs": [
    {
     "data": {
      "text/html": [
       "<div>\n",
       "<style scoped>\n",
       "    .dataframe tbody tr th:only-of-type {\n",
       "        vertical-align: middle;\n",
       "    }\n",
       "\n",
       "    .dataframe tbody tr th {\n",
       "        vertical-align: top;\n",
       "    }\n",
       "\n",
       "    .dataframe thead th {\n",
       "        text-align: right;\n",
       "    }\n",
       "</style>\n",
       "<table border=\"1\" class=\"dataframe\">\n",
       "  <thead>\n",
       "    <tr style=\"text-align: right;\">\n",
       "      <th></th>\n",
       "      <th>A</th>\n",
       "      <th>B</th>\n",
       "    </tr>\n",
       "  </thead>\n",
       "  <tbody>\n",
       "    <tr>\n",
       "      <th>0</th>\n",
       "      <td>1</td>\n",
       "      <td>8</td>\n",
       "    </tr>\n",
       "    <tr>\n",
       "      <th>1</th>\n",
       "      <td>2</td>\n",
       "      <td>7</td>\n",
       "    </tr>\n",
       "    <tr>\n",
       "      <th>2</th>\n",
       "      <td>3</td>\n",
       "      <td>6</td>\n",
       "    </tr>\n",
       "    <tr>\n",
       "      <th>3</th>\n",
       "      <td>4</td>\n",
       "      <td>5</td>\n",
       "    </tr>\n",
       "    <tr>\n",
       "      <th>4</th>\n",
       "      <td>5</td>\n",
       "      <td>4</td>\n",
       "    </tr>\n",
       "    <tr>\n",
       "      <th>5</th>\n",
       "      <td>6</td>\n",
       "      <td>3</td>\n",
       "    </tr>\n",
       "    <tr>\n",
       "      <th>6</th>\n",
       "      <td>7</td>\n",
       "      <td>2</td>\n",
       "    </tr>\n",
       "    <tr>\n",
       "      <th>7</th>\n",
       "      <td>8</td>\n",
       "      <td>1</td>\n",
       "    </tr>\n",
       "  </tbody>\n",
       "</table>\n",
       "</div>"
      ],
      "text/plain": [
       "   A  B\n",
       "0  1  8\n",
       "1  2  7\n",
       "2  3  6\n",
       "3  4  5\n",
       "4  5  4\n",
       "5  6  3\n",
       "6  7  2\n",
       "7  8  1"
      ]
     },
     "execution_count": 2,
     "metadata": {},
     "output_type": "execute_result"
    }
   ],
   "source": [
    "a = [1,2,3,4,5,6,7,8]\n",
    "b = [8,7,6,5,4,3,2,1]\n",
    "intermediate_dictionary = {'A':a, 'B':b}\n",
    "df = pd.DataFrame(intermediate_dictionary)\n",
    "df"
   ]
  },
  {
   "cell_type": "code",
   "execution_count": 61,
   "id": "31bd1963",
   "metadata": {},
   "outputs": [],
   "source": [
    "double = lambda x: x*2"
   ]
  },
  {
   "cell_type": "code",
   "execution_count": 62,
   "id": "8a631ae6",
   "metadata": {},
   "outputs": [
    {
     "data": {
      "text/plain": [
       "6"
      ]
     },
     "execution_count": 62,
     "metadata": {},
     "output_type": "execute_result"
    }
   ],
   "source": [
    "double(3)"
   ]
  },
  {
   "cell_type": "code",
   "execution_count": 2,
   "id": "06577642",
   "metadata": {},
   "outputs": [
    {
     "name": "stderr",
     "output_type": "stream",
     "text": [
      "Processing fields:   0%|                                                                         | 0/2 [00:00<?, ?it/s]\n",
      "Processing tax_nums:   0%|                                                                       | 0/3 [00:00<?, ?it/s]\u001b[A\n",
      "                                                                                                                       \u001b[A\n",
      "Processing tax_nums:   0%|                                                                       | 0/3 [00:00<?, ?it/s]\u001b[A\n",
      "Processing fields: 100%|████████████████████████████████████████████████████████████████| 2/2 [00:00<00:00, 145.55it/s]\u001b[A\n"
     ]
    },
    {
     "data": {
      "text/html": [
       "<div>\n",
       "<style scoped>\n",
       "    .dataframe tbody tr th:only-of-type {\n",
       "        vertical-align: middle;\n",
       "    }\n",
       "\n",
       "    .dataframe tbody tr th {\n",
       "        vertical-align: top;\n",
       "    }\n",
       "\n",
       "    .dataframe thead th {\n",
       "        text-align: right;\n",
       "    }\n",
       "</style>\n",
       "<table border=\"1\" class=\"dataframe\">\n",
       "  <thead>\n",
       "    <tr style=\"text-align: right;\">\n",
       "      <th></th>\n",
       "      <th>tax_num</th>\n",
       "      <th>field1</th>\n",
       "      <th>field2</th>\n",
       "    </tr>\n",
       "  </thead>\n",
       "  <tbody>\n",
       "    <tr>\n",
       "      <th>0</th>\n",
       "      <td>1</td>\n",
       "      <td>2.0</td>\n",
       "      <td>1.0</td>\n",
       "    </tr>\n",
       "    <tr>\n",
       "      <th>1</th>\n",
       "      <td>1</td>\n",
       "      <td>2.0</td>\n",
       "      <td>1.0</td>\n",
       "    </tr>\n",
       "    <tr>\n",
       "      <th>2</th>\n",
       "      <td>2</td>\n",
       "      <td>3.0</td>\n",
       "      <td>3.0</td>\n",
       "    </tr>\n",
       "    <tr>\n",
       "      <th>3</th>\n",
       "      <td>2</td>\n",
       "      <td>3.0</td>\n",
       "      <td>4.0</td>\n",
       "    </tr>\n",
       "    <tr>\n",
       "      <th>4</th>\n",
       "      <td>3</td>\n",
       "      <td>5.0</td>\n",
       "      <td>6.0</td>\n",
       "    </tr>\n",
       "  </tbody>\n",
       "</table>\n",
       "</div>"
      ],
      "text/plain": [
       "   tax_num  field1  field2\n",
       "0        1     2.0     1.0\n",
       "1        1     2.0     1.0\n",
       "2        2     3.0     3.0\n",
       "3        2     3.0     4.0\n",
       "4        3     5.0     6.0"
      ]
     },
     "execution_count": 2,
     "metadata": {},
     "output_type": "execute_result"
    }
   ],
   "source": [
    "# Импортируем необходимые библиотеки\n",
    "import pandas as pd\n",
    "from tqdm import tqdm\n",
    "\n",
    "# Создадим пример датафрейма\n",
    "data = {\n",
    "    \"tax_num\": [1, 1, 2, 2, 3, 3, 3],\n",
    "    \"field1\": [None, 2, 3, None, 5, None, 7],\n",
    "    \"field2\": [1, None, 3, 4, None, 6, None]\n",
    "}\n",
    "df = pd.DataFrame(data)\n",
    "\n",
    "# Создадим пример датафрейма с правилами\n",
    "filtered_pusto_df = pd.DataFrame({\n",
    "    \"Название поля\": [\"field1\", \"field2\"],\n",
    "    \"На что менять\": [1.0, 2.0]\n",
    "})\n",
    "\n",
    "# Функция заполнения пропущенных значений с прогресс-баром\n",
    "def fill_missing_values(df, filtered_pusto_df):\n",
    "    df_computed = df.copy()\n",
    "\n",
    "    for index, row in tqdm(filtered_pusto_df.iterrows(), total=filtered_pusto_df.shape[0], desc=\"Processing fields\"):\n",
    "        field_name = row['Название поля']\n",
    "        action = row['На что менять']\n",
    "        if field_name in df_computed.columns:\n",
    "            tax_nums = df_computed['tax_num'].unique()\n",
    "            for tax_num in tqdm(tax_nums, desc=\"Processing tax_nums\", leave=False):\n",
    "                condition = df_computed['tax_num'] == tax_num\n",
    "                column_values = df_computed[condition][field_name]\n",
    "\n",
    "                if column_values.notnull().any():\n",
    "                    mean_value = column_values.mean()  # Среднее значение без учета NaN\n",
    "                    df_computed.loc[condition, field_name] = df_computed.loc[condition, field_name].fillna(mean_value)\n",
    "                else:\n",
    "                    fill_value = {1.0: 0, 2.0: 999999999999999}.get(action, np.nan)\n",
    "                    df_computed.loc[condition, field_name] = df_computed.loc[condition, field_name].fillna(fill_value)\n",
    "\n",
    "    return df_computed\n",
    "\n",
    "# Применим функцию к датафрейму\n",
    "updated_df = fill_missing_values(df, filtered_pusto_df)\n",
    "\n",
    "# Выведем результат\n",
    "updated_df.head()"
   ]
  }
 ],
 "metadata": {
  "kernelspec": {
   "display_name": "Python 3 (ipykernel)",
   "language": "python",
   "name": "python3"
  },
  "language_info": {
   "codemirror_mode": {
    "name": "ipython",
    "version": 3
   },
   "file_extension": ".py",
   "mimetype": "text/x-python",
   "name": "python",
   "nbconvert_exporter": "python",
   "pygments_lexer": "ipython3",
   "version": "3.11.5"
  }
 },
 "nbformat": 4,
 "nbformat_minor": 5
}
