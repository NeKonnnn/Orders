{
 "cells": [
  {
   "cell_type": "code",
   "execution_count": 6,
   "id": "ed3215cb",
   "metadata": {},
   "outputs": [
    {
     "data": {
      "text/plain": [
       "[1, 2, 3, 4]"
      ]
     },
     "execution_count": 6,
     "metadata": {},
     "output_type": "execute_result"
    }
   ],
   "source": [
    "def parse_input_to_adjacency_matrix(n, compact_adj_list):\n",
    "    \"\"\"\n",
    "    Функция для преобразования компактного представления матрицы смежности графа\n",
    "    в полную матрицу смежности.\n",
    "\n",
    "    :param n: количество вершин в графе\n",
    "    :param compact_adj_list: список строк, представляющих верхнюю диагональ матрицы смежности\n",
    "    :return: полная матрица смежности графа\n",
    "    \"\"\"\n",
    "    # Инициализируем матрицу смежности нулями\n",
    "    graph = [[0] * n for _ in range(n)]\n",
    "\n",
    "    # Заполняем матрицу смежности\n",
    "    for i in range(1, n):\n",
    "        for j, edge in enumerate(compact_adj_list[i - 1]):\n",
    "            graph[i][j] = graph[j][i] = int(edge)\n",
    "\n",
    "    return graph\n",
    "\n",
    "# Функция для поиска гамильтонова цикла\n",
    "def find_sequential_hamiltonian_cycle(graph):\n",
    "    N = len(graph)  # Количество вершин в графе\n",
    "    path = list(range(N))  # Предполагаемый гамильтонов цикл\n",
    "    \n",
    "    # Начнем с первой вершины и пойдем по порядку\n",
    "    for i in range(N):\n",
    "        path[i] = i\n",
    "\n",
    "    # Проверим, что последовательные вершины связаны\n",
    "    for i in range(1, N):\n",
    "        if graph[path[i-1]][path[i]] == 0:\n",
    "            return None  # Если нет ребра, гамильтонов цикл невозможен\n",
    "\n",
    "    # Проверим, что последняя и первая вершины связаны\n",
    "    if graph[path[-1]][path[0]] == 0:\n",
    "        return None  # Если нет ребра, гамильтонов цикл невозможен\n",
    "\n",
    "    # Преобразуем путь в 1-индексацию\n",
    "    return [vertex + 1 for vertex in path]\n",
    "\n",
    "# Исходные данные в компактном виде\n",
    "n = 4  # Количество вершин\n",
    "compact_adj_list = [\"1\", \"11\", \"101\"]  # Компактное представление матрицы смежности\n",
    "\n",
    "# Преобразуем компактное представление в полную матрицу смежности\n",
    "full_graph = parse_input_to_adjacency_matrix(n, compact_adj_list)\n",
    "\n",
    "# Ищем гамильтонов цикл\n",
    "find_sequential_hamiltonian_cycle(full_graph)"
   ]
  }
 ],
 "metadata": {
  "kernelspec": {
   "display_name": "Python 3 (ipykernel)",
   "language": "python",
   "name": "python3"
  },
  "language_info": {
   "codemirror_mode": {
    "name": "ipython",
    "version": 3
   },
   "file_extension": ".py",
   "mimetype": "text/x-python",
   "name": "python",
   "nbconvert_exporter": "python",
   "pygments_lexer": "ipython3",
   "version": "3.11.5"
  }
 },
 "nbformat": 4,
 "nbformat_minor": 5
}
