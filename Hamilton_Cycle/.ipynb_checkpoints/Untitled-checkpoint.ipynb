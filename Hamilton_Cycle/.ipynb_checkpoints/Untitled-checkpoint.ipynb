{
 "cells": [
  {
   "cell_type": "code",
   "execution_count": 4,
   "id": "0aae6359",
   "metadata": {
    "scrolled": true
   },
   "outputs": [],
   "source": [
    "def read_and_create_matrix(n, input_data):\n",
    "    \"\"\"\n",
    "    Преобразует входные данные в матрицу смежности.\n",
    "\n",
    "    :param n: Количество вершин в графе.\n",
    "    :param input_data: Строки входных данных, содержащие матрицу смежности в сокращённом виде.\n",
    "    :return: Полная матрица смежности.\n",
    "    \"\"\"\n",
    "    matrix = [[0 for _ in range(n)] for _ in range(n)]\n",
    "\n",
    "    # Заполнение матрицы смежности\n",
    "    for i in range(1, n):\n",
    "        for j in range(len(input_data[i-1])):\n",
    "            if input_data[i-1][j] == '1':\n",
    "                matrix[i][j] = 1\n",
    "                matrix[j][i] = 1  # Симметричное заполнение\n",
    "\n",
    "    return matrix\n",
    "\n",
    "def find_hamiltonian_cycle_general(matrix):\n",
    "    \"\"\"\n",
    "    Находит гамильтонов цикл в заданной матрице смежности.\n",
    "\n",
    "    :param matrix: Матрица смежности графа.\n",
    "    :return: Гамильтонов цикл, если он существует, иначе None.\n",
    "    \"\"\"\n",
    "    n = len(matrix)\n",
    "    \n",
    "    def can_add_to_path(v, path):\n",
    "        return (matrix[path[-1]][v] == 1 and v not in path) or (len(path) == n and v == path[0])\n",
    "\n",
    "    def search_path(path):\n",
    "        if len(path) == n + 1:\n",
    "            return path\n",
    "\n",
    "        for v in range(n):\n",
    "            if can_add_to_path(v, path):\n",
    "                result = search_path(path + [v])\n",
    "                if result is not None:\n",
    "                    return result\n",
    "\n",
    "        return None\n",
    "\n",
    "    for start in range(n):\n",
    "        path = search_path([start])\n",
    "        if path is not None:\n",
    "            return [vertex + 1 for vertex in path][:-1]  # Перевод в 1-базированную индексацию и удаление последнего элемента\n",
    "\n",
    "    return None\n",
    "\n",
    "# # Пример входных данных, где первое число указывает количество вершин\n",
    "# n = 4  # Количество вершин\n",
    "# example_input = [\"1\", \"11\", \"101\"]\n",
    "\n",
    "# # Преобразование в матрицу смежности и поиск гамильтонова цикла\n",
    "# matrix = read_and_create_matrix(n, example_input)\n",
    "# find_hamiltonian_cycle_general(matrix)"
   ]
  }
 ],
 "metadata": {
  "kernelspec": {
   "display_name": "Python 3 (ipykernel)",
   "language": "python",
   "name": "python3"
  },
  "language_info": {
   "codemirror_mode": {
    "name": "ipython",
    "version": 3
   },
   "file_extension": ".py",
   "mimetype": "text/x-python",
   "name": "python",
   "nbconvert_exporter": "python",
   "pygments_lexer": "ipython3",
   "version": "3.11.5"
  }
 },
 "nbformat": 4,
 "nbformat_minor": 5
}
