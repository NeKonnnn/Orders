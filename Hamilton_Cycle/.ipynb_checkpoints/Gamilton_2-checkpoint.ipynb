{
 "cells": [
  {
   "cell_type": "code",
   "execution_count": 1,
   "id": "545aa3ea",
   "metadata": {},
   "outputs": [
    {
     "name": "stdout",
     "output_type": "stream",
     "text": [
      "Введите количество вершин в графе: 4\n",
      "Введите строки компактного представления матрицы смежности:\n",
      "Строка 1: 1\n",
      "Строка 2: 11\n",
      "Строка 3: 101\n",
      "Гамильтонов цикл найден: [1, 2, 3, 4]\n"
     ]
    }
   ],
   "source": [
    "def parse_input_to_adjacency_matrix(n, compact_adj_list):\n",
    "    \"\"\"\n",
    "    Функция преобразует компактное представление матрицы смежности графа\n",
    "    в полную матрицу смежности.\n",
    "\n",
    "    :param n: Количество вершин в графе.\n",
    "    :param compact_adj_list: Список строк, который представляет собой верхнюю диагональ матрицы смежности.\n",
    "    :return: Полная матрица смежности графа.\n",
    "    \"\"\"\n",
    "    # Инициализация матрицы смежности нулями\n",
    "    graph = [[0] * n for _ in range(n)]\n",
    "    # Заполнение матрицы смежности на основе входных данных\n",
    "    for i in range(1, n):\n",
    "        for j, edge in enumerate(compact_adj_list[i - 1]):\n",
    "            graph[i][j] = graph[j][i] = int(edge)\n",
    "    return graph\n",
    "\n",
    "def find_sequential_hamiltonian_cycle(graph):\n",
    "    \"\"\"\n",
    "    Функция ищет гамильтонов цикл в графе, который идет последовательно\n",
    "    через все вершины.\n",
    "\n",
    "    :param graph: Полная матрица смежности графа.\n",
    "    :return: Список вершин, образующих гамильтонов цикл, или None, если такого цикла нет.\n",
    "    \"\"\"\n",
    "    # Количество вершин в графе\n",
    "    N = len(graph)\n",
    "    # Предполагаемый гамильтонов цикл\n",
    "    path = list(range(N))\n",
    "    # Проверка связности последовательных вершин\n",
    "    for i in range(1, N):\n",
    "        if graph[path[i-1]][path[i]] == 0:\n",
    "            return None  # Если нет ребра, цикл невозможен\n",
    "    # Проверка связности последней и первой вершины\n",
    "    if graph[path[-1]][path[0]] == 0:\n",
    "        return None  # Если нет ребра, цикл невозможен\n",
    "    # Преобразование пути к 1-индексации\n",
    "    return [vertex + 1 for vertex in path]\n",
    "\n",
    "def main():\n",
    "    # Запрос количества вершин у пользователя\n",
    "    n = int(input(\"Введите количество вершин в графе: \"))\n",
    "    # Список для хранения строк компактного представления матрицы смежности\n",
    "    compact_adj_list = []\n",
    "    print(\"Введите строки компактного представления матрицы смежности:\")\n",
    "    for i in range(1, n):\n",
    "        # Запрос строки у пользователя\n",
    "        row = input(f\"Строка {i}: \")\n",
    "        compact_adj_list.append(row)\n",
    "    # Преобразование входных данных в полную матрицу смежности\n",
    "    full_graph = parse_input_to_adjacency_matrix(n, compact_adj_list)\n",
    "    # Поиск гамильтонова цикла\n",
    "    cycle = find_sequential_hamiltonian_cycle(full_graph)\n",
    "    # Вывод результата\n",
    "    if cycle:\n",
    "        print(\"Гамильтонов цикл найден:\", cycle)\n",
    "    else:\n",
    "        print(\"Гамильтонов цикл не существует в данном графе.\")\n",
    "\n",
    "# Точка входа в программу\n",
    "if __name__ == \"__main__\":\n",
    "    main()"
   ]
  }
 ],
 "metadata": {
  "kernelspec": {
   "display_name": "Python 3 (ipykernel)",
   "language": "python",
   "name": "python3"
  },
  "language_info": {
   "codemirror_mode": {
    "name": "ipython",
    "version": 3
   },
   "file_extension": ".py",
   "mimetype": "text/x-python",
   "name": "python",
   "nbconvert_exporter": "python",
   "pygments_lexer": "ipython3",
   "version": "3.11.5"
  }
 },
 "nbformat": 4,
 "nbformat_minor": 5
}
